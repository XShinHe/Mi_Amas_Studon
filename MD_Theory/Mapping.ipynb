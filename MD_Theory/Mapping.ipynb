{
 "cells": [
  {
   "cell_type": "markdown",
   "metadata": {},
   "source": [
    "<h4 style=\"text-align:right\">CCME,&nbsp; Peking University</h4>\n",
    "***\n",
    "<p>\n",
    "<h1 style=\"text-align:center\"><font face=\"Times Roman\" size=8> Mapping Hamiltonian </font></h1>\n",
    "<br>\n",
    "<h2 style=\"text-align:center\"><font face=\"Times Roman\">Author &nbsp;XShinHe</font> </h2>\n",
    "<h2 style=\"text-align:center\"><font face=\"Times Roman\">2018.8</font> </h2>"
   ]
  },
  {
   "cell_type": "markdown",
   "metadata": {},
   "source": [
    "## 1. Exact Hamiltonian"
   ]
  },
  {
   "cell_type": "markdown",
   "metadata": {},
   "source": [
    "> given a F orthonormal state  \n",
    "$$\\hat{H} = \\sum_{m,n}^F H_{mn} \\mid m \\rangle\\langle n\\mid$$  "
   ]
  },
  {
   "cell_type": "markdown",
   "metadata": {},
   "source": [
    "* ### Mapping to F+1 states:  \n",
    "$$\\mid n\\rangle \\overset{def}{==}\\mid 0_1,0_2,\\cdots,1_n,\\cdots,0_F \\rangle = \\hat{a}^{\\dagger}_n \\mid n\\rangle$$  \n",
    "so defines:  \n",
    "$$\\hat{a}^{\\dagger}_n = \\mid n\\rangle\\langle  0 \\mid $$\n",
    "$$\\hat{a}_n = \\mid 0\\rangle\\langle  n \\mid $$  \n",
    "$$\\hat{1}^{(n)} = \\mid n\\rangle\\langle  n \\mid + \\mid 0\\rangle\\langle  0 \\mid$$\n",
    "$$\\hat{\\sigma}^{(n)}_z = \\mid n\\rangle\\langle  n \\mid - \\mid 0\\rangle\\langle  0 \\mid$$  "
   ]
  },
  {
   "cell_type": "markdown",
   "metadata": {},
   "source": [
    "> * from definition:  \n",
    "$$\\hat{a}^{\\dagger}_n \\hat{a}_n = \\mid n \\rangle\\langle n\\mid,\\,\\,\\hat{a}^{\\dagger}_m \\hat{a}_n = \\mid m \\rangle\\langle n\\mid$$  \n",
    "$$\\hat{a}_n \\hat{a}^{\\dagger}_n = \\hat{a}_m \\hat{a}^{\\dagger}_m = \\mid 0 \\rangle\\langle 0\\mid $$  \n",
    "$$\\hat{a}_n \\hat{a}^{\\dagger}_m = \\hat{a}_m \\hat{a}^{\\dagger}_n = 0 $$ "
   ]
  },
  {
   "cell_type": "markdown",
   "metadata": {},
   "source": [
    "> * legal for only single creation / annihilation:    \n",
    "$$\\hat{a}^{\\dagger}_n \\hat{a}^{\\dagger}_n = \\hat{a}^{\\dagger}_m \\hat{a}^{\\dagger}_n = 0 $$ \n",
    "$$\\hat{a}_n \\hat{a}_n = \\hat{a}_m \\hat{a}_n = 0 $$ "
   ]
  },
  {
   "cell_type": "markdown",
   "metadata": {},
   "source": [
    "> * __CONCLUSION__:  \n",
    "$$\\hat{a}^{\\dagger}_m \\hat{a}_n = \\mid m \\rangle\\langle n\\mid$$\n",
    "$$\\hat{a}_m \\hat{a}^{\\dagger}_n = \\delta_{mn}\\mid 0 \\rangle\\langle 0\\mid$$\n",
    "$$  \\hat{a}^{\\dagger}_m \\hat{a}^{\\dagger}_n = 0 $$ \n",
    "$$  \\hat{a}_m \\hat{a}_n = 0 $$ "
   ]
  },
  {
   "cell_type": "markdown",
   "metadata": {},
   "source": [
    "* ### Commutation relation  \n",
    "$$ [\\hat{a}^{\\dagger}_n,\\hat{a}_m] = \\mid n \\rangle\\langle m \\mid - \\delta_{mn} \\mid 0\\rangle\\langle 0 \\mid$$\n",
    "$$ [\\hat{a}^{\\dagger}_n,\\hat{a}_m]_+ = \\mid n \\rangle\\langle m \\mid + \\delta_{mn} \\mid 0\\rangle\\langle 0 \\mid$$\n",
    "$$ [\\hat{a}^{\\dagger}_n, \\hat{a}^{\\dagger}_m] = [\\hat{a}_n,\\hat{a}_m]_+ = 0 $$\n",
    "especially:  \n",
    "$$ [\\hat{a}^{\\dagger}_n,\\hat{a}_n] = \\hat{\\sigma}^{(n)_z}$$\n",
    "$$ [\\hat{a}^{\\dagger}_n,\\hat{a}_n]_+ = \\hat{1}^{(n)}$$"
   ]
  },
  {
   "cell_type": "markdown",
   "metadata": {},
   "source": [
    "* ###  Second Quantumilized Hamiltonian  \n",
    "$$\\hat{H} = \\sum_{m,n}^F H_{mn} \\hat{a}^{\\dagger}_m \\hat{a}_n$$  "
   ]
  },
  {
   "cell_type": "markdown",
   "metadata": {},
   "source": [
    "## 2. Original evolution equation  \n",
    "$$\\mid \\phi\\rangle = \\sum_n^F c_n \\mid n\\rangle$$  \n",
    "with normalization:  \n",
    "$$\\sum_n^F |c_n|^2 =1$$  \n",
    "then Schr$\\ddot{o}$dinger equation write as evolution equation ( let $\\hbar = 1$ ):  \n",
    "$$ i \\dot{c}_n(t) = \\sum_m^F H_{nm} c_m(t)$$  \n",
    "if to expension to 2-dimension:  \n",
    "$$\\hat{\\rho} = \\mid \\phi\\rangle\\langle \\phi \\mid = \\sum_{n,m} c_m c^{*}_n \\mid m\\rangle\\langle n\\mid = \\sum_{n,m} P_{mn} \\mid m\\rangle\\langle n\\mid$$"
   ]
  },
  {
   "cell_type": "markdown",
   "metadata": {},
   "source": [
    "## 3. Formulation choise  "
   ]
  },
  {
   "cell_type": "markdown",
   "metadata": {},
   "source": [
    "* ### Central mission  \n",
    "Formulate the operater $\\hat{a}^{\\dagger}_n\\hat{a}_m$, in which be easier mapping to a trejectory. "
   ]
  },
  {
   "cell_type": "markdown",
   "metadata": {},
   "source": [
    "* ### Intra-subspace relation ( Pauli matrix ) --- formulation of $\\hat{a}^{\\dagger}_n\\hat{a}_n$ \n",
    "Note the occupation of $\\mid n\\rangle$  state forms a two-component sub-space:  \n",
    "$$\\begin{pmatrix}\n",
    "V_{nn} & V_{n0} \\\\\n",
    "V_{0n} & V_{00} \\\\\n",
    "\\end{pmatrix}$$\n",
    "we can use a complete basis --- Pauli matrix to form this matrix space:  \n",
    "$$\\begin{pmatrix}\n",
    "1 & 0 \\\\\n",
    "0 & 1 \\\\\n",
    "\\end{pmatrix} \\mapsto \\hat{1}^{(n)} = \\mid n\\rangle\\langle n\\mid + \\mid 0\\rangle\\langle 0\\mid \\, \\overset{also}{==} [\\hat{a}^{\\dagger}_n,\\hat{a}_n]_+ $$\n",
    "$$\\begin{pmatrix}\n",
    "1 & 0 \\\\\n",
    "0 & -1 \\\\\n",
    "\\end{pmatrix} \\mapsto \\hat{\\sigma}^{(n)}_z = \\mid n\\rangle\\langle n\\mid - \\mid 0\\rangle\\langle 0\\mid \\, \\overset{also}{==} [\\hat{a}^{\\dagger}_n,\\hat{a}_n] $$\n",
    "$$\\begin{pmatrix}\n",
    "0 & 1 \\\\\n",
    "1 & 0 \\\\\n",
    "\\end{pmatrix} \\mapsto \\hat{\\sigma}^{(n)}_x = \\mid n\\rangle\\langle 0\\mid + \\mid 0\\rangle\\langle n\\mid \\, \\overset{also}{==} \\hat{a}^{\\dagger}_n + \\hat{a}_n$$\n",
    "$$\\begin{pmatrix}\n",
    "0 & -i \\\\\n",
    "i & 0 \\\\\n",
    "\\end{pmatrix} \\mapsto \\hat{\\sigma}^{(n)}_y = -i\\mid n\\rangle\\langle 0\\mid + i\\mid 0\\rangle\\langle n\\mid \\, \\overset{also}{==} \\frac{\\hat{a}^{\\dagger}_n - \\hat{a}_n}{i} $$\n",
    "so it's straightforward to show Pauli matrix relation as:   \n",
    "$$ [\\hat{\\sigma}^{(n)}_a,\\hat{\\sigma}^{(n)}_b] = 2i\\varepsilon_{abc} \\hat{\\sigma}^{(n)}_c $$\n",
    "$$ \\hat{\\sigma}^{(n)}_x \\hat{\\sigma}^{(n)}_x = \\hat{\\sigma}^{(n)}_y \\hat{\\sigma}^{(n)}_y = \\hat{\\sigma}^{(n)}_z \\hat{\\sigma}^{(n)}_z =\\hat{1}^{(n)}$$  \n",
    "or an isomorphism:   \n",
    "$$ \\hat{\\sigma}^{(n)}_a \\hat{\\sigma}^{(n)}_b = \\delta_{ab} \\hat{1}^{(n)} + i\\varepsilon_{abc} \\hat{\\sigma}^{(n)}_c $$"
   ]
  },
  {
   "cell_type": "markdown",
   "metadata": {},
   "source": [
    "> **Choise** : \n",
    "* case 1 : map to one-dimension (z) \n",
    "$$\\hat{a}^{\\dagger}_n\\hat{a}_n = \\frac{1}{2} (\\hat{1}^{(n)} + \\hat{\\sigma}^{(n)}_z) $$  \n",
    "in which, $\\hat{1}^{(n)}$ can by replaced with $[\\hat{\\sigma}^{(n)}_z]^2$  \n",
    "$$\\hat{a}^{\\dagger}_n\\hat{a}_n = \\frac{1}{2} \\big( (1-\\lambda)\\hat{1}^{(n)} + \\lambda [\\hat{\\sigma}^{(n)}_z]^2 + \\hat{\\sigma}^{(n)}_z \\big) $$ \n",
    "* case 2 : map to two-dimension (x, y)  \n",
    "in which, $\\hat{1}^{(n)}$ can by replaced with $[\\hat{\\sigma}^{(n)}_x]^2$ or $[\\hat{\\sigma}^{(n)}_y]^2$, and $\\hat{\\sigma}^{(n)}_z$ can be replaced by $\\frac{1}{2i}[\\hat{\\sigma}^{(n)}_x, \\hat{\\sigma}^{(n)}_y]$\n",
    "$$\\hat{a}^{\\dagger}_n\\hat{a}_n = \\frac{1}{2} \\big((1-2\\lambda)\\hat{1}^{(n)} + \\lambda [\\hat{\\sigma}^{\\dagger}_x]^2 + \\lambda [\\hat{\\sigma}^{\\dagger}_y]^2 + \\frac{1}{2i}[\\hat{\\sigma}^{(n)}_x, \\hat{\\sigma}^{(n)}_y] \\big) $$\n",
    "when $\\lambda=1/2$  \n",
    "$$\\hat{a}^{\\dagger}_n\\hat{a}_n = \\frac{1}{2} \\big( \\frac{1}{2} [\\hat{\\sigma}^{\\dagger}_x]^2 + \\frac{1}{2}[\\hat{\\sigma}^{\\dagger}_y]^2 + \\frac{1}{2i}[\\hat{\\sigma}^{(n)}_x, \\hat{\\sigma}^{(n)}_y] \\big) $$\n",
    "* case 3 : map to three-dimension (x, y, z)  \n",
    "binding above two formula together"
   ]
  },
  {
   "cell_type": "markdown",
   "metadata": {},
   "source": [
    "> **Nomination**  \n",
    "* the dimension case : note as A,B,C\n",
    "* the order case  : note as 0,1,2  "
   ]
  },
  {
   "cell_type": "markdown",
   "metadata": {},
   "source": [
    "* ### Inter-subspace relation --- formulation of $\\hat{a}^{\\dagger}_n\\hat{a}_n$ \n",
    "Note this mapping also can be various:  \n",
    "Taking \n",
    "$$\\hat{\\sigma}^{(n)}_z = \\mid n\\rangle\\langle n\\mid - \\mid 0\\rangle\\langle 0\\mid \\\\ \n",
    "\\hat{\\sigma}^{(n)}_x = \\mid n\\rangle\\langle 0\\mid + \\mid 0\\rangle\\langle n\\mid \\\\\n",
    "\\hat{\\sigma}^{(n)}_y = -i\\mid n\\rangle\\langle 0\\mid + i\\mid 0\\rangle\\langle n\\mid$$\n",
    "directly to derive that:  \n",
    "$$ \\hat{a}^{\\dagger}_n  \\hat{a}_m = \\mid n\\rangle\\langle m\\mid= -i\\hat{\\sigma}^{(n)}_x \\hat{\\sigma}^{(m)}_y = i \\hat{\\sigma}^{(n)}_y \\hat{\\sigma}^{(m)}_x = \\hat{\\sigma}^{(n)}_x \\hat{\\sigma}^{(m)}_x = \\hat{\\sigma}^{(n)}_y\\hat{\\sigma}^{(m)}_y $$  \n",
    "\\* _note there is a little difference from lieratue **J. Chem. Phys. 145, 204105 (2016)**_  \n",
    "Considering a symmetric Hamiltonian formation with $H_{nm}=H_{mn}$, so also can combine the two terms as $\\hat{a}^{\\dagger}_n  \\hat{a}_m + \\hat{a}^{\\dagger}_m \\hat{a}_n$:  \n",
    "It's easy to show this term must just be combination of $ \\hat{\\sigma}^{(n)}_x $ and $ \\hat{\\sigma}^{(n)}_y $, independent of $ \\hat{\\sigma}^{(n)}_z $ and $ \\hat{1}^{(n)} $ ."
   ]
  },
  {
   "cell_type": "markdown",
   "metadata": {},
   "source": [
    "* Single term:"
   ]
  },
  {
   "cell_type": "markdown",
   "metadata": {},
   "source": [
    "> * case 1\n",
    "$$ \\hat{a}^{\\dagger}_n  \\hat{a}_m + \\hat{a}^{\\dagger}_m \\hat{a}_n = -i\\hat{\\sigma}^{(n)}_x \\hat{\\sigma}^{(m)}_y + i \\hat{\\sigma}^{(m)}_y \\hat{\\sigma}^{(n)}_x = -i [\\hat{\\sigma}^{(n)}_x, \\hat{\\sigma}^{(m)}_y]$$  \n",
    "> * case 2  \n",
    "Similiarly with:  \n",
    "$$ \\hat{a}^{\\dagger}_n  \\hat{a}_m + \\hat{a}^{\\dagger}_m \\hat{a}_n = i\\hat{\\sigma}^{(n)}_y \\hat{\\sigma}^{(m)}_x - i \\hat{\\sigma}^{(m)}_x \\hat{\\sigma}^{(n)}_y = i [\\hat{\\sigma}^{(n)}_y, \\hat{\\sigma}^{(m)}_x]$$  \n",
    "> * case 3  \n",
    "Or:  \n",
    "$$ \\hat{a}^{\\dagger}_n  \\hat{a}_m + \\hat{a}^{\\dagger}_m \\hat{a}_n = \\hat{\\sigma}^{(n)}_x \\hat{\\sigma}^{(m)}_x +  \\hat{\\sigma}^{(m)}_x \\hat{\\sigma}^{(n)}_x = [\\hat{\\sigma}^{(n)}_x, \\hat{\\sigma}^{(m)}_x]_+$$\n",
    "$$ \\hat{a}^{\\dagger}_n  \\hat{a}_m + \\hat{a}^{\\dagger}_m \\hat{a}_n = \\hat{\\sigma}^{(n)}_y \\hat{\\sigma}^{(m)}_y +  \\hat{\\sigma}^{(m)}_y \\hat{\\sigma}^{(n)}_y = [\\hat{\\sigma}^{(n)}_y, \\hat{\\sigma}^{(m)}_y]_+$$ "
   ]
  },
  {
   "cell_type": "markdown",
   "metadata": {},
   "source": [
    "* Mixed terms  \n",
    "like:"
   ]
  },
  {
   "cell_type": "markdown",
   "metadata": {},
   "source": [
    "> \n",
    "$$\\hat{a}^{\\dagger}_n  \\hat{a}_m + \\hat{a}^{\\dagger}_m \\hat{a}_n = \\frac{i}{2} \\big( - [\\hat{\\sigma}^{(n)}_x, \\hat{\\sigma}^{(m)}_y] + [\\hat{\\sigma}^{(n)}_y, \\hat{\\sigma}^{(m)}_x] \\big) = \n",
    "\\frac{1}{2i} \\big( [\\hat{\\sigma}^{(n)}_x, \\hat{\\sigma}^{(m)}_y] - [\\hat{\\sigma}^{(n)}_y, \\hat{\\sigma}^{(m)}_x] \\big) $$  \n",
    "$$\\hat{a}^{\\dagger}_n  \\hat{a}_m + \\hat{a}^{\\dagger}_m \\hat{a}_n = \\frac{1}{2} \\big( [\\hat{\\sigma}^{(n)}_x, \\hat{\\sigma}^{(m)}_x]_+ + [\\hat{\\sigma}^{(n)}_y, \\hat{\\sigma}^{(m)}_y]_+ \\big)$$"
   ]
  },
  {
   "cell_type": "markdown",
   "metadata": {},
   "source": [
    "## 4. Mapping principle"
   ]
  },
  {
   "cell_type": "markdown",
   "metadata": {},
   "source": [
    "* ### Hypothesis   "
   ]
  },
  {
   "cell_type": "markdown",
   "metadata": {},
   "source": [
    "> * All real part"
   ]
  },
  {
   "cell_type": "markdown",
   "metadata": {},
   "source": [
    "* ### Method "
   ]
  },
  {
   "cell_type": "markdown",
   "metadata": {},
   "source": [
    "> * case 1  \n",
    "note intra-subspace term, with \n",
    "$$ \\frac{1}{2i}[\\hat{\\sigma}^{(n)}_x,\\hat{\\sigma}^{(n)}_y] = \\hat{\\sigma}^{(n)}_z $$ "
   ]
  },
  {
   "cell_type": "markdown",
   "metadata": {},
   "source": [
    ">> * one can map (case 1-a):  \n",
    "$$ \\frac{1}{2i}[\\hat{\\sigma}^{(n)}_a,\\hat{\\sigma}^{(m)}_b] \\mapsto x_a^{(n)} p_b^{(m)} - x_b^{(m)} p_a^{(n)} $$\n",
    "$$ \\frac{1}{2}\\big( \\hat{1}^{(n)} + \\frac{1}{2i}[\\hat{\\sigma}^{(n)}_a,\\hat{\\sigma}^{(n)}_b] \\big)\n",
    "\\mapsto x_a^{(n)} p_b^{(n)} - x_b^{(n)} p_a^{(n)} $$  \n",
    "Here second formula considering the eigenvalue shift from $(\\frac{1}{2},-\\frac{1}{2})$ of spin-matrix to $(1,0)$ of occupation-matrix.  \n",
    ">> for  \n",
    "$$\\hat{H} \\overset{formula}{===} \\sum_n \\frac{1}{2}\\big( \\hat{1}^{(n)} + \\frac{1}{2i} [\\hat{\\sigma}^{(n)}_x,\\hat{\\sigma}^{(n)}_y] \\big) H_{nn} + \\sum_{n<m} \\frac{1}{2i} \\big( [\\hat{\\sigma}^{(n)}_x, \\hat{\\sigma}^{(m)}_y] - [\\hat{\\sigma}^{(n)}_y, \\hat{\\sigma}^{(m)}_x] \\big) H_{nm} $$\n",
    "to  \n",
    "$$ H \\overset{map}{===} \\sum_n \\big( x^{(n)} p_y^{(n)} - y^{(n)} p_x^{(n)} \\big) H_{nn} + \\sum_{n<m} \\big( x^{(n)} p_y^{(m)} - y^{(m)} p_x^{(n)} - y^{(n)} p_x^{(m)} + x^{(m)} p_y^{(n)}  \\big) H_{nm} \\\\\n",
    "= \\sum_{n,m} \\big( x^{(n)} p_y^{(m)} - y^{(m)} p_x^{(n)} \\big) H_{nm}$$\n",
    "\n",
    ">> * alternatively (case 1-b)  \n",
    "$$ \\frac{1}{2i}[\\hat{\\sigma}^{(n)}_a,\\hat{\\sigma}^{(m)}_b] \n",
    "\\mapsto 2 x_a^{(n)} p_b^{(m)} - 2 x_b^{(m)} p_a^{(n)} - 1 $$  "
   ]
  },
  {
   "cell_type": "markdown",
   "metadata": {},
   "source": [
    "> * case 2  \n",
    "Similiar to oscillator:  \n",
    "$$ \\frac{1}{\\sqrt{2}} \\hat{\\sigma}^{(n)}_x = \\frac{1}{\\sqrt{2}} (\\hat{a}^{\\dagger}_n + \\hat{a}_n)\\mapsto x^{(n)}$$\n",
    "$$ \\frac{1}{\\sqrt{2}} \\hat{\\sigma}^{(n)}_y = \\frac{1}{\\sqrt{2}i} (\\hat{a}^{\\dagger}_n - \\hat{a}_n)\\mapsto p^{(n)}$$\n",
    "\n",
    ">> * case 2-a  \n",
    "for\n",
    "$$\\hat{H} \\overset{formula}{===} \\sum_n \\big(\\frac{1}{4} (\\hat{\\sigma}^{(n)}_x \\hat{\\sigma}^{(n)}_x + \\hat{\\sigma}^{(n)}_y \\hat{\\sigma}^{(n)}_y) + \\frac{1}{4i} [\\hat{\\sigma}^{(n)}_x,\\hat{\\sigma}^{(n)}_y] \\big) H_{nn} \\\\\n",
    "+ \\sum_{n<m} \\Big\\{ \\frac{1}{4i} \\big( [\\hat{\\sigma}^{(n)}_x, \\hat{\\sigma}^{(m)}_y] - [\\hat{\\sigma}^{(n)}_y, \\hat{\\sigma}^{(m)}_x] \\big) + \\frac{1}{4}\\big( [\\hat{\\sigma}^{(n)}_x, \\hat{\\sigma}^{(m)}_x]_+ + [\\hat{\\sigma}^{(n)}_y, \\hat{\\sigma}^{(m)}_y]_+ \\big)\\Big\\}  H_{nm} $$  \n",
    "in such mapping, the commutator all vanish! and anti-commutator degrade classially:  \n",
    "$$[A,B]\\mapsto 0,\\,\\,\\, [A,B]_+ \\mapsto 2AB$$\n",
    "to \n",
    "$$\\hat{H} \\overset{map}{===} \\sum_n \\frac{1}{2} (x^{(n)}x^{(n)} + p^{(n)}p^{(n)} )  H_{nn}\n",
    "+ \\sum_{n<m} (x^{(n)}x^{(m)} + p^{(n)}p^{(m)} )  H_{nm} $$  \n",
    "\n",
    ">> * case 2-b Meyer-Miller Model  \n",
    "$$\\hat{H} \\overset{map}{===} \\sum_n \\frac{1}{2} (x^{(n)}x^{(n)} + p^{(n)}p^{(n)} - \\gamma)  H_{nn}\n",
    "+ \\sum_{n<m} (x^{(n)}x^{(m)} + p^{(n)}p^{(m)} )  H_{nm} $$  "
   ]
  },
  {
   "cell_type": "markdown",
   "metadata": {},
   "source": [
    "> * case 3  \n",
    "Hypothesis that:  \n",
    "$$ \\hat{\\sigma}^{(n)}_a \\hat{\\sigma}^{(m)}_b \\mapsto \\big( x^{(n)}_a + ip^{(n)}_a\\big) \\big( x^{(m)}_b - ip^{(m)}_b\\big) $$  \n",
    "this both provide:  \n",
    "$$\\frac{1}{2}[\\hat{\\sigma}^{(n)}_a,\\hat{\\sigma}^{(m)}_a]_+ = x^{(n)}_a x^{(m)}_a + p^{(n)}_a p^{(m)}_a$$\n",
    "$$\\frac{1}{2i}[\\hat{\\sigma}^{(n)}_x,\\hat{\\sigma}^{(m)}_y] = x^{(n)} p^{(m)}_y -  y^{(m)} p^{(n)}_x$$"
   ]
  },
  {
   "cell_type": "markdown",
   "metadata": {},
   "source": [
    "### mapping summary"
   ]
  },
  {
   "cell_type": "markdown",
   "metadata": {},
   "source": [
    "\n",
    "| model    | intra mapping                        | inter mapping   |\n",
    "|----------|--------------------------------------|-----------------|\n",
    "| I        | $\\frac{1}{2}(1+i[-])$                | $i[-]$          |\n",
    "| II       | $\\frac{1}{2}(1_{xx+yy})$             | $[-]_+$         |\n",
    "| III      | mix  $\\frac{1}{2}(1_{xx+yy}+i[-])$   | $i[-]$          |\n",
    "| IV       | mix  $\\frac{1}{2}(1_{xx+yy}+i[-])$   | $[-]_+$         |\n",
    "| V        | mix  $\\frac{1}{2}(1_{xx+yy}+i[-])$   | mix             |\n",
    "| VI       | $\\frac{1}{2}(1+i[-])$                | $[-]_+$         |\n"
   ]
  },
  {
   "cell_type": "markdown",
   "metadata": {},
   "source": [
    "## 5. Spin Mapping Model"
   ]
  },
  {
   "cell_type": "markdown",
   "metadata": {},
   "source": [
    "for:  \n",
    "$$ \\hat{H} = \\sum_n \\frac{1}{2}(\\hat{1}^{(n)} + \\hat{\\sigma}^{(n)}_z) H_{nn} + \\sum_{n<m} \\frac{1}{2} \\big( [\\hat{\\sigma}^{(n)}_x, \\hat{\\sigma}^{(m)}_x]_+ + [\\hat{\\sigma}^{(n)}_y, \\hat{\\sigma}^{(m)}_y]_+ \\big) H_{nm}$$  \n",
    "mapping to:  \n",
    "$$ \\hat{H} = \\sum_n ( \\frac{1}{2}\\hat{1}^{(n)} + \\hat{S}^{(n)}_z) H_{nn} + \\sum_{n<m} \\big( [\\hat{S}^{(n)}_x, \\hat{S}^{(m)}_x]_+ + [\\hat{S}^{(n)}_y, \\hat{S}^{(m)}_y]_+ \\big) H_{nm}\n",
    "\\\\= \\sum_n ( \\frac{1}{2}\\hat{1}^{(n)} + S^{(n)}_z) H_{nn} + 2\\sum_{n<m} \\big( S^{(n)}_x S^{(m)}_x + S^{(n)}_y S^{(m)}_y \\big) H_{nm}$$  \n",
    "where:  \n",
    "$$\n",
    "\\mathbf{S^{(i)}} = \n",
    "\\begin{pmatrix} S^{(i)}_x \\\\ S^{(i)}_y \\\\ S^{(i)}_z \\end{pmatrix}\n",
    "= \\begin{pmatrix} \\sqrt{S^2 - (m^{(i)})^2}cos(q^{(i)}) \\\\ \n",
    "\\sqrt{S^2 - (m^{(i)})^2}sin(q^{(i)}) \\\\\n",
    "m^{(i)}\\end{pmatrix}\n",
    "$$"
   ]
  },
  {
   "cell_type": "markdown",
   "metadata": {},
   "source": [
    "so:  \n",
    "$$\n",
    "\\dot{q}^{(i)} = \\frac{\\partial H }{\\partial m^{(i)}} = (1+2m^{(i)}) H_{ii} - \\frac{2m^{(i)}}{\\sqrt{S^2 - (m^{(i)})^2}} \\sum_{i\\ne j} \\sqrt{S^2 - (m^{(j)})^2} cos(q^{(i)} - q^{(j)}) H_{ij}\n",
    "$$\n",
    "and\n",
    "$$\n",
    "\\dot{m}^{(i)} = -\\frac{\\partial H}{\\partial q^{(i)}} = \\sqrt{S^2 - (m^{(i)})^2} \\sum_{i\\ne j} \\sqrt{S^2 - (m^{(j)})^2} sin(q^{(i)} - q^{(j)}) H_{ij}\n",
    "$$"
   ]
  },
  {
   "cell_type": "markdown",
   "metadata": {},
   "source": [
    "but single trajectory might wrong! so one should averging all the trajecory for randoming $(q_i, q_j)$"
   ]
  },
  {
   "cell_type": "markdown",
   "metadata": {},
   "source": [
    "# 6. Quarterion Model"
   ]
  },
  {
   "cell_type": "markdown",
   "metadata": {},
   "source": [
    "as we know, the Schrodinger Equation on a set of basis (expension coefficient note as $c$), then the equation as:  \n",
    "$$\\dot{c}=-iHc$$\n",
    "as we know, this equation is in inner-product complex-space (or so called Hilbert space). But however if in more general case, in the quarterion-space?  \n",
    "as we see, the quarterion have four seperate unit:\n",
    "$$[1,i,j,k]$$\n",
    "with relations:  \n",
    "$$ 1^2=1, i^2=j^2=k^2=-1 \\\\\n",
    "ij=-ji=k, jk=-kj=i, ki=-ik=j$$\n",
    "and here we defines norm and conj operation as:  \n",
    "* conj: for $x=a+bi+cj+dk$, so $x^*=a-bi-cj-dk$  \n",
    "* norm: for $x=a+bi+cj+dk$, so $\\|x\\|^2=x^*x=a^2+b^2+c^2+d^2$  \n",
    "\n",
    "so as we know, the complex-space is just the 2D section of quarterion space, so any value of $\\mathbb{i}=\\alpha i+ \\beta j + \\gamma k$ can stand the action of imaginary unit of $i$ in the complex-space."
   ]
  },
  {
   "cell_type": "markdown",
   "metadata": {},
   "source": [
    "so if we let $c$ be quarterion, write $c=w+xi+yj+zk$  \n",
    "and use $\\mathbb{i}$ in the Schrodinger equation, so obtain the Schrodinger equation in quarterion space (still choose a set of basis).  \n",
    "$$\\dot{c}=-\\mathbb{i}Hc$$\n",
    "  \n",
    "so the equation can be:  \n",
    "$$ \\dot{w}+\\dot{x}i+\\dot{y}j+\\dot{z}k = - (\\alpha i+ \\beta j + \\gamma k)H(w+xi+yj+zk)$$"
   ]
  },
  {
   "cell_type": "markdown",
   "metadata": {},
   "source": [
    "then we obtain four dynamics equation as:  \n",
    "$$ \\dot{w} = 0 + \\alpha Hx + \\beta Hy + \\gamma Hz \\\\\n",
    "\\dot{x} = -\\alpha Hw + 0 + \\gamma Hy - \\beta Hz \\\\\n",
    "\\dot{y} = -\\beta Hw - \\gamma Hx + 0 + \\alpha Hz \\\\\n",
    "\\dot{z} = -\\gamma Hw + \\beta Hx - \\alpha Hy + 0 \\\\\n",
    "$$"
   ]
  },
  {
   "cell_type": "markdown",
   "metadata": {},
   "source": [
    "for sepcial case:  \n",
    "* 1. $(\\alpha,\\beta,\\gamma)$ is along to an axis as $(1,0,0)$. so the w & x are bound together, while y & z are bound together.  \n",
    "\n",
    "* 2. $(\\alpha,\\beta,\\gamma)$ is along to an axis as $(\\sqrt{2}/2,\\sqrt{2}/2,0)$ note $(\\alpha,\\alpha,0)$ where $\\alpha=\\sqrt{2}/2$. then  \n",
    "$$ \\dot{w} = 0 + \\alpha Hx + \\alpha Hy + 0 \\\\\n",
    "\\dot{x} = -\\alpha Hw + 0 + 0 - \\alpha Hz \\\\\n",
    "\\dot{y} = -\\alpha Hw + 0 + 0 + \\alpha Hz \\\\\n",
    "\\dot{z} = 0 + \\alpha Hx - \\alpha Hy + 0 \\\\\n",
    "$$"
   ]
  },
  {
   "cell_type": "code",
   "execution_count": null,
   "metadata": {},
   "outputs": [],
   "source": []
  }
 ],
 "metadata": {
  "kernelspec": {
   "display_name": "Python 3",
   "language": "python",
   "name": "python3"
  },
  "language_info": {
   "codemirror_mode": {
    "name": "ipython",
    "version": 3
   },
   "file_extension": ".py",
   "mimetype": "text/x-python",
   "name": "python",
   "nbconvert_exporter": "python",
   "pygments_lexer": "ipython3",
   "version": "3.6.4"
  }
 },
 "nbformat": 4,
 "nbformat_minor": 2
}
