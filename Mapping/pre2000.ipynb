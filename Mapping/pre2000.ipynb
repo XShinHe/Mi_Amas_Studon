{
 "cells": [
  {
   "cell_type": "markdown",
   "metadata": {},
   "source": [
    "## the History of Mapping Model"
   ]
  },
  {
   "cell_type": "markdown",
   "metadata": {},
   "source": [
    "## 1. Meyer-Miller, 1979"
   ]
  },
  {
   "cell_type": "markdown",
   "metadata": {},
   "source": [
    "the large modification in action-angle model:  \n",
    "$$\n",
    "H_{el} = \\sum_k n_k H_{kk}(R) + \\sum_{k\\ne k'} \\sqrt{(n_k + 1)(n_{k'}+1)} e^{i(q_k - q_{k'})} H_{kk'}(R)\n",
    "$$\n",
    "or equally:\n",
    "$$\n",
    "H_{el} = \\sum_{k}\\frac{1}{2}(x_k^2+p_k^2 - 1) H_{kk}(R) + \\sum_{k>k'}(x_k x_{k'} + p_k p_{k'}) H_{kk'}(R)\n",
    "$$"
   ]
  },
  {
   "cell_type": "markdown",
   "metadata": {},
   "source": [
    "> * example models:  \n",
    ">> * two state model (without larger)  \n",
    "$$\n",
    "H_{el} = n_1 H_{11} + n_2 H_{22} + 2\\sqrt{n_1 n_2} cos(q_1 - q_2) H_12\n",
    "$$\n",
    ">> * two state model (without larger)  \n",
    "$$\n",
    "H_{el} = (n_+ + n_-) \\bar{H} + n_0 H_{zz} + 2\\sqrt{n_+ n_-} cos(q_+ - q_-) \\Delta \\\\\n",
    "+ \\sqrt{2 n_+ n_0} \\Delta sin(q_+) H_{yz} + \\sqrt{2 n_- n_0} \\Delta sin(q_-) H_{yz}\n",
    "\\\\\n",
    "n_0 = 1 - n_+ - n_-\n",
    "$$"
   ]
  },
  {
   "cell_type": "markdown",
   "metadata": {},
   "source": [
    "> * test models:  \n",
    ">> * Landau-Zener model  \n",
    "$$\n",
    "H_{11}(t) = 0 \\\\\n",
    "H_{22}(t) = Ft \\\\\n",
    "H_{12}(t) = H_{21}(t) = const \\\\\n",
    "$$\n",
    ">> * general 2-states model  \n",
    "$$\n",
    "\\begin{bmatrix} a_1(t_2) \\\\ a_2(t_2) \\end{bmatrix} = \n",
    "\\begin{bmatrix} S_{11} & S_{12} \\\\ S_{21} & S_{22} \\end{bmatrix}\n",
    "\\begin{bmatrix} a_1(t_1) \\\\ a_2(t_1) \\end{bmatrix}\n",
    "$$"
   ]
  },
  {
   "cell_type": "markdown",
   "metadata": {},
   "source": [
    "## 2. Stock-Thoss, 1997.01  \n",
    "HKIVR version of MM mdel."
   ]
  },
  {
   "cell_type": "markdown",
   "metadata": {},
   "source": [
    "Original: **projector operator** and **state basis** are in a same suit.  \n",
    "Mapping: split them in different suit.  \n",
    "\n",
    "$$\n",
    "\\mid \\phi_n \\rangle\\langle \\phi_m \\mid \\mapsto \\hat{a}_n^{\\dagger} \\hat{a}_m \\\\\n",
    "\\mid \\phi_n \\rangle \\mapsto \\mid 0_1\\cdots 1_n\\cdots 0_N\\rangle\n",
    "$$\n",
    "\n",
    "so for SEO representation, the mapping exact Hamiltonian write as:  \n",
    "$$\n",
    "\\mathbb{H} = (T(P)+V_0(R))\\mathbf{1} + \\sum_{n,m} \\mid \\phi_n \\rangle V_{nm} \\langle \\phi_m \\mid\n",
    "\\mapsto \\\\\n",
    "H = (T(P)+V_0(R))\\mathbf{1} + \n",
    "\\sum_{n,m} V_{nm} \\hat{a}_n^{\\dagger} \\hat{a}_m \n",
    "\\\\\n",
    "= (T(P)+V_0(R) - \\frac{1}{2}Tr[V])\\mathbf{1} + \n",
    "\\sum_{n,m}\\frac{1}{2}(\\hat{x}_n\\hat{x}_m + \\hat{p}_n\\hat{p}_m)\\rangle V_{nm}\n",
    "$$"
   ]
  },
  {
   "cell_type": "markdown",
   "metadata": {},
   "source": [
    "HKIVR version:  \n",
    "$$\n",
    "\\langle R \\mid \\Psi(t) \\rangle = \\sum_n \\Phi_n(R,t) \\mid \\phi_n\\rangle\n",
    "\\\\\n",
    "\\Phi_n(R,t) = \\int d x_0 \\int dp_0 w_{x_0 p_0} C_{HK}(t) \\phi^n_{x_0p_0}(t) e^{iS(t)} \\prod_j \\chi_{x_0p_0}(R_j,t)\n",
    "\\\\\n",
    "\\chi_{x_0p_0}(R_j,t) = \\pi^{-1/4} exp[-\\frac{1}{2}(R_j - R_j(t))^2 + i P_j(t)(R_j - R_j(t) )]\n",
    "\\\\\n",
    "\\phi^n_{x_0p_0}(t) = \\langle 1 \\mid \\phi_n(t) \\rangle \\prod_{m\\ne n} \\langle 0 \\mid \\phi_m(t) \\rangle \n",
    "$$"
   ]
  },
  {
   "cell_type": "markdown",
   "metadata": {},
   "source": [
    "> * test model  \n",
    "$$\n",
    "T(P) + V_0(R) - \\frac{1}{2}Tr[V]= \\frac{1}{2}\\omega (P^2 + R^2) \\\\\n",
    "V_{11} = \\Delta/2 + \\kappa R \\\\\n",
    "V_{22} = -\\Delta/2 - \\kappa R \\\\\n",
    "V_{12} = V_{21} = g\n",
    "$$\n",
    "implement quantities:  \n",
    "$$\n",
    "P_n(t) = \\int dR |\\Phi_n(R,t)|^2\n",
    "$$"
   ]
  },
  {
   "cell_type": "markdown",
   "metadata": {},
   "source": [
    "## 3. Xiong Sun-Miller, 1997.01, 1998.07  \n",
    "(add Haobin Wang)  \n",
    "* SCIVR version\n",
    "* LSCIVR version"
   ]
  },
  {
   "cell_type": "markdown",
   "metadata": {},
   "source": [
    "H is the mapping Hamiltonian.\n",
    "$$\n",
    "S_{2,1} = \\langle \\chi_2 \\Phi_{k_2} \\mid e^{-iHt} \\mid \\Phi_{k_1} \\chi_{1} \\rangle \n",
    "\\\\\n",
    "= \\int dx_1 dR_1 \\int dx_2 dR_2 \\chi_2^*(R_2) \\Phi_{k_2}^*(x_2)\n",
    "\\Phi_{k_1}(x_1) \\chi_1(R_1) \\times \\langle x_2,R_2\\mid e^{-iHt} \\mid x_1,R_1 \\rangle \n",
    "$$\n",
    "\n",
    "**the Pechukas model** :  \n",
    "$$\n",
    "\\langle x_2,R_2\\mid e^{-iHt} \\mid x_1,R_1 \\rangle = \\int_{R_1}^{R_2} \\mathcal{D}[R] \\int_{x_1}^{x_2} \\mathcal{D}[x] e^{iS[x(t),R(t)]} \\\\\n",
    "S_{2,1} = \\int dR_1\\int dR_2 \\chi_2^*(R_2) \\chi_1(R_1) \\int_{R_1}^{R_2} \\mathcal{D}[R] e^{iS_{freenul}} K_{2,1}[R(t)]\n",
    "$$\n",
    "$K_{2,1}[R(t)]$ is the functional of the path $R(t)$, reflecting the electronic transition amplitude.\n",
    "\n",
    "**the VVIVR version** :  \n",
    "$$\n",
    "S_{2,1} = \\int dx_1 dR_1 \\int dp_1 dP_1 \\chi_2^*(R_2) \\Phi_{k_2}^*(x_2)\n",
    "\\Phi_{k_1}(x_1) \\chi_1(R_1) \\times C_{VV}(t) e^{iS(t) - i\\pi\\nu_t /2 }\n",
    "\\\\\n",
    "C_{VV}(t) = \\sqrt{\\frac{\\partial(x_t,R_t)}{\\partial(p_1,P_1)}/(2\\pi i)^{F+N}}\n",
    "$$\n",
    "here $N$ note nuclear degree, $F$ note electronic degree.  "
   ]
  },
  {
   "cell_type": "markdown",
   "metadata": {},
   "source": [
    "**the HKIVR version** :  \n",
    "$$\n",
    "S_{2,1} = (2\\pi)^{-F} \\int dq_1 \\int dp_1 \\Psi_2^*(q_t,p_t) \\Psi_1 (q_1,p_1)\n",
    "\\times C_{HK}(t) e^{iS(t)}\n",
    "\\\\\n",
    "C_{HK}(t) = \\sqrt{det\\big( \\frac{1}{2} (\\frac{\\partial p_t}{\\partial p_1} + \\frac{\\partial q_t}{\\partial q_1}\n",
    "- i\\gamma \\frac{\\partial q_t}{\\partial p_1} +\\frac{i}{\\gamma} \\frac{\\partial p_t}{\\partial q_1} )\\big)}\n",
    "$$\n",
    "where by coherent state transform:  \n",
    "$$\n",
    "\\Psi(q,p) = \\int dq' \\Psi(q') (\\frac{\\gamma}{\\pi})^{f/4} e^{-\\gamma/2(q-q')^2 + ip(q-q')}\n",
    "\\\\\n",
    "\\Psi_n(q) = \\chi_n(R) \\Phi_n(x) \\\\\n",
    "\\Phi_n(x) = \\sqrt{ \\frac{2}{\\pi} } x_n e^{-\\frac{1}{2}\\sum_k x_k^2 }\n",
    "$$"
   ]
  },
  {
   "cell_type": "markdown",
   "metadata": {},
   "source": [
    "> * test models  \n",
    "with all formula:  \n",
    "$$\n",
    "H = P^2/2M + \\frac{1}{2}(x_1^2+p_1^2-1)H_{11} + \\frac{1}{2}(x_2^2+p_2^2-1)H_{22} + (x_1x_2+p_1p_2) H_{12}\n",
    "$$\n",
    ">> * Tully model 1: avoid crossing  \n",
    "$$\n",
    "H_{11} = sign[R]\\cdot V_0 (1-e^{-\\alpha |R|}) \\\\\n",
    "H_{22} = -H_{11} \\\\\n",
    "H_{12} = V_1 e^{-\\beta R^2} \\\\\n",
    "$$\n",
    ">> * Tully model 2: double crossing  \n",
    "$$\n",
    "H_{11} = 0 \\\\\n",
    "H_{22} = -v_0 e^{-\\alpha R^2} + E_0 \\\\\n",
    "H_{12} = V_1 e^{-\\beta R^2}\n",
    "$$\n",
    ">> * Tully model 3: extended couping  \n",
    "$$\n",
    "H_{11} = -V_0 \\\\\n",
    "H_{22} = V_0 \\\\\n",
    "H_{12} = \n",
    "\\begin{cases}\n",
    "    V_1 e^{\\beta R}       & \\quad \\text{if } R < 0\\\\\n",
    "    V_1 (2-e^{-\\beta R})  & \\quad \\text{if } R > 0\n",
    "  \\end{cases}\n",
    "$$\n",
    "\n",
    "> * implements  \n",
    "$$\n",
    "P_k^{trans} = \\lim_{t \\to \\infty} \\int_0^{\\infty} dR |\\chi_k(R,t)|^2 \\\\\n",
    "P_k^{trans} = \\lim_{t \\to \\infty} \\int_{-\\infty}^0 dR |\\chi_k(R,t)|^2\n",
    "$$\n",
    "the transsition amplitude as: \n",
    "$$\n",
    "\\chi_{k\\gets 1}(R,t) = \\int dRdPdx_1dx_2dp_1dp_2  \\delta(R-R_t) \\chi_2^*(R_t,P_t) \\chi_1(R,P) \\Phi_k^*(x_{1t},p_{1t},x_{2t},p_{2t}) \\Phi_1(x_1,p_1,x_2,p_2) \\\\\n",
    "\\times C_{xp}(t) e^{iS(R,P,x_1,p_1,x_2,p_2)-i\\pi\\nu/2}\n",
    "$$"
   ]
  },
  {
   "cell_type": "markdown",
   "metadata": {},
   "source": [
    "**LSCIVR verson** :  \n",
    "$$ H = P^2/2M + H_{el} = P^2/2M + \\sum_i \\frac{1}{2}(x_i^2+p_i^2-1) H_{ii} + \\sum_{i<j}(x_ix_j+p_ip_j)H_{ij}$$\n",
    "1& LSCIVR: \n",
    "$$\n",
    "C_{AB} = (2\\pi\\hbar)^{-f} \\int dq_0 dp_0 A_w(q_0,p_0) B_w(q_t,p_t) \\\\\n",
    "A_w(q,p) = \\int d\\Delta q \\langle q - \\Delta q/2 \\mid \\hat{A} \\mid q + \\Delta q/2 \\rangle e^{ip\\Delta q/\\hbar}\n",
    "$$\n",
    "> * for thermal rate constant:  \n",
    "$$\n",
    "\\hat{A} = e^{-\\beta\\hat{H}/2} \\hat{F} e^{-\\beta\\hat{H}/2}\n",
    "\\\\\n",
    "\\hat{B} = \\hat{h}(q)\n",
    "$$"
   ]
  },
  {
   "cell_type": "markdown",
   "metadata": {},
   "source": [
    "2& Electronic-Nuclear function:  \n",
    "$$\n",
    "\\Psi_{i,n}(x,R) = \\Phi_i(x) \\chi_n(R) \\\\\n",
    "\\Phi_i(x) = \\sqrt{2}\\pi^{-N/4} x_i e^{-\\frac{1}{2}\\sum_k x_k^2} \\\\\n",
    "\\chi(R) = (\\frac{\\gamma}{\\pi})^{1/4} e^{-\\gamma/2(R-R_0)^2 + iP_0 R/\\hbar} \\\\\n",
    "$$\n",
    "> for $N=2$ is the dimension of Fock space, $R_0, P_0$ is the initial value."
   ]
  },
  {
   "cell_type": "markdown",
   "metadata": {},
   "source": [
    "3& Density function\n",
    "$$\n",
    "\\rho_{i,n} = \\rho_i^{el} (x,p) \\rho_n(R,P)\n",
    "$$\n",
    "where $\\rho_n(R,P)$ is the wigner function of $\\chi_n(R)$ by\n",
    "$$\n",
    "\\rho(R,P) = 2e^{-\\gamma(R-R_0)^2 - (P-P_0)^2/\\gamma\\hbar^2}\n",
    "$$\n",
    "and $\\rho_{jk}^{el}(x,p)$ is the wigner function of $\\mid j \\rangle\\langle k\\mid$ by  \n",
    "$$\n",
    "\\rho_i^{el} = 2^{N+1}\\big[x_i^2+p_i^2-\\frac{1}{2} \\big] e^{-\\sum_k (x_k^2+p_k^2)} \\iff \\mid i\\rangle\\langle i\\mid\n",
    "\\\\\n",
    "\\rho_{jk}^{el} = 2^{N+1}(x_j-ip_j)(x_k+ip_k) e^{-\\sum_k (x_k^2+p_k^2)} \\iff \\mid j\\rangle\\langle k\\mid\n",
    "$$"
   ]
  },
  {
   "cell_type": "markdown",
   "metadata": {},
   "source": [
    "> * test model: Tully's suggest models\n",
    "> * test model: Spin Boson model  \n",
    "$$\n",
    "H = \\sum_k \\frac{P_k^2}{2m_k} + V_0(R) + V_1(R)\\hat{\\sigma}_z + \\Delta\\hat{\\sigma}_x \n",
    "= H_0 + V_1(R)\\hat{\\sigma}_z + \\Delta\\hat{\\sigma}_x\n",
    "\\\\\n",
    "V_0 = \\sum_k \\frac{1}{2}m_k\\omega_k^2 R_k^2 \\\\\n",
    "V_1 = \\sum_k c_k R_k \n",
    "$$"
   ]
  },
  {
   "cell_type": "markdown",
   "metadata": {},
   "source": [
    "> implements   \n",
    "> * electronic transtion (zero temperature)   \n",
    "first transition probabilty relates initial momenta $P_0$ as:  \n",
    "$$\n",
    "P_{j\\gets i}(P_0) = \\lim_{t\\to \\infty} \\int_0^{\\infty} dR |\\langle \\phi_j,R \\mid e^{-iHt} \\mid \\chi \\phi_i \\rangle|^2\n",
    "\\\\\n",
    "= \\lim_{t\\to \\infty} tr\\big[\\mid\\chi\\phi_i\\rangle\\langle\\chi\\phi_i\\mid e^{iHt} \\mid\\phi_j\\rangle \\hat{h}(Q) \\langle \\phi_j\\mid e^{-iHt} \\big]\n",
    "$$\n",
    "by definition\n",
    "$$\n",
    "\\hat{A} = \\mid\\chi\\phi_i\\rangle\\langle\\chi\\phi_i\\mid \\\\\n",
    "\\hat{B}(t) =  e^{iHt} \\mid\\phi_j\\rangle \\hat{h}(R) \\langle \\phi_j\\mid e^{-iHt}\n",
    "$$\n",
    "use LSCIVR as:  \n",
    "$$\n",
    "A_w(R,P,x,p) = \\rho(R,P)\\rho_i^{el}(x,p) \\\\\n",
    "B_w(R,P,x,p) = h(R)\\rho_j^{el}(x,p)\n",
    "$$"
   ]
  },
  {
   "cell_type": "markdown",
   "metadata": {},
   "source": [
    "> * electronic population\n",
    "$$\n",
    "D(t) = \\frac{1}{Z_b} tr\\big[ e^{-\\beta(H_0+V_1)} \\mid 1\\rangle \\langle 1\\mid \\hat{\\sigma}_z(t) \\big] \\\\\n",
    "= P_{1\\gets 1}(t) - P_{2\\gets 1}(t) \n",
    "\\\\\n",
    "Z_b = tr\\big[ e^{-\\beta(H_0+V_1)} \\mid 1\\rangle \\langle 1\\mid \\big]\n",
    "$$\n",
    "here $\\mid 1\\rangle$ in its Boltzmann equilibrium of Hamiltonian $H_0+V_1$  \n",
    "by definition\n",
    "$$\n",
    "\\hat{A} = \\frac{1}{Z_b} e^{-\\beta(H_0+V_1)} \\mid 1\\rangle \\langle 1\\mid\n",
    "\\\\\n",
    "\\hat{B} =  \\hat{\\sigma}_z = \\mid 1\\rangle\\langle 1\\mid - \\mid 2\\rangle\\langle 2\\mid\n",
    "$$\n",
    "use LSCIVR as:  \n",
    "$$\n",
    "A_w(R,P,x,p) = W^{+}_{\\beta}(R,P) \\rho_1^{el}(x,p) \\\\\n",
    "B_w(R,P,x,p) = \\rho_1^{el}(x,p) - \\rho_2^{el}(x,p) \\\\\n",
    "W^{\\pm}_{\\beta}(R,P) \\overset{wigner}{\\iff}  \\frac{1}{Z_b} e^{-\\beta(H_0 \\pm V_1)}\n",
    "\\\\\n",
    "W^{\\pm}_{\\beta}(R,P) = \\prod_k \\frac{\\tanh[u_k/2]}{\\pi\\hbar} exp\\big\\{ \\sum_k \\frac{\\tanh{u_k/2}}{\\hbar\\omega_k/2}\n",
    "\\big[ \\frac{P_k^2}{2m_k} +\\frac{1}{2}m_k\\omega_k^2 \\big(R_k \\pm \\frac{c_k}{m_k\\omega_k^2} \\big)^2 \\big] \\big\\}\n",
    "$$"
   ]
  },
  {
   "cell_type": "markdown",
   "metadata": {},
   "source": [
    "> * spin-correlation:\n",
    "$$\n",
    "C(t) = \\mathbb{Re} \\frac{1}{Z} Tr\\big[e^{-\\beta H}  \\hat{\\sigma}_z(0)  \\hat{\\sigma}_z(t) \\big]\n",
    "$$\n",
    "let\n",
    "$$\n",
    "\\hat{A} = \\frac{1}{Z} e^{-\\beta H}  \\hat{\\sigma}_z \\\\\n",
    "\\hat{B} = \\hat{\\sigma}_z \n",
    "$$\n",
    "use LSCIVR by expension $\\hat{A}$ as:  \n",
    "$$\n",
    "e^{-\\beta H}  \\hat{\\sigma}_z = \n",
    "e^{-\\beta(H_0+V_1)}\\cosh[\\beta\\Delta]  \\mid 1\\rangle \\langle 1\\mid\n",
    "+ e^{-\\beta(H_0+V_1)}\\sinh[\\beta\\Delta]  \\mid 1\\rangle \\langle 2\\mid\n",
    "\\\\ \n",
    "- e^{-\\beta(H_0-V_1)}\\sinh[\\beta\\Delta]  \\mid 2\\rangle \\langle 1\\mid\n",
    "- e^{-\\beta(H_0-V_1)}\\cosh[\\beta\\Delta]  \\mid 2\\rangle \\langle 2\\mid\n",
    "$$"
   ]
  },
  {
   "cell_type": "markdown",
   "metadata": {},
   "source": [
    "> * note the difference from (SC)TDSCF:  \n",
    "$$\n",
    "\\text{TDSCF: } \\rho_1^{TDSCF} - \\rho_2^{TDSCF} = (x_1^2+p_1^2 - x_2^2 -p_2^2)\n",
    "\\\\\n",
    "\\text{MAPPING: } \\rho_1 - \\rho_2 = 2^{N+1}(x_1^2+p_1^2+\\frac{1}{2} - x_2^2 -p_2^2 - \\frac{1}{2}) e^{-\\sum_k(x_k^2+p_k^2)}\n",
    "$$\n",
    "its seems same. but the TDSCF averaging on:  \n",
    "$$\n",
    "D(t) = \\frac{1}{2\\pi}\\int d\\theta \\int dR_0 dP_0 W^+_{\\beta}\\times [\\rho_1^{TDSCF}(t) - \\rho_2^{TDSCF}(t)]\n",
    "\\\\\n",
    "x_1(0) = \\cos(\\theta),\\, p_1(0) = \\sin(\\theta)\n",
    "$$\n",
    "but mapping approch is averaging on:  \n",
    "$$\n",
    "D(t) = \\frac{1}{(2\\pi\\hbar)^2}\\int dx_0 dp_0 \\int dR_0 dP_0 W^+_{\\beta} \\rho_1^{el}(x_0,p_0)\n",
    "\\times [\\rho_1^{TDSCF}(t) - \\rho_2^{TDSCF}(t)]\n",
    "$$"
   ]
  },
  {
   "cell_type": "markdown",
   "metadata": {},
   "source": [
    "## 4. [star] Thoss-Stock, 1999.01  \n",
    "state a formalism of mapping with schwinger angular model, and SCIVR version."
   ]
  },
  {
   "cell_type": "markdown",
   "metadata": {},
   "source": [
    "1& mapping and SCIVR  \n",
    ">* first mentioned ZPE effect.  \n",
    ">* VVG prpagetor and VVIVR\n",
    ">* HKIVR  \n",
    "$$\n",
    "K_{HK}(x'|x) = (2\\pi)^{-n} \\int dx_0 dp_0 C_{HK}(t) e^{iS(t)} \\langle x' \\mid x_t p_t \\rangle \\langle x_0 p_0 \\mid x\\rangle\n",
    "\\\\\n",
    "S(t) = \\int d\\tau [ \\dot{x}p - H_{Cl}]\n",
    "\\\\\n",
    "\\langle x\\mid x_tp_t\\rangle = (\\gamma/\\pi)^{n/4} e^{-\\gamma/2(x-x_t)^2 + ip_t(x-x_t)}\n",
    "$$"
   ]
  },
  {
   "cell_type": "markdown",
   "metadata": {},
   "source": [
    "2& complex reps  \n",
    "$$\n",
    "e^{-iHt} = (\\pi)^{-n} \\int d^2 z_0 \\mid z_t \\rangle C_z(t) e^{iS_z(t)} \\langle z_0 \\mid\n",
    "\\\\\n",
    "d^2z_0 = d\\mathbb{Re}(z_0) d\\mathbb{Im}(z_0) = dx_0 dp_0 /2^n\n",
    "\\\\\n",
    "\\mid z \\rangle = e^{-|z|^2/2}e^{\\sum_j z_j \\hat{a}_j^{\\dagger}} \\mid 0\\rangle = \\mid xp\\rangle e^{ipx}\n",
    "\\\\\n",
    "C_z(t) = \\sqrt{det{\\partial z_t/\\partial z_0}} = C_{xp}(t)\n",
    "\\\\\n",
    "S_z(t) = \\int_0^t d\\tau (\\frac{i}{2}[z^*\\dot{z}-\\dot{z}^*z] - H_{Cl})\n",
    "$$"
   ]
  },
  {
   "cell_type": "markdown",
   "metadata": {},
   "source": [
    "3& spin cohenrent state  \n",
    "etc."
   ]
  },
  {
   "cell_type": "markdown",
   "metadata": {},
   "source": [
    "> test model:  \n",
    "> * 2-level model  \n",
    ">> * schwinger reps\n",
    "$$\n",
    "H_S = \\sum_{n=1,2}E_n \\hat{a}_n^{\\dagger} \\hat{a}_n + V(\\hat{a}_1^{\\dagger} \\hat{a}_2 + \\hat{a}_2^{\\dagger} \\hat{a}_1)\n",
    "$$\n",
    ">> * HP reps\n",
    "$$\n",
    "H_S = E_1 (1-\\hat{a}^{\\dagger} \\hat{a}) + E_2 \\hat{a}^{\\dagger} \\hat{a}  + V(\\hat{a}^{\\dagger} \\sqrt{1-\\hat{a}^{\\dagger} \\hat{a}}+ \\sqrt{1-\\hat{a}^{\\dagger} \\hat{a}} \\hat{a})\n",
    "$$"
   ]
  },
  {
   "cell_type": "markdown",
   "metadata": {},
   "source": [
    "## 5. Muller-Stock, 1999.07, 1999.07  \n",
    "* the ZPE flow effect\n",
    "* NA relaxtion dynamics"
   ]
  },
  {
   "cell_type": "markdown",
   "metadata": {},
   "source": [
    "1& Quantum dynamics and classical dynamcis  \n",
    "* ?? quantum ??  \n",
    "* HKIVR  "
   ]
  },
  {
   "cell_type": "markdown",
   "metadata": {},
   "source": [
    "2& Relation  \n",
    "> * self-consistent classical path model (Ehrenfest):  \n",
    "$$\n",
    "H_{CP} = T(P) + \\frac{1}{2}\\sum_{n,m} (x_n x_m + p_n p_m)V_{nm}(R) \\\\\n",
    "\\rho_{el} = \\delta(N_1 -1)\\delta(N_2)\n",
    "$$\n",
    "> * classical electron-analog model (CEA : MM model):  \n",
    "$$\n",
    "H = H_{CP} - \\frac{1}{2}Tr[V] \n",
    "\\\\\n",
    "= T(P) + \\frac{1}{2}\\sum_{n} (x_n x_n + p_n p_n -1)V_{nn}(R) + \\sum_{m>n} (x_n x_m + p_n p_m)V_{nm}(R) \\\\\n",
    "\\rho_{el} = \\delta(N_1 -3/2)\\delta(N_2-1/2)\n",
    "$$"
   ]
  },
  {
   "cell_type": "markdown",
   "metadata": {},
   "source": [
    "> * test model : Benzene cation  \n",
    ">> * 2-state model  \n",
    ">> * 3-state model"
   ]
  },
  {
   "cell_type": "markdown",
   "metadata": {},
   "source": [
    "1& population  \n",
    "$$\n",
    "P^{di}_n(t) = Tr[\\rho(t) \\mid\\psi_n\\rangle\\langle \\psi_n \\mid] = Tr[\\rho_n \\rho_e \\mid\\psi_n\\rangle\\langle \\psi_n \\mid]\n",
    "\\\\\n",
    "= \\int d\\Gamma \\rho_n \\rho_e \\frac{1}{2}(x_n^2+p_n^2-1)\n",
    "$$\n",
    "where, \n",
    "$$\n",
    "\\rho_0(x,p)_W = \\frac{\\alpha}{2\\pi} e^{-\\alpha/2(x^2+p^2)},\\, \\alpha=\\tanh[\\beta\\hbar\\omega/2]\n",
    "$$\n",
    "for elec, only action n need sampling by\n",
    "$$\n",
    "\\rho_0(n) = \\frac{\\alpha}{2\\pi} e^{-\\alpha n} \\sim \\delta(n-\\alpha/2)\n",
    "$$\n",
    "ZPE effect"
   ]
  },
  {
   "cell_type": "markdown",
   "metadata": {},
   "source": [
    "## 6. Thoss,Miller,Stock, 2000  \n",
    "pyrazine calculation"
   ]
  },
  {
   "cell_type": "markdown",
   "metadata": {},
   "source": [
    "$$\n",
    "J(t) = \\langle \\Psi_i \\mid e^{-iHt} \\mid \\Psi_i \\rangle, \\, \\mid \\Psi_i \\rangle = \\mid \\phi_2 \\rangle \\mid \\nu=0 \\rangle \n",
    "\\\\\n",
    "I(\\omega) = \\mathbb{Re} \\int_0^{\\infty} e^{i(\\omega + \\varepsilon_0)t } J(t)\n",
    "$$\n",
    "\n",
    "for HKIVR:  \n",
    "$$\n",
    "e^{-iHt} = (2\\pi)^{-n} \\int dq_0 dp_0 \\mid q_t p_t \\rangle C_{HK}(t) e^{iS(t)} \\langle q_0p_0 \\mid\n",
    "$$\n",
    "\n",
    "so:\n",
    "$$\n",
    "J(t) = (2\\pi)^{-M-N} \\int dx_0 dp_0 dR_0 dP_0\\,  \\langle 0\\mid x_{1t}p_{1t} \\rangle\n",
    "\\langle 1\\mid x_{2t}p_{2t}\\rangle  \\langle 0\\mid R_{t}P_{t} \\rangle\n",
    "\\\\\n",
    "\\times f_t(x_0,p_0,R_0,P_0)  C_{HK}(t)e^{iS(t)}  \n",
    "\\langle  R_{0}P_{0}\\mid 0 \\rangle\n",
    "\\langle  x_{10}p_{10}\\mid 0 \\rangle \\langle  x_{20}p_{20}\\mid 1 \\rangle\n",
    "$$\n",
    "\n",
    "where smooth function as:  \n",
    "$$\n",
    "f_t(x_0,p_0,R_0,P_0) = \\frac{\\alpha^{M+N}}{\\sqrt{det(A)}} exp[\\frac{1}{4}b^{T}A^{-1}b] \\\\\n",
    "b=\\begin{bmatrix} b_p \\\\ b_q \\end{bmatrix} \\\\\n",
    "b_p = \\frac{1}{2}( \\frac{\\partial x_t}{ \\partial p_0} + i\\frac{\\partial p_t}{ \\partial p_0} )^T (x_t - ip_t)\n",
    "+ \\frac{1}{2}( \\frac{\\partial R_t}{ \\partial P_0} + i\\frac{\\partial P_t}{ \\partial P_0} )^T (R_t - iP_t)\n",
    "+ \\frac{1}{2}(p_0-ix_0) + \\frac{1}{2}(P_0 - iR_0)\n",
    "\\\\\n",
    "b_q = \\frac{1}{2}( \\frac{\\partial x_t}{ \\partial x_0} + i\\frac{\\partial p_t}{ \\partial x_0} )^T (x_t - ip_t)\n",
    "+ \\frac{1}{2}( \\frac{\\partial R_t}{ \\partial X_0} + i\\frac{\\partial P_t}{ \\partial X_0} )^T (R_t - iP_t)\n",
    "+ \\frac{1}{2}(x_0+ip_0) + \\frac{1}{2}(R_0 + iP_0) \n",
    "\\\\\n",
    "A = \\frac{1}{4}M_t^T M_t + \\frac{1/4} + \\alpha\n",
    "\\\\\n",
    "M_t = \\begin{pmatrix}\n",
    "\\partial p_t/\\partial p_0 & \\partial p_t/\\partial q_0 \\\\\n",
    "\\partial q_t/\\partial p_0 & \\partial q_t/\\partial q_0\n",
    "\\end{pmatrix}\n",
    "$$"
   ]
  },
  {
   "cell_type": "markdown",
   "metadata": {},
   "source": [
    "> test model  \n",
    "> * 4-mode pyrazine model  \n",
    "> * 24-mode model  \n",
    "(coupled to a spin boson bath system)"
   ]
  },
  {
   "cell_type": "markdown",
   "metadata": {},
   "source": [
    "## 7. Dilthey, Stock at al. 2001.10, 2003.08  \n",
    "(quasi-)periodic orbital in NAD."
   ]
  },
  {
   "cell_type": "markdown",
   "metadata": {},
   "source": [
    "## 8. Ananth, 2007.08, 2010.12  \n",
    "SCIVR of NAD of mapping."
   ]
  },
  {
   "cell_type": "markdown",
   "metadata": {},
   "source": [
    "1& review a adiabatic rep (also in 1979 paper by Meyer-Miller)  \n",
    "$$\n",
    "H(R,P,x,p) = \\sum_k \\frac{1}{2}(x_k^2+p_k^2-1)E_k(R) + |P+\\Delta P|^2/2m\n",
    "\\\\\n",
    "\\Delta P = \\sum_{k<k'} \\hbar \\langle \\psi_k \\mid \\partial_{R} \\mid \\psi_{k'} \\rangle (x_k p_{k'} - x_{k'}p_k)\n",
    "$$\n",
    "intro VVIVR and HKIVR."
   ]
  },
  {
   "cell_type": "markdown",
   "metadata": {},
   "source": [
    "2& LSCIVR  \n",
    "$$\n",
    "C_{AB} = (2\\pi\\hbar)^{-f} \\int dq_0 dp_0 A_w(q_0,p_0) B_w(q_t,p_t) \n",
    "$$"
   ]
  },
  {
   "cell_type": "markdown",
   "metadata": {},
   "source": [
    "3& FB-IVR  \n",
    "for from\n",
    "$$\n",
    "\\hat{B} = e^{i\\Phi(\\hat{p})}\n",
    "$$\n",
    "then the relation can be simplfied as:\n",
    "$$\n",
    "C_{AB} = (2\\pi\\hbar)^{-f} \\int dp_0 dq_0 C_0(p_0,q_0) e^{iS_0/\\hbar} \\langle p_0,q_0 \\mid\\hat{A}\\mid p'_0 q'_0 \\rangle\n",
    "$$\n",
    "inital as $(p_0,q_0)$, and jump position at $(p_t,q_t)$ as\n",
    "$$\n",
    "q'_t \\mapsto q_t - \\frac{\\partial \\Phi(p_t)}{\\partial p_t}\n",
    "$$\n",
    "and end back at $(p'_0,q'_0)$ .\n",
    "the FB action: \n",
    "$$\n",
    "S = \\int_0^t d\\tau (p\\dot{q}-H) + \\big(-p_t \\frac{\\partial \\Phi(p_t)}{\\partial p_t} + \\Phi(p_t) \\big) + \\int_t^0 d\\tau (p\\dot{q}-H)\n",
    "$$"
   ]
  },
  {
   "cell_type": "markdown",
   "metadata": {},
   "source": [
    "4& exact FB-IVR  \n",
    "$$\n",
    "e^{-iHt} = (2\\pi\\hbar)^{-f}\\int dq_0 dp_0 C_t(q_0,p_0,\\gamma_0,\\gamma_t) e^{iS(t)/\\hbar} \\mid p_t,q_t,\\gamma_t\\rangle \\langle p_0,q_0,\\gamma_0 \\mid\n",
    "\\\\\n",
    "e^{iHt} = (2\\pi\\hbar)^{-f}\\int dq'_t dp'_t C_{-t}(q'_0,p'_0,\\gamma'_0,\\gamma'_t) e^{iS(-t)/\\hbar} \\mid p'_0,q'_0,\\gamma'_0\\rangle \\langle p'_t,q'_t,\\gamma'_t \\mid\n",
    "$$\n",
    "correlation\n",
    "$$\n",
    "C_{AB}(t)=\n",
    "(2\\pi\\hbar)^{-2f}\\int dq_0 dp_0 dq'_t dp'_t C_{-t}(q'_0,p'_0,\\gamma'_0,\\gamma'_t) C_t(q_0,p_0,\\gamma_0,\\gamma_t) \n",
    "\\\\\n",
    "\\times e^{iS(t)/\\hbar}e^{iS(-t)/\\hbar} \\langle p'_t,q'_t,\\gamma'_t \\mid \\hat{B} \\mid p_t,q_t,\\gamma_t\\rangle \\langle p_0,q_0,\\gamma_0 \\mid \\hat{A} \\mid p'_0,q'_0,\\gamma'_0\\rangle \n",
    "$$\n",
    "for $\\hat{B}=B(\\hat{p})$, simplified as:  \n",
    "$$\n",
    "C_{AB}(t)=\n",
    "(2\\pi\\hbar)^{-f}\\int dq_0 dp_0 dq'_t D_{-t}(q'_0,p'_0,\\gamma'_0) D_t(q_0,p_0,\\gamma_0) \n",
    "\\\\\n",
    "\\times e^{iS(t)/\\hbar}e^{iS(-t)/\\hbar} e^{ip_t(q'_t-q_t)} B(p_t) \\langle p_0,q_0,\\gamma_0 \\mid \\hat{A} \\mid p'_0,q'_0,\\gamma'_0\\rangle \n",
    "$$\n",
    "with\n",
    "$$\n",
    "D_t(q_0,p_0,\\gamma_0) = \\sqrt{det[\\frac{1}{2}(M_{pp}\\gamma_0^{1/2} +iM_{pq}\\gamma_0^{-1/2}/\\hbar)]}\n",
    "\\\\\n",
    "D_{-t}(q'_0,p'_0,\\gamma'_0) = \\sqrt{det[ \\frac{1}{2} (M'_{qq}\\gamma_0^{1/2} +iM'_{pq}\\gamma_0^{'-1/2}/\\hbar) ]}\n",
    "$$"
   ]
  },
  {
   "cell_type": "markdown",
   "metadata": {},
   "source": [
    "> test model  \n",
    "> * 2-state model 1\n",
    "$$\n",
    "V_{11} = V_0 \\tanh[aR] \\\\\n",
    "V_{11} = -V_0 \\tanh[aR] \\\\\n",
    "V_{12} = C e^{-DR^2}\n",
    "$$\n",
    "> * 2-state model 2\n",
    "$$\n",
    "V_{11} = V_1 \\tanh[aR] \\\\\n",
    "V_{11} = -V_2 \\tanh[aR] \\\\\n",
    "V_{12} = C e^{-D(R+f)^2}\n",
    "$$\n",
    "with $V_1 \\gg V_2 $"
   ]
  },
  {
   "cell_type": "markdown",
   "metadata": {},
   "source": [
    "> implement  \n",
    "> * final nuclear momnetum dist.  \n",
    "let\n",
    "$$\n",
    "\\hat{A} = \\mid \\Psi_i \\rangle\\langle \\Psi_i \\mid\n",
    "\\\\\n",
    "\\hat{B} = \\delta(P_f -\\hat{P})\n",
    "$$\n",
    "then\n",
    "$$\n",
    "C_{AB} = Tr[\\hat{A}\\hat{B}(t)]= \\lim_{t\\to \\infty} \\langle \\Psi_i \\mid e^{iHt} \\delta(P_f-\\hat{P}) e^{-iHt} \\mid \\Psi_i \\rangle\n",
    "$$\n",
    "> * LSCIVR  \n",
    "so for LSCIVR:  \n",
    "$$\n",
    "A_W = (\\mid \\Psi_i \\rangle\\langle \\Psi_i \\mid)_W\n",
    "\\\\ = 2^3 e^{-\\gamma (R-R_i)^2 - (P-P_i)^2/\\gamma} e^{-(x_1^2+p_1^2+x_2^2+p_2^2)} (2x_1^2+2p_1^2-1)\n",
    "$$\n",
    "$B_W$ remains unchanged.\n",
    "\n",
    "> * FBIVR  \n",
    "so for FBIVR:  \n",
    "$$\n",
    "C_{AB} = \\frac{1}{2\\pi\\hbar}\\int d\\eta \\lim_{t\\to \\infty} \\langle \\Psi_i \\mid e^{iHt} e^{i\\eta(P_f-\\hat{P})} e^{-iHt} \\mid \\Psi_i \\rangle\n",
    "\\\\\n",
    "P(\\eta) = \\langle \\Psi_i \\mid e^{iHt} e^{-i\\eta\\hat{P}} e^{-iHt} \\mid \\Psi_i \\rangle\n",
    "\\\\\n",
    "= (2\\pi\\hbar)^{-f} \\int dp_0 dq_0 C_0(p_0,q_0) e^{iS_0/\\hbar} \\langle p_0,q_0 \\mid \\Psi_i\\rangle \\langle \\Psi_i \\mid p'_0 q'_0 \\rangle\n",
    "$$\n",
    "\n",
    "> * exact FB-IVR\n",
    "$$\n",
    "C_{AB}(t)=\n",
    "(2\\pi\\hbar)^{-f}\\int dq_0 dp_0 dq'_t D_{-t}(q'_0,p'_0,\\gamma'_0) D_t(q_0,p_0,\\gamma_0) \n",
    "\\\\\n",
    "\\times \\delta(p_t^r-p_f) e^{iS(t)/\\hbar}e^{iS(-t)/\\hbar} e^{ip_t(q'_t-q_t)} B(p_t) \\langle p_0,q_0,\\gamma_0 \\mid \\Psi_i\\rangle \\langle \\Psi_i  \\mid p'_0,q'_0,\\gamma'_0\\rangle \n",
    "$$"
   ]
  },
  {
   "cell_type": "markdown",
   "metadata": {},
   "source": [
    "1& mapping formalism and PI discretization  \n",
    "$$\n",
    "Z = \\lim_{P\\to \\infty} \\int d\\{R_{\\alpha}\\} \\prod_{\\alpha=1}^P (\\frac{MP}{2\\pi\\beta})^{f/2} e^{-\\beta_P V_0(R)}\n",
    "\\exp[-\\frac{1}{2}\\frac{MP}{2\\beta}\\Delta R_{\\alpha}^T \\Delta R_{\\alpha} ]\n",
    "\\\\ \\times\n",
    "\\sum_{[n_{\\alpha}]=1}^N \\prod_{\\alpha}^P \\langle n_{\\alpha} \\mid e^{-\\beta_P V(R_{\\alpha})} \\mid n_{\\alpha+1} \\rangle\n",
    "\\\\\n",
    "\\Delta R_{\\alpha} = R_{\\alpha} - R_{\\alpha+1}\n",
    "$$\n",
    "by intro. continuous variables as:  \n",
    "$$\n",
    "Z = \\lim_{P\\to \\infty} \\int d\\{R_{\\alpha}\\} \\prod_{\\alpha=1}^P (\\frac{MP}{2\\pi\\beta})^{f/2} e^{-\\beta_P V_0(R)}\n",
    "\\exp[-\\frac{1}{2}\\frac{MP}{2\\beta}\\Delta R_{\\alpha}^T \\Delta R_{\\alpha} ]\n",
    "\\\\ \\times\n",
    "\\int d\\{x_{\\alpha}\\} \\prod_{\\alpha}^P \\langle x_{\\alpha} \\mid e^{-\\beta_P V(R_{\\alpha})} \\hat{P} \\mid x_{\\alpha+1} \\rangle\n",
    "\\\\\n",
    "\\hat{P} = \\sum_{n=1}^N \\mid n\\rangle\\langle n\\mid \n",
    "$$\n",
    "note approx. in SEO reps. (**NOTE IT'S JUST AN APPROX**)\n",
    "$$\n",
    "\\langle x_{\\alpha} \\mid e^{-\\beta_P V(R_{\\alpha})} \\hat{P} \\mid x_{\\alpha+1} \\rangle\n",
    "\\sim \\sum_{n,m=1}^N \\langle x_{\\alpha} \\mid n \\rangle M_{nm}(R_{\\alpha}) \\langle m \\mid x_{\\alpha+1} \\rangle\n",
    "$$\n",
    "where\n",
    "$$\n",
    "\\langle x\\mid n \\rangle = \\frac{\\sqrt{2}}{\\pi^{N/4}} [x]_n e^{-\\frac{1}{2}x^Tx}\n",
    "$$\n",
    "and the $M_{nm}$ can be used 1-st order approx.  \n",
    "$$\n",
    "M_{nm}(R) = \n",
    "\\begin{cases}\n",
    "    e^{-\\beta_P V_{nn}(R)}      & \\quad \\text{if } n=m \\\\\n",
    "    -\\beta_P V_{nm}(R) e^{-\\beta_P V_{nn}(R)}      & \\quad \\text{if } n\\ne m\n",
    "  \\end{cases}\n",
    "$$"
   ]
  },
  {
   "cell_type": "markdown",
   "metadata": {},
   "source": [
    "2& PIMC formula  \n",
    "then \n",
    "$$\n",
    "Z = \\lim_{P\\to \\infty} (\\frac{2MP}{\\beta\\pi^{N+1}})^{fP/2} \\int d\\{R_{\\alpha}\\} \\int d\\{ x_{\\alpha} \\} \\prod_{\\alpha=1}^P\n",
    "\\mathcal{A}_{\\alpha} \\mathcal{F}_{\\alpha} \\mathcal{G}_{\\alpha}\n",
    "$$\n",
    "where\n",
    "$$\n",
    "\\mathcal{A}_{\\alpha} = e^{-\\beta_P V_0(R)}\n",
    "\\exp[-\\frac{1}{2}\\frac{MP}{2\\beta}\\Delta R_{\\alpha}^T \\Delta R_{\\alpha} ]\n",
    "\\\\\n",
    "\\mathcal{F}_{\\alpha} = x_{\\alpha}^T M(R_{\\alpha}) x_{\\alpha+1}\n",
    "\\quad\n",
    "\\mathcal{G}_{\\alpha} = e^{-x_{\\alpha}^T x_{\\alpha}}\n",
    "$$\n",
    "\n",
    "and importance sampling can be performed by:  \n",
    "$$\n",
    "W = \\prod_{\\alpha=1}^P \\mathcal{A}_{\\alpha} \\mathcal{G}_{\\alpha} sgn(\\mathcal{F}_{\\alpha})\n",
    "$$\n",
    "\n",
    "position estimator as\n",
    "$$\n",
    "P(n,R) = \\frac{ \\langle \\delta(R-R_P) \\mathcal{f}_n sgn(\\mathcal{F}) \\rangle }{ \\langle sgn(\\mathcal{F}) \\rangle }\n",
    "\\\\\n",
    "\\mathcal{f}_n = \\frac{[x_{P}^T M(R_{P}) x_{1}]_n }{x_{P}^T M(R_{P}) x_{1}}\n",
    "$$\n",
    "\n",
    "energy estimator as\n",
    "$$\n",
    "\\langle E \\rangle = \\frac{ \\langle (\\frac{P}{2\\beta} + \\tilde{\\mathcal{F}} - \\frac{\\partial \\mathcal{A}}{\\partial \\beta}) sgn(\\mathcal{F}) \\rangle }{ \\langle sgn(\\mathcal{F}) \\rangle }\n",
    "\\\\\n",
    "\\tilde{\\mathcal{F}} = -\\sum_{\\alpha=1}^P \\frac{x_{\\alpha}^T \\partial_{\\beta}M(R_{\\alpha}) x_{\\alpha+1}}{x_{\\alpha}^T M(R_{\\alpha}) x_{\\alpha+1}}\n",
    "$$"
   ]
  },
  {
   "cell_type": "markdown",
   "metadata": {},
   "source": [
    "3& termal correlation function  \n",
    "using bead 1 and bead P to capture TCF as:\n",
    "$$\n",
    "C_{AB}(t) = \\frac{1}{Z} \\int d\\{R_{\\alpha}\\} \\int d\\{ x_{\\alpha} \\} \\prod_{\\alpha=1}^{P-1}\n",
    "\\mathcal{A}_{\\alpha} \\mathcal{F}_{\\alpha} \\mathcal{G}_{\\alpha} \n",
    "\\\\ \\times\n",
    "\\langle x_P,R_P \\mid e^{-\\beta_P H/2} A e^{iHt} B e^{-iHt} e^{-\\beta_P H/2} \\hat{P} \\mid x_1,R_1 \\rangle\n",
    "$$\n",
    "> * HKIVR\n",
    "$$\n",
    "C_{AB}(t) = \\frac{(2\\pi)^{-2(N+f)}}{Z} \\int d\\{R_{\\alpha}\\} \\int d\\{ x_{\\alpha} \\} \\prod_{\\alpha=1}^{P-1}\n",
    "\\mathcal{A}_{\\alpha} \\mathcal{F}_{\\alpha} \\mathcal{G}_{\\alpha} \n",
    "\\\\ \\times\n",
    "\\int dz_0 dz'_0 C_{t}C_{-t} e^{i(S_t + S_{-t})} \\langle z'_t \\mid B\\mid z_t\\rangle \n",
    "\\langle x_P,R_P \\mid e^{-\\beta_P H/2} A \\mid z'_0 \\rangle \\langle z_0\\mid e^{-\\beta_P H/2} \\hat{P} \\mid x_1,R_1 \\rangle\n",
    "$$"
   ]
  },
  {
   "cell_type": "markdown",
   "metadata": {},
   "source": [
    "> * LSCIVR  \n",
    "$$\n",
    "C_{AB}(t) = \\frac{(2\\pi)^{-(N+f)}}{Z} \\int d\\{R_{\\alpha}\\} \\int d\\{ x_{\\alpha} \\} \\prod_{\\alpha=1}^{P-1}\n",
    "\\mathcal{A}_{\\alpha} \\mathcal{F}_{\\alpha} \\mathcal{G}_{\\alpha} \n",
    "\\\\ \\times\n",
    "\\int dz_0 A^{\\beta}_W(z_0) B_W(z_t)\n",
    "$$\n",
    "where\n",
    "$$\n",
    "A^{\\beta}_W = \\int \\Delta x \\int \\Delta R \\langle x_0 -\\Delta x/2, R_0-\\Delta R/2 \\mid \n",
    "\\hat{A}^{\\beta}\n",
    "\\mid x_0 + \\Delta x/2, R_0 + \\Delta R/2 \\rangle e^{ip_0\\Delta x + iP_0\\Delta R}\n",
    "\\\\\n",
    "\\hat{A}^{\\beta} = e^{-\\beta_P H/2} \\hat{P} \\mid x_P, R_P \\rangle\\langle x_1,R_1\\mid e^{-\\beta_P H/2}\\hat{A}\n",
    "$$"
   ]
  },
  {
   "cell_type": "markdown",
   "metadata": {},
   "source": [
    "> * Note\n",
    "**Adams-Bashforth-Moulton predictor-corrector integrator**  \n",
    "and implement is cumbersome."
   ]
  },
  {
   "cell_type": "markdown",
   "metadata": {},
   "source": [
    "## "
   ]
  }
 ],
 "metadata": {
  "kernelspec": {
   "display_name": "Python 3",
   "language": "python",
   "name": "python3"
  },
  "language_info": {
   "codemirror_mode": {
    "name": "ipython",
    "version": 3
   },
   "file_extension": ".py",
   "mimetype": "text/x-python",
   "name": "python",
   "nbconvert_exporter": "python",
   "pygments_lexer": "ipython3",
   "version": "3.5.4"
  }
 },
 "nbformat": 4,
 "nbformat_minor": 2
}
