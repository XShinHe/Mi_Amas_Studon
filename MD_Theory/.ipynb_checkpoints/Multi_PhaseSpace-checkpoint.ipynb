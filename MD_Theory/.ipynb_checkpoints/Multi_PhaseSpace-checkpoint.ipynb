{
 "cells": [
  {
   "cell_type": "markdown",
   "metadata": {},
   "source": [
    "<h4 style=\"text-align:right\">CCME,&nbsp; Peking University</h4>\n",
    "***\n",
    "<p>\n",
    "<h1 style=\"text-align:center\"><font face=\"Times Roman\" size=8> Try for multi phase space </font></h1>\n",
    "<br>\n",
    "<h2 style=\"text-align:center\"><font face=\"Times Roman\">Author &nbsp;XShinHe</font> </h2>\n",
    "<h2 style=\"text-align:center\"><font face=\"Times Roman\">2018.8</font> </h2>"
   ]
  },
  {
   "cell_type": "markdown",
   "metadata": {},
   "source": [
    "## 1. the common task of phase space / path integral"
   ]
  },
  {
   "cell_type": "markdown",
   "metadata": {},
   "source": [
    "as we have show, the task of equivalent form of quantum mechanics is how to **evaluate the trace operation**.  \n",
    "$$ Tr[\\hat{A}] = (?\\,what\\,the\\,equivalent\\,form)$$  \n",
    "and when $\\hat{A}=\\hat{\\rho}=\\frac{1}{Z}e^{-\\beta\\hat{H}}$, it's important in statistic physics.  \n",
    "As in position space, by a completeness property:  \n",
    "$$\\sum_i \\mid \\psi_i \\rangle\\langle \\psi_i \\mid = \\hat{1}  $$\n",
    "or ($s=x$ or $s=p$)\n",
    "$$ \\int ds \\mid s\\rangle\\langle s\\mid = \\hat{1}$$\n",
    "it relates (short-time) propagator as:  \n",
    "$$ \\langle x_t \\mid e^{-\\beta\\hat{H}} \\mid x_0 \\rangle $$"
   ]
  },
  {
   "cell_type": "markdown",
   "metadata": {},
   "source": [
    "* **path integral ansartz**  \n",
    "treat:  \n",
    "$$ \\langle x_{P+1} \\mid e^{-\\beta\\hat{H}} \\mid x_0 \\rangle \n",
    "\\sim \\int dx_1 \\cdots dx_{P} \\prod_{k=0}^{P} \\langle x_{k+1} \\mid e^{-\\frac{1}{2P}\\beta\\hat{V}} e^{-\\frac{1}{P}\\beta\\hat{T}} e^{-\\frac{1}{2P}\\beta\\hat{V}} \\mid x_k \\rangle $$\n",
    "and\n",
    "$$\n",
    "\\langle x_{k+1} \\mid e^{-\\frac{1}{2P}\\beta\\hat{V}} e^{-\\frac{1}{P}\\beta\\hat{T}} e^{-\\frac{1}{2P}\\beta\\hat{V}} \\mid x_k \\rangle \n",
    "= e^{-\\frac{1}{2P}\\beta[V(x_k)+V_{x_{k+1}}]} \\langle x_{k+1} \\mid e^{-\\frac{1}{P}\\beta\\hat{T}} \\mid x_k \\rangle \\\\\n",
    "= e^{-\\frac{1}{2P}\\beta[V(x_k)+V_{x_{k+1}}]} \\sqrt{\\frac{mP}{2\\pi\\beta\\hbar^2}}e^{-\\beta\\frac{1}{2}m\\omega_P^2 (x_{k+1}-x_k)^2}\n",
    "$$\n",
    "where $\\omega_P^2 = P/\\beta^2\\hbar^2$  \n",
    "so consider product:  \n",
    "$$ \\langle x_{P+1} \\mid e^{-\\beta\\hat{H}} \\mid x_0 \\rangle = \\lim_{P\\to\\infty} \\int dx_1 \\cdots dx_{P} \n",
    "(\\frac{mP}{2\\pi\\beta\\hbar^2})^{P/2}e^{-\\sum_{k=0}^{P}\\beta\\frac{1}{2}m\\omega_P^2 (x_{k+1}-x_k)^2 - \\sum_{k=0}^{P}\\frac{1}{2P}\\beta[V(x_k)+V_{x_{k+1}}]}\n",
    "$$\n",
    "make the prefactor back to obtain:  \n",
    "$$ \\langle x_{P+1} \\mid e^{-\\beta\\hat{H}} \\mid x_0 \\rangle = \\lim_{P\\to\\infty} \\int dx_1 \\cdots dx_{P} dp_1 \\cdots dp_P\n",
    "e^{-\\sum_{k=1}^{P}\\beta \\frac{p_k^2}{2m'}-\\sum_{k=0}^{P}\\beta\\frac{1}{2}m\\omega_P^2 (x_{k+1}-x_k)^2 - \\sum_{k=0}^{P}\\frac{1}{2P}\\beta[V(x_k)+V_{x_{k+1}}]}\n",
    "$$\n",
    "though $m'=mP/(2\\pi\\hbar)^2$ for original prefactor, but it can be arbitrary and free.  \n",
    "then such a thing is PIMD (RPMD)  "
   ]
  },
  {
   "cell_type": "markdown",
   "metadata": {},
   "source": [
    "* **analog for inserting of operation distribution**  \n",
    "the former have worked the phase space value for the formation:  \n",
    "$$ \\rho_{ps} = Tr[\\delta(\\hat{x}-x,\\hat{p}-p)\\hat{\\rho}] $$ \n",
    "for any positive distribution $f(x)$, we always have:  \n",
    "$$ f(\\hat{x}-x) = \\hat{1} $$  \n",
    "similiar to path integral technique, we can insert such unit to the trace (especially for $\\delta(\\hat{x}-x)$):  \n",
    "$$ \\langle x_{P+1} \\mid e^{-\\beta\\hat{H}} \\mid x_0 \\rangle \n",
    "\\sim \\frac{1}{(2\\pi)^{2P}}\\int d\\xi_1 \\cdots d\\xi_{P}  \\int d\\eta_1 \\cdots d\\eta_{P} \\langle x_{P+1} \\mid \\big\\{ \\prod_{k=1}^{P} e^{-\\beta_P\\hat{H}} e^{i(\\hat{x}-x_k)\\xi_k + i(\\hat{p}-p_k)\\eta_k} \\big\\} \\mid x_0 \\rangle $$  \n",
    "note here $\\beta_P = \\beta/P$  \n",
    "as we have show in Wigner function: \n",
    "$$\n",
    "\\langle x_1 \\mid \\int d\\xi_k d\\eta_k e^{-\\beta_P\\hat{H}} e^{i(\\hat{x}-x_k)\\xi_k + i(\\hat{p}-p_k)\\eta_k} \\mid x_2 \\rangle \n",
    "\\\\ =  \\int d\\xi_k d\\eta_k e^{-i \\xi_k x_k -i\\eta_k p_k} \\langle x_1 \\mid e^{-\\beta_P\\hat{H}} e^{i\\hat{x}\\xi_k }e^{ i\\hat{p}\\eta_k} e^{i\\xi_k\\eta_k\\hbar/2}\\mid x_2 \\rangle \n",
    "\\\\ =  \\int d\\xi_k d\\eta_k dx_3 dp_1 e^{-i \\xi_k x_k -i\\eta_k p_k} \\langle x_1 \\mid e^{-\\beta_P\\hat{H}}\\mid x_3 \\rangle e^{ix_3\\xi_k } e^{ip_1 (x_3-x_2) /\\hbar}e^{ ip_1\\eta_k} e^{i\\xi_k\\eta_k\\hbar/2} \n",
    "\\\\ =  \\int d\\xi_k d\\eta_k dx_3 e^{-i \\xi_k x_k -i\\eta_k p_k} \\langle x_1 \\mid e^{-\\beta_P\\hat{H}}\\mid x_3 \\rangle e^{ix_3\\xi_k } \\delta(\\eta_k + \\frac{x_3-x_2}{\\hbar}) e^{i\\xi_k\\eta_k\\hbar/2} \n",
    "\\\\ =  \\int d\\xi_k dx_3 e^{-i \\xi_k x_k + i (x_3-x_2) p_k/\\hbar} \\langle x_1 \\mid e^{-\\beta_P\\hat{H}}\\mid x_3 \\rangle e^{ix_3\\xi_k } e^{-i\\xi_k(x_3-x_2)/2} \n",
    "\\\\ =  \\int d\\xi_k dx_3 \\langle x_1 \\mid e^{-\\beta_P\\hat{H}}\\mid x_3 \\rangle e^{i\\xi_k[(x_3+x_2)/2 - x_k]} e^{ i (x_3-x_2) p_k/\\hbar}\n",
    "$$\n",
    "let $X_k = (x_2 + x_3)/2$ and $Y_k = x_3 - x_2$, so $dX_k dY_k = dx_2 dx_3$  \n",
    "$$ above =  \\frac{\\partial}{\\partial x_2}\\int d\\xi_k dX_k dY_k \\langle x_1 \\mid e^{-\\beta_P\\hat{H}}\\mid X_k + Y_k/2 \\rangle  e^{i\\xi_k[X_k - x_k]} e^{ i Y_k p_k/\\hbar}\n",
    "\\\\ =  \\frac{\\partial}{\\partial x_2} \\int dX_k dY_k \\langle x_1 \\mid e^{-\\beta_P\\hat{H}}\\mid X_k + Y_k/2 \\rangle  \\delta[X_k - x_k] e^{ i Y_k p_k/\\hbar}\n",
    "\\\\ =  \\frac{\\partial}{\\partial x_2} \\int dY_k \\langle x_1 \\mid e^{-\\beta_P\\hat{H}}\\mid x_k + Y_k/2 \\rangle e^{ i Y_k p_k/\\hbar}\n",
    "$$$$"
   ]
  },
  {
   "cell_type": "code",
   "execution_count": null,
   "metadata": {},
   "outputs": [],
   "source": []
  }
 ],
 "metadata": {
  "kernelspec": {
   "display_name": "Python 3",
   "language": "python",
   "name": "python3"
  },
  "language_info": {
   "codemirror_mode": {
    "name": "ipython",
    "version": 3
   },
   "file_extension": ".py",
   "mimetype": "text/x-python",
   "name": "python",
   "nbconvert_exporter": "python",
   "pygments_lexer": "ipython3",
   "version": "3.5.4"
  }
 },
 "nbformat": 4,
 "nbformat_minor": 2
}
