{
 "cells": [
  {
   "cell_type": "markdown",
   "metadata": {},
   "source": [
    "<h4 style=\"text-align:right\">The Course of CCME,&nbsp; Peking University</h4>\n",
    "***\n",
    "<p>\n",
    "<h1 style=\"text-align:center\"><font face=\"Times Roman\" size=8>Mathematics in chemistry</font></h1>\n",
    "<br>\n",
    "<h2 style=\"text-align:center\"><font face=\"Times Roman\">prof.&nbsp;Jian Liu</font> </h2>\n",
    "<h2 style=\"text-align:center\"><font face=\"Times Roman\">Records of the first term, 2017.2-2017.6</font> </h2>"
   ]
  },
  {
   "cell_type": "markdown",
   "metadata": {},
   "source": [
    "# Note Version of First Term"
   ]
  },
  {
   "cell_type": "markdown",
   "metadata": {},
   "source": [
    "## 1. Normal mode analysis  \n",
    "> * Lagevin equation:\n",
    "$$\\begin{bmatrix}\n",
    "\\dot{x} \\\\ \n",
    "\\dot{p}\\end{bmatrix}\n",
    "=\\begin{bmatrix}\n",
    "p/m \\\\\n",
    "-\\frac{\\partial U(x)}{\\partial x} - \\gamma_{Lang}p + \\sqrt{\\frac{2\\gamma_{Lang}m}{\\beta}}\\eta(t)\n",
    "\\end{bmatrix}\n",
    "$$\n",
    "here,$\\eta(t)$ is white noise, with:\n",
    "$$\\langle \\eta(t) \\rangle=0,\\, \\langle \\eta(t)\\eta(t') \\rangle = \\frac{2\\gamma_{Lang}m}{\\beta}\\delta(t-t')$$\n",
    "  \n",
    "> * Dirac notation: 'Bra' and 'Ket'  \n",
    "$\\langle \\alpha \\mid \\beta \\rangle$ stands for inner product (Hilbert space)\n",
    "$$\\langle \\alpha \\mid \\alpha \\rangle = |\\vec{\\alpha}|^2$$\n",
    "$$\\big(\\alpha\\mid a\\rangle + \\beta\\mid b\\rangle\\big)^{*} = \\alpha^{*}\\langle a\\mid + \\beta^{*}\\langle b\\mid$$\n",
    "$$\\langle a \\mid a \\rangle \\langle b \\mid b \\rangle \\ge \\Big(\\frac{\\langle a \\mid b \\rangle + \\langle b \\mid a \\rangle }{2}\\Big)^2$$\n",
    "Schwarz inequation:\n",
    "$$\\langle a \\mid a \\rangle \\langle b \\mid b \\rangle \\ge \\langle a \\mid b \\rangle \\langle b \\mid a \\rangle$$"
   ]
  },
  {
   "cell_type": "markdown",
   "metadata": {},
   "source": [
    "# 2. Linear Algebra"
   ]
  },
  {
   "cell_type": "markdown",
   "metadata": {},
   "source": [
    "> * outer prodcut:  \n",
    "$\\mid a \\rangle\\langle b \\mid$ stands for matrix \n",
    "\n",
    "   \n",
    "> * Frank-Condon prociple"
   ]
  },
  {
   "cell_type": "code",
   "execution_count": null,
   "metadata": {},
   "outputs": [],
   "source": []
  }
 ],
 "metadata": {
  "kernelspec": {
   "display_name": "Python 3",
   "language": "python",
   "name": "python3"
  },
  "language_info": {
   "codemirror_mode": {
    "name": "ipython",
    "version": 3
   },
   "file_extension": ".py",
   "mimetype": "text/x-python",
   "name": "python",
   "nbconvert_exporter": "python",
   "pygments_lexer": "ipython3",
   "version": "3.5.4"
  }
 },
 "nbformat": 4,
 "nbformat_minor": 2
}
