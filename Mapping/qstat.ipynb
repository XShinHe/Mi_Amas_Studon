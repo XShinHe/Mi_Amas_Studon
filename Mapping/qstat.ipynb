{
 "cells": [
  {
   "cell_type": "markdown",
   "metadata": {},
   "source": [
    "## 1."
   ]
  },
  {
   "cell_type": "markdown",
   "metadata": {},
   "source": [
    "for the eigenstates of $\\hat{\\sigma}_x$:  \n",
    "1. density matrix in representation of $\\mid s_z+ \\rangle,\\mid s_z-\\rangle$ (where $\\hat{\\sigma}_z$ is diagnonalized)\n",
    "2. density matrix in representation of $\\mid s_x+ \\rangle,\\mid s_x-\\rangle$ (where $\\hat{\\sigma}_x$ is diagnonalized)  \n",
    "  \n",
    "  \n",
    "1. in z-rep  \n",
    "\n",
    "for the well known relationship:  \n",
    "$$ \\mid s_x\\pm\\rangle = \\frac{1}{\\sqrt{2}} (\\mid s_z +\\rangle \\pm \\mid s_z-\\rangle ) \\\\\n",
    "\\mid s_z\\pm\\rangle = \\frac{1}{\\sqrt{2}} (\\mid s_x +\\rangle \\pm \\mid s_x-\\rangle )\n",
    "$$\n",
    "so:  \n",
    "$$\n",
    "\\mid s_x\\pm\\rangle \\langle s_x\\pm \\mid = \\frac{1}{2}(\\mid s_z+\\rangle \\langle s_z+ \\mid + \\mid s_z-\\rangle \\langle s_z- \\mid) \\pm \\mid s_z+\\rangle \\langle s_z- \\mid \\pm \\mid s_z-\\rangle \\langle s_z+ \\mid\n",
    "$$\n",
    "so for $\\mid s_x+\\rangle$:\n",
    "$$ \\rho_{s_x+} = \\frac{1}{2} \\begin{bmatrix} 1 & 1 \\\\ 1 & 1  \\end{bmatrix} \\\\\n",
    "\\rho_{s_x-} = \\frac{1}{2} \\begin{bmatrix} 1 & -1 \\\\ -1 & 1  \\end{bmatrix} $$\n",
    "\n",
    "2. in x-rep  \n",
    "$$ \\rho_{s_x+} = \\begin{bmatrix} 1 & 0 \\\\ 0 & 0  \\end{bmatrix} \\\\\n",
    "\\rho_{s_x-} =  \\begin{bmatrix} 0 & 0 \\\\ 0 & 1  \\end{bmatrix} $$"
   ]
  },
  {
   "cell_type": "markdown",
   "metadata": {},
   "source": [
    "### 2. entropy of quantm gas"
   ]
  },
  {
   "cell_type": "markdown",
   "metadata": {},
   "source": [
    "for $$ \\Xi = \\frac{1}{e^{\\beta(E-\\mu)}\\pm 1}$$"
   ]
  },
  {
   "cell_type": "code",
   "execution_count": null,
   "metadata": {},
   "outputs": [],
   "source": []
  }
 ],
 "metadata": {
  "kernelspec": {
   "display_name": "Python 3",
   "language": "python",
   "name": "python3"
  },
  "language_info": {
   "codemirror_mode": {
    "name": "ipython",
    "version": 3
   },
   "file_extension": ".py",
   "mimetype": "text/x-python",
   "name": "python",
   "nbconvert_exporter": "python",
   "pygments_lexer": "ipython3",
   "version": "3.5.4"
  }
 },
 "nbformat": 4,
 "nbformat_minor": 2
}
