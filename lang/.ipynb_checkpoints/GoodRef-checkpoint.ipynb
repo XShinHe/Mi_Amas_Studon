{
 "cells": [
  {
   "cell_type": "markdown",
   "metadata": {},
   "source": [
    "# Good reference"
   ]
  },
  {
   "cell_type": "markdown",
   "metadata": {},
   "source": [
    "* [Fortan GNU](https://gcc.gnu.org/onlinedocs/gcc-8.2.0/gfortran/)\n",
    "* [Fortran wiki](https://gcc.gnu.org/wiki/GFortranStandards)\n",
    "* [C ++ ref1](https://en.cppreference.com)\n",
    "* [C ++ ref2](https://www.cplusplus.com/reference)\n",
    "* [Python ref](http://www.runoob.com/python3/python3-tutorial.html)\n",
    "* [Julia Chinese](https://www.ctolib.com/docs-julia-manual-c-index.html) \n",
    "* [Julia orginal](https://docs.julialang.org/en/stable/)\n",
    "* [Lua](http://www.runoob.com/lua/lua-tutorial.html)\n",
    "* [perl](http://www.runoob.com/perl/perl-tutorial.html)"
   ]
  },
  {
   "cell_type": "code",
   "execution_count": null,
   "metadata": {},
   "outputs": [],
   "source": []
  }
 ],
 "metadata": {
  "kernelspec": {
   "display_name": "Python 3",
   "language": "python",
   "name": "python3"
  },
  "language_info": {
   "codemirror_mode": {
    "name": "ipython",
    "version": 3
   },
   "file_extension": ".py",
   "mimetype": "text/x-python",
   "name": "python",
   "nbconvert_exporter": "python",
   "pygments_lexer": "ipython3",
   "version": "3.5.4"
  }
 },
 "nbformat": 4,
 "nbformat_minor": 2
}
