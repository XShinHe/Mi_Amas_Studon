{
 "cells": [
  {
   "cell_type": "markdown",
   "metadata": {},
   "source": [
    "<h4 style=\"text-align:right\">CCME,&nbsp; Peking University</h4>\n",
    "***\n",
    "<p>\n",
    "<h1 style=\"text-align:center\"><font face=\"Times Roman\" size=8> 混动动力学基础 </font></h1>\n",
    "<br>\n",
    "<h2 style=\"text-align:center\"><font face=\"Times Roman\">Author &nbsp;XShinHe</font> </h2>\n",
    "<h2 style=\"text-align:center\"><font face=\"Times Roman\">2018.7</font> </h2>"
   ]
  },
  {
   "cell_type": "markdown",
   "metadata": {},
   "source": [
    "# 0. 课程大纲"
   ]
  },
  {
   "cell_type": "markdown",
   "metadata": {},
   "source": [
    "* ch1. 宗教，艺术和科学\n",
    "* ch2. 数理科学的三种模式：确定论，概率论，混沌论\n",
    "* ch3. 虫口模型\n",
    "* ch4. 彩虹和分叉线中的暗线\n",
    "* ch5. 粗粒化：数值轨道到符号序列\n",
    "* ch6. 排序规则和允字条件\n",
    "* ch7. 周期窗口定理\n",
    "* ch8. 超稳定周期轨道和“字提升法”\n",
    "* ch9. 倍周期分岔和超分岔\n",
    "* ch10. 标度变换和广义齐次函数\n",
    "* ch11. 标度变换下的不变性，重整化群方程\n",
    "* ch12. 线性化的重整化群方程\n",
    "* ch13. 圆映射\n",
    "* ch14. 通线混沌的道路\n",
    "* ch15. 混沌的形状，功率谱分析\n",
    "* ch16. 混沌的刻画：李普诺夫指数\n",
    "* ch17. 混沌的刻画：分形和分维\n",
    "* ch18. 弱湍流的图像：有限几何下的流体实验\n",
    "* ch19. 多倍分岔序列的标度性和重整化群方程\n",
    "* ch20. 过渡过程和动态临界现象\n",
    "* ch21. 一维多峰映射的周期数目\n",
    "* ch22. 二维映射的符号动力学\n",
    "* ch23. 常微分方程的庞加莱截面和映射\n",
    "* ch24. 常微分方程的符号动力学\n",
    "* ch25. /周期轨道的纽结理论\n",
    "* ch26. /符号轨道的语法复杂性\n",
    "* ch27. /有量子混沌吗"
   ]
  },
  {
   "cell_type": "markdown",
   "metadata": {},
   "source": [
    "# 1. 宗教，艺术，科学殊途同归"
   ]
  },
  {
   "cell_type": "markdown",
   "metadata": {},
   "source": [
    "# 2. 数理科学的三种基本模式"
   ]
  },
  {
   "cell_type": "markdown",
   "metadata": {},
   "source": [
    "### 2.1 确定论模式  \n",
    "* 基础是周期\n",
    "* 可解模型是二体问题\n",
    "> * Kepler行星运动三定律\n",
    "> * 伽利略自由落体\n",
    "> * Newton运动三定理\n",
    "> * 狭义相对论的二体问题\n",
    "> * 广义相对论的二体问题：schwarzschild的中心力场解和3大可观测预言\n",
    "> * 玻尔氢原子模型\n",
    "> * 非相对论氢原子模型：薛定谔方程，海森伯矩阵方程\n",
    "> * 相对论量子力学Dirac方程，$2s_{1/2}$ 与$2p_{1/2}$ 能级简并\n",
    "> * Lamb位移(谢玉铭)，量子场论的辐射修正\n",
    "> * 氢原子模型的杨氏关系(Yangian)\n",
    "\n",
    "### 2.2 概率论模式  \n",
    "* 基础是随机过程\n",
    "* 可解模型：布朗运动  \n",
    "> * 爱因斯坦扩散长度\n",
    "> * Langevin方程，涨落耗散定理\n",
    "> * Fokker-Plank方程\n",
    "> * 位势条件、细致平衡条件、时间反演不变性\n",
    "> * 维纳连续积分\n",
    "> * OU过程\n",
    "> * Onsager-Machlup泛函\n",
    "\n",
    "### 2.3 混沌论模式\n",
    "* 基础是尺度变换下的不变性\n",
    "* 可解模型：平方映射\n",
    "> * 临界现象与临界指数\n",
    "> * 重整化群方程及其线性化\n",
    "> * 分形和分维\n",
    "> * 符号动力学\n",
    "> * 形式语言和语法复杂性"
   ]
  },
  {
   "cell_type": "markdown",
   "metadata": {},
   "source": []
  }
 ],
 "metadata": {
  "kernelspec": {
   "display_name": "Python 3",
   "language": "python",
   "name": "python3"
  },
  "language_info": {
   "codemirror_mode": {
    "name": "ipython",
    "version": 3
   },
   "file_extension": ".py",
   "mimetype": "text/x-python",
   "name": "python",
   "nbconvert_exporter": "python",
   "pygments_lexer": "ipython3",
   "version": "3.6.4"
  }
 },
 "nbformat": 4,
 "nbformat_minor": 2
}
