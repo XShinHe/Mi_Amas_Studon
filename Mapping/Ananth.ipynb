{
 "cells": [
  {
   "cell_type": "markdown",
   "metadata": {},
   "source": [
    "## Ananth, 2007.08\n",
    "SCIVR of NAD of mapping."
   ]
  },
  {
   "cell_type": "markdown",
   "metadata": {},
   "source": [
    "1& review a adiabatic rep (also in 1979 paper by Meyer-Miller)  \n",
    "$$\n",
    "H(R,P,x,p) = \\sum_k \\frac{1}{2}(x_k^2+p_k^2-1)E_k(R) + |P+\\Delta P|^2/2m\n",
    "\\\\\n",
    "\\Delta P = \\sum_{k<k'} \\hbar \\langle \\psi_k \\mid \\partial_{R} \\mid \\psi_{k'} \\rangle (x_k p_{k'} - x_{k'}p_k)\n",
    "$$\n",
    "intro VVIVR and HKIVR."
   ]
  },
  {
   "cell_type": "markdown",
   "metadata": {},
   "source": [
    "2& LSCIVR  \n",
    "$$\n",
    "C_{AB} = (2\\pi\\hbar)^{-f} \\int dq_0 dp_0 A_w(q_0,p_0) B_w(q_t,p_t) \n",
    "$$"
   ]
  },
  {
   "cell_type": "markdown",
   "metadata": {},
   "source": [
    "3& FB-IVR  \n",
    "for from\n",
    "$$\n",
    "\\hat{B} = e^{i\\Phi(\\hat{p})}\n",
    "$$\n",
    "then the relation can be simplfied as:\n",
    "$$\n",
    "C_{AB} = (2\\pi\\hbar)^{-f} \\int dp_0 dq_0 C_0(p_0,q_0) e^{iS_0/\\hbar} \\langle p_0,q_0 \\mid\\hat{A}\\mid p'_0 q'_0 \\rangle\n",
    "$$\n",
    "inital as $(p_0,q_0)$, and jump position at $(p_t,q_t)$ as\n",
    "$$\n",
    "q'_t \\mapsto q_t - \\frac{\\partial \\Phi(p_t)}{\\partial p_t}\n",
    "$$\n",
    "and end back at $(p'_0,q'_0)$ .\n",
    "the FB action: \n",
    "$$\n",
    "S = \\int_0^t d\\tau (p\\dot{q}-H) + \\big(-p_t \\frac{\\partial \\Phi(p_t)}{\\partial p_t} + \\Phi(p_t) \\big) + \\int_t^0 d\\tau (p\\dot{q}-H)\n",
    "$$"
   ]
  },
  {
   "cell_type": "markdown",
   "metadata": {},
   "source": [
    "4& exact FB-IVR  \n",
    "$$\n",
    "e^{-iHt} = (2\\pi\\hbar)^{-f}\\int dq_0 dp_0 C_t(q_0,p_0,\\gamma_0,\\gamma_t) e^{iS(t)/\\hbar} \\mid p_t,q_t,\\gamma_t\\rangle \\langle p_0,q_0,\\gamma_0 \\mid\n",
    "\\\\\n",
    "e^{iHt} = (2\\pi\\hbar)^{-f}\\int dq'_t dp'_t C_{-t}(q'_0,p'_0,\\gamma'_0,\\gamma'_t) e^{iS(-t)/\\hbar} \\mid p'_0,q'_0,\\gamma'_0\\rangle \\langle p'_t,q'_t,\\gamma'_t \\mid\n",
    "$$\n",
    "correlation\n",
    "$$\n",
    "C_{AB}(t)=\n",
    "(2\\pi\\hbar)^{-2f}\\int dq_0 dp_0 dq'_t dp'_t C_{-t}(q'_0,p'_0,\\gamma'_0,\\gamma'_t) C_t(q_0,p_0,\\gamma_0,\\gamma_t) \n",
    "\\\\\n",
    "\\times e^{iS(t)/\\hbar}e^{iS(-t)/\\hbar} \\langle p'_t,q'_t,\\gamma'_t \\mid \\hat{B} \\mid p_t,q_t,\\gamma_t\\rangle \\langle p_0,q_0,\\gamma_0 \\mid \\hat{A} \\mid p'_0,q'_0,\\gamma'_0\\rangle \n",
    "$$\n",
    "for $\\hat{B}=B(\\hat{p})$, simplified as:  \n",
    "$$\n",
    "C_{AB}(t)=\n",
    "(2\\pi\\hbar)^{-f}\\int dq_0 dp_0 dq'_t D_{-t}(q'_0,p'_0,\\gamma'_0) D_t(q_0,p_0,\\gamma_0) \n",
    "\\\\\n",
    "\\times e^{iS(t)/\\hbar}e^{iS(-t)/\\hbar} e^{ip_t(q'_t-q_t)} B(p_t) \\langle p_0,q_0,\\gamma_0 \\mid \\hat{A} \\mid p'_0,q'_0,\\gamma'_0\\rangle \n",
    "$$\n",
    "with\n",
    "$$\n",
    "D_t(q_0,p_0,\\gamma_0) = \\sqrt{det[\\frac{1}{2}(M_{pp}\\gamma_0^{1/2} +iM_{pq}\\gamma_0^{-1/2}/\\hbar)]}\n",
    "\\\\\n",
    "D_{-t}(q'_0,p'_0,\\gamma'_0) = \\sqrt{det[ \\frac{1}{2} (M'_{qq}\\gamma_0^{1/2} +iM'_{pq}\\gamma_0^{'-1/2}/\\hbar) ]}\n",
    "$$"
   ]
  },
  {
   "cell_type": "markdown",
   "metadata": {},
   "source": [
    "> test model  \n",
    "> * 2-state model 1\n",
    "$$\n",
    "V_{11} = V_0 \\tanh[aR] \\\\\n",
    "V_{11} = -V_0 \\tanh[aR] \\\\\n",
    "V_{12} = C e^{-DR^2}\n",
    "$$\n",
    "> * 2-state model 2\n",
    "$$\n",
    "V_{11} = V_1 \\tanh[aR] \\\\\n",
    "V_{11} = -V_2 \\tanh[aR] \\\\\n",
    "V_{12} = C e^{-D(R+f)^2}\n",
    "$$\n",
    "with $V_1 \\gg V_2 $"
   ]
  },
  {
   "cell_type": "markdown",
   "metadata": {},
   "source": [
    "> implement  \n",
    "> * final nuclear momnetum dist.  \n",
    "let\n",
    "$$\n",
    "\\hat{A} = \\mid \\Psi_i \\rangle\\langle \\Psi_i \\mid\n",
    "\\\\\n",
    "\\hat{B} = \\delta(P_f -\\hat{P})\n",
    "$$\n",
    "then\n",
    "$$\n",
    "C_{AB} = Tr[\\hat{A}\\hat{B}(t)]= \\lim_{t\\to \\infty} \\langle \\Psi_i \\mid e^{iHt} \\delta(P_f-\\hat{P}) e^{-iHt} \\mid \\Psi_i \\rangle\n",
    "$$\n",
    "> * LSCIVR  \n",
    "so for LSCIVR:  \n",
    "$$\n",
    "A_W = (\\mid \\Psi_i \\rangle\\langle \\Psi_i \\mid)_W\n",
    "\\\\ = 2^3 e^{-\\gamma (R-R_i)^2 - (P-P_i)^2/\\gamma} e^{-(x_1^2+p_1^2+x_2^2+p_2^2)} (2x_1^2+2p_1^2-1)\n",
    "$$\n",
    "$B_W$ remains unchanged.\n",
    "\n",
    "> * FBIVR  \n",
    "so for FBIVR:  \n",
    "$$\n",
    "C_{AB} = \\frac{1}{2\\pi\\hbar}\\int d\\eta \\lim_{t\\to \\infty} \\langle \\Psi_i \\mid e^{iHt} e^{i\\eta(P_f-\\hat{P})} e^{-iHt} \\mid \\Psi_i \\rangle\n",
    "\\\\\n",
    "P(\\eta) = \\langle \\Psi_i \\mid e^{iHt} e^{-i\\eta\\hat{P}} e^{-iHt} \\mid \\Psi_i \\rangle\n",
    "\\\\\n",
    "= (2\\pi\\hbar)^{-f} \\int dp_0 dq_0 C_0(p_0,q_0) e^{iS_0/\\hbar} \\langle p_0,q_0 \\mid \\Psi_i\\rangle \\langle \\Psi_i \\mid p'_0 q'_0 \\rangle\n",
    "$$\n",
    "\n",
    "> * exact FB-IVR\n",
    "$$\n",
    "C_{AB}(t)=\n",
    "(2\\pi\\hbar)^{-f}\\int dq_0 dp_0 dq'_t D_{-t}(q'_0,p'_0,\\gamma'_0) D_t(q_0,p_0,\\gamma_0) \n",
    "\\\\\n",
    "\\times \\delta(p_t^r-p_f) e^{iS(t)/\\hbar}e^{iS(-t)/\\hbar} e^{ip_t(q'_t-q_t)} B(p_t) \\langle p_0,q_0,\\gamma_0 \\mid \\Psi_i\\rangle \\langle \\Psi_i  \\mid p'_0,q'_0,\\gamma'_0\\rangle \n",
    "$$"
   ]
  },
  {
   "cell_type": "markdown",
   "metadata": {},
   "source": [
    "## Ananth, 2010"
   ]
  },
  {
   "cell_type": "markdown",
   "metadata": {},
   "source": [
    "1& mapping formalism and PI discretization  \n",
    "$$\n",
    "Z = \\lim_{P\\to \\infty} \\int d\\{R_{\\alpha}\\} \\prod_{\\alpha=1}^P (\\frac{MP}{2\\pi\\beta})^{f/2} e^{-\\beta_P V_0(R)}\n",
    "\\exp[-\\frac{1}{2}\\frac{MP}{2\\beta}\\Delta R_{\\alpha}^T \\Delta R_{\\alpha} ]\n",
    "\\\\ \\times\n",
    "\\sum_{[n_{\\alpha}]=1}^N \\prod_{\\alpha}^P \\langle n_{\\alpha} \\mid e^{-\\beta_P V(R_{\\alpha})} \\mid n_{\\alpha+1} \\rangle\n",
    "\\\\\n",
    "\\Delta R_{\\alpha} = R_{\\alpha} - R_{\\alpha+1}\n",
    "$$\n",
    "by intro. continuous variables as:  \n",
    "$$\n",
    "Z = \\lim_{P\\to \\infty} \\int d\\{R_{\\alpha}\\} \\prod_{\\alpha=1}^P (\\frac{MP}{2\\pi\\beta})^{f/2} e^{-\\beta_P V_0(R)}\n",
    "\\exp[-\\frac{1}{2}\\frac{MP}{2\\beta}\\Delta R_{\\alpha}^T \\Delta R_{\\alpha} ]\n",
    "\\\\ \\times\n",
    "\\int d\\{x_{\\alpha}\\} \\prod_{\\alpha}^P \\langle x_{\\alpha} \\mid e^{-\\beta_P V(R_{\\alpha})} \\hat{P} \\mid x_{\\alpha+1} \\rangle\n",
    "\\\\\n",
    "\\hat{P} = \\sum_{n=1}^N \\mid n\\rangle\\langle n\\mid \n",
    "$$\n",
    "note approx. in SEO reps. (**NOTE IT'S JUST AN APPROX**)\n",
    "$$\n",
    "\\langle x_{\\alpha} \\mid e^{-\\beta_P V(R_{\\alpha})} \\hat{P} \\mid x_{\\alpha+1} \\rangle\n",
    "\\sim \\sum_{n,m=1}^N \\langle x_{\\alpha} \\mid n \\rangle M_{nm}(R_{\\alpha}) \\langle m \\mid x_{\\alpha+1} \\rangle\n",
    "$$\n",
    "where\n",
    "$$\n",
    "\\langle x\\mid n \\rangle = \\frac{\\sqrt{2}}{\\pi^{N/4}} [x]_n e^{-\\frac{1}{2}x^Tx}\n",
    "$$\n",
    "and the $M_{nm}$ can be used 1-st order approx.  \n",
    "$$\n",
    "M_{nm}(R) = \n",
    "\\begin{cases}\n",
    "    e^{-\\beta_P V_{nn}(R)}      & \\quad \\text{if } n=m \\\\\n",
    "    -\\beta_P V_{nm}(R) e^{-\\beta_P V_{nn}(R)}      & \\quad \\text{if } n\\ne m\n",
    "  \\end{cases}\n",
    "$$"
   ]
  },
  {
   "cell_type": "markdown",
   "metadata": {},
   "source": [
    "2& PIMC formula  \n",
    "then \n",
    "$$\n",
    "Z = \\lim_{P\\to \\infty} (\\frac{2MP}{\\beta\\pi^{N+1}})^{fP/2} \\int d\\{R_{\\alpha}\\} \\int d\\{ x_{\\alpha} \\} \\prod_{\\alpha=1}^P\n",
    "\\mathcal{A}_{\\alpha} \\mathcal{F}_{\\alpha} \\mathcal{G}_{\\alpha}\n",
    "$$\n",
    "where\n",
    "$$\n",
    "\\mathcal{A}_{\\alpha} = e^{-\\beta_P V_0(R)}\n",
    "\\exp[-\\frac{1}{2}\\frac{MP}{2\\beta}\\Delta R_{\\alpha}^T \\Delta R_{\\alpha} ]\n",
    "\\\\\n",
    "\\mathcal{F}_{\\alpha} = x_{\\alpha}^T M(R_{\\alpha}) x_{\\alpha+1}\n",
    "\\quad\n",
    "\\mathcal{G}_{\\alpha} = e^{-x_{\\alpha}^T x_{\\alpha}}\n",
    "$$\n",
    "\n",
    "and importance sampling can be performed by:  \n",
    "$$\n",
    "W = \\prod_{\\alpha=1}^P \\mathcal{A}_{\\alpha} \\mathcal{G}_{\\alpha} sgn(\\mathcal{F}_{\\alpha})\n",
    "$$\n",
    "\n",
    "position estimator as\n",
    "$$\n",
    "P(n,R) = \\frac{ \\langle \\delta(R-R_P) \\mathcal{f}_n sgn(\\mathcal{F}) \\rangle }{ \\langle sgn(\\mathcal{F}) \\rangle }\n",
    "\\\\\n",
    "\\mathcal{f}_n = \\frac{[x_{P}^T M(R_{P}) x_{1}]_n }{x_{P}^T M(R_{P}) x_{1}}\n",
    "$$\n",
    "\n",
    "energy estimator as\n",
    "$$\n",
    "\\langle E \\rangle = \\frac{ \\langle (\\frac{P}{2\\beta} + \\tilde{\\mathcal{F}} - \\frac{\\partial \\mathcal{A}}{\\partial \\beta}) sgn(\\mathcal{F}) \\rangle }{ \\langle sgn(\\mathcal{F}) \\rangle }\n",
    "\\\\\n",
    "\\tilde{\\mathcal{F}} = -\\sum_{\\alpha=1}^P \\frac{x_{\\alpha}^T \\partial_{\\beta}M(R_{\\alpha}) x_{\\alpha+1}}{x_{\\alpha}^T M(R_{\\alpha}) x_{\\alpha+1}}\n",
    "$$"
   ]
  },
  {
   "cell_type": "markdown",
   "metadata": {},
   "source": [
    "3& termal correlation function  \n",
    "using bead 1 and bead P to capture TCF as:\n",
    "$$\n",
    "C_{AB}(t) = \\frac{1}{Z} \\int d\\{R_{\\alpha}\\} \\int d\\{ x_{\\alpha} \\} \\prod_{\\alpha=1}^{P-1}\n",
    "\\mathcal{A}_{\\alpha} \\mathcal{F}_{\\alpha} \\mathcal{G}_{\\alpha} \n",
    "\\\\ \\times\n",
    "\\langle x_P,R_P \\mid e^{-\\beta_P H/2} A e^{iHt} B e^{-iHt} e^{-\\beta_P H/2} \\hat{P} \\mid x_1,R_1 \\rangle\n",
    "$$\n",
    "> * HKIVR\n",
    "$$\n",
    "C_{AB}(t) = \\frac{(2\\pi)^{-2(N+f)}}{Z} \\int d\\{R_{\\alpha}\\} \\int d\\{ x_{\\alpha} \\} \\prod_{\\alpha=1}^{P-1}\n",
    "\\mathcal{A}_{\\alpha} \\mathcal{F}_{\\alpha} \\mathcal{G}_{\\alpha} \n",
    "\\\\ \\times\n",
    "\\int dz_0 dz'_0 C_{t}C_{-t} e^{i(S_t + S_{-t})} \\langle z'_t \\mid B\\mid z_t\\rangle \n",
    "\\langle x_P,R_P \\mid e^{-\\beta_P H/2} A \\mid z'_0 \\rangle \\langle z_0\\mid e^{-\\beta_P H/2} \\hat{P} \\mid x_1,R_1 \\rangle\n",
    "$$"
   ]
  },
  {
   "cell_type": "markdown",
   "metadata": {},
   "source": [
    "> * LSCIVR  \n",
    "$$\n",
    "C_{AB}(t) = \\frac{(2\\pi)^{-(N+f)}}{Z} \\int d\\{R_{\\alpha}\\} \\int d\\{ x_{\\alpha} \\} \\prod_{\\alpha=1}^{P-1}\n",
    "\\mathcal{A}_{\\alpha} \\mathcal{F}_{\\alpha} \\mathcal{G}_{\\alpha} \n",
    "\\\\ \\times\n",
    "\\int dz_0 A^{\\beta}_W(z_0) B_W(z_t)\n",
    "$$\n",
    "where\n",
    "$$\n",
    "A^{\\beta}_W = \\int \\Delta x \\int \\Delta R \\langle x_0 -\\Delta x/2, R_0-\\Delta R/2 \\mid \n",
    "\\hat{A}^{\\beta}\n",
    "\\mid x_0 + \\Delta x/2, R_0 + \\Delta R/2 \\rangle e^{ip_0\\Delta x + iP_0\\Delta R}\n",
    "\\\\\n",
    "\\hat{A}^{\\beta} = e^{-\\beta_P H/2} \\hat{P} \\mid x_P, R_P \\rangle\\langle x_1,R_1\\mid e^{-\\beta_P H/2}\\hat{A}\n",
    "$$"
   ]
  },
  {
   "cell_type": "markdown",
   "metadata": {},
   "source": [
    "> * Note\n",
    "**Adams-Bashforth-Moulton predictor-corrector integrator**  \n",
    "and implement is cumbersome."
   ]
  },
  {
   "cell_type": "markdown",
   "metadata": {},
   "source": [
    "## Ananth, 2017 \n",
    "MQC-IVR with MMST model"
   ]
  },
  {
   "cell_type": "markdown",
   "metadata": {},
   "source": [
    "1& MQC-IVR  \n",
    "it is derived by HKIVR\n",
    "$$\n",
    "C_{AB}(t) = (2\\pi)^{-2N} \\int dz_0 dz'_0 \\langle z_0 \\mid \\hat{A} \\mid z'_0 \\rangle e^{iS_t(z_0)- iS_t(z'_0)}\n",
    "D_t(z_0,z'_0,c,\\gamma_0,\\gamma'_0) \\langle z'_t \\mid \\hat{B} \\mid z_t \\rangle e^{-\\frac{1}{2}\\Delta_{z_0}^T c \\Delta_{z_0}}\n",
    "\\\\\n",
    "z_0 = (R_0,x_0,P_0,p_0)\n",
    "\\\\\n",
    "\\langle \\bar{P}\\bar{p} \\mid z_t \\rangle = (\\frac{1}{det|\\gamma_t|\\pi^N})^{1/4} e^{-\\frac{1}{2}(\\bar{P} - P_t)^T \\gamma_t^{-1} (\\bar{P} -P_t) - i \\bar{P}^T R_t} e^{-\\frac{1}{2}(\\bar{p}-p_t)^T(\\bar{p_t}-p_t) -i\\bar{p}^T x_t}\n",
    "$$"
   ]
  },
  {
   "cell_type": "code",
   "execution_count": null,
   "metadata": {},
   "outputs": [],
   "source": []
  }
 ],
 "metadata": {
  "kernelspec": {
   "display_name": "Python 3",
   "language": "python",
   "name": "python3"
  },
  "language_info": {
   "codemirror_mode": {
    "name": "ipython",
    "version": 3
   },
   "file_extension": ".py",
   "mimetype": "text/x-python",
   "name": "python",
   "nbconvert_exporter": "python",
   "pygments_lexer": "ipython3",
   "version": "3.5.4"
  }
 },
 "nbformat": 4,
 "nbformat_minor": 2
}
