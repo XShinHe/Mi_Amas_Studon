{
 "cells": [
  {
   "cell_type": "markdown",
   "metadata": {},
   "source": [
    "## outline"
   ]
  },
  {
   "cell_type": "markdown",
   "metadata": {},
   "source": [
    "## 1. pre-2000"
   ]
  },
  {
   "cell_type": "markdown",
   "metadata": {},
   "source": [
    "* 1979: Meyer-Miller post a larger action-angle scheme  \n",
    "* 1997: Stock-Thoss hold a mapping idea to SEO (SEO-mapping approach). via HKIVR.  \n",
    "* 1997: Sun-Miller developed SCIVR (HKIVR) to Tully's model.  \n",
    "* 1998: Sun-Wang-Miller also applied LSCIVR to Tully's model and spin-boson model\n",
    "* 1998: Thoss-Stock retelled the mapping aproach, and comp. with Schwinger's angular mommenta theory  \n",
    "> * via HKIVR(z-rep), stable matrix by Ruunge-Kutta-Merson scheme  \n",
    "> * via Sukuzi-IVR  \n",
    "\n",
    "* 1999: M$\\ddot{u}$ller-Stock, do benzene cation calc., and post ZPE problem.  \n",
    "* 1999: M$\\ddot{u}$ller-Stock, apply to NA quantum relaxtion dynamics, with ZPE problem. \n",
    "* 2000: Thoss-Miller-Stock, SCIVR of NAD spectrum inpy\n",
    "* 2001: Dilthey-Stock, analysis peroiodic obrit description of NAQD.  \n",
    "* 2003: Balzer-Stock, analysis quasi-peroiodic obrit description of NA-photoisomerization dynamics.  \n",
    "* 2013: Richardson-Thoss, NA-RPMD\n",
    "* 2001: Bonella-Coker point a semiclassical limit for mapping.  \n",
    "* 2011: Huo-Coker, PLDM for dissipative NA quantum evolution\n",
    "* 2008: Dunkel-Bonella-Coker, iterative linearized approach to NAD.\n",
    "* 2001: Bonella-Coker, SCIVR-map for general NA.\n",
    "* 2003: Bonella-Coker, SCIVR-map for NAD using focused initial dist. sampling.\n",
    "* 2005: Bonella-Coker, LAND-map (linearized approach to NAD)\n",
    "* 2018: Coker at.al. SC-PI calc. of NL-optical.  \n",
    "* 2012: Li-Miller SCIVR for second-quan\n",
    "* 2013: Li-Miller at al. nonequilibrium quan. transport -- Anderson model.  \n",
    "* 2014: Li-Miller at al. vabrational coupled elec. transport \n",
    "* 2014: Li-Miller at al. mapping Hubbard op. "
   ]
  },
  {
   "cell_type": "markdown",
   "metadata": {},
   "source": [
    "Stock, Thoss, Coker, Ananth"
   ]
  }
 ],
 "metadata": {
  "kernelspec": {
   "display_name": "Python 3",
   "language": "python",
   "name": "python3"
  },
  "language_info": {
   "codemirror_mode": {
    "name": "ipython",
    "version": 3
   },
   "file_extension": ".py",
   "mimetype": "text/x-python",
   "name": "python",
   "nbconvert_exporter": "python",
   "pygments_lexer": "ipython3",
   "version": "3.5.4"
  }
 },
 "nbformat": 4,
 "nbformat_minor": 2
}
