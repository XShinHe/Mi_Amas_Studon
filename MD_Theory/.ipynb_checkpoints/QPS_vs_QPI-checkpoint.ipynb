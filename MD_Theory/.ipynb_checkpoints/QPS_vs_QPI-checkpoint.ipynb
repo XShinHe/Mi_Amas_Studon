{
 "cells": [
  {
   "cell_type": "markdown",
   "metadata": {},
   "source": [
    "<h4 style=\"text-align:right\">CCME,&nbsp; Peking University</h4>\n",
    "***\n",
    "<p>\n",
    "<h1 style=\"text-align:center\"><font face=\"Times Roman\" size=8> Quantum Phase Space v.s. <br> Quantum Path Integral</font></h1>\n",
    "<br>\n",
    "<h2 style=\"text-align:center\"><font face=\"Times Roman\">Author &nbsp;XShinHe</font> </h2>\n",
    "<h2 style=\"text-align:center\"><font face=\"Times Roman\">2018.8</font> </h2>"
   ]
  },
  {
   "cell_type": "markdown",
   "metadata": {},
   "source": [
    "# 0. Quantum esembles"
   ]
  },
  {
   "cell_type": "markdown",
   "metadata": {},
   "source": [
    "as we konw, quantum density operator can write as:  \n",
    "$$\\hat{\\rho} = \\mid \\psi \\rangle\\langle \\psi\\mid $$  \n",
    "when we consider in real time :  \n",
    "$$\\hat{\\rho}_t = \\mid \\psi(t) \\rangle\\langle \\psi(t) \\mid = e^{-i\\hat{H}t/\\hbar} \\hat{\\rho}_0  e^{i\\hat{H}t/\\hbar} $$ \n",
    "when in imaginary time :  \n",
    "$$\\hat{\\rho} = \\mid \\psi \\rangle\\langle \\psi\\mid = \\frac{1}{Z}e^{-\\beta \\hat{H}}$$ "
   ]
  },
  {
   "cell_type": "markdown",
   "metadata": {},
   "source": [
    "Cosideration the conresspondings:\n",
    "* from **Wick rotation**  \n",
    "with $it/\\hbar = \\beta$, let:  \n",
    "$$ e^{-i\\hat{H}t/\\hbar} = e^{-\\beta\\hat{H}} $$\n",
    "$$e^{i\\hat{H}t/\\hbar} = e^{0} $$\n",
    "\n",
    "then following will show that:  \n",
    "$$\\hat{\\rho}(\\beta=0) = \\frac{1}{Z} $$\n"
   ]
  },
  {
   "cell_type": "markdown",
   "metadata": {},
   "source": [
    "## 0.1 Negative temperature and Fermi/Boson statistic"
   ]
  },
  {
   "cell_type": "markdown",
   "metadata": {},
   "source": [
    "for Boltzman distribution, one can view as:  \n",
    "$$ \\hat{\\rho} = e^{-\\beta(\\hat{H}-F)} = \\frac{1}{Z}e^{-\\beta\\hat{H}}$$  \n",
    "where \n",
    "$$ F \\overset{def}{==} -\\frac{1}{\\beta} \\ln Z$$\n",
    "so when $\\beta \\to 0$, then the $\\beta \\hat{H} \\to 0$, and $\\beta F \\to -\\ln Z$. then:  \n",
    "$$ \\hat{\\rho}(\\beta\\to 0) = \\frac{1}{Z}$$\n",
    "how about when $\\beta$ to be negative?  \n",
    "All we know that the **Wick rotation** mapping:  \n",
    "$$ it/\\hbar \\mapsto \\beta $$\n",
    "if negative $\\beta$ is meaningless, so whether let that: \n",
    "$$ -it/\\hbar \\mapsto 0 $$"
   ]
  },
  {
   "cell_type": "markdown",
   "metadata": {},
   "source": [
    "* ### Fermi-Dirac distribution"
   ]
  },
  {
   "cell_type": "markdown",
   "metadata": {},
   "source": [
    "as see of Fermi-Dirac distribution, the density operator write as:  \n",
    "$$\\hat{\\rho}_{FD} = \\frac{1}{e^{\\beta(\\hat{H}-F)}+1}$$"
   ]
  },
  {
   "cell_type": "markdown",
   "metadata": {},
   "source": [
    "* ### Bose-Einstern distribution"
   ]
  },
  {
   "cell_type": "markdown",
   "metadata": {},
   "source": [
    "as see of Bose-Einstern distribution, the density operator write as:  \n",
    "$$\\hat{\\rho}_{BE} = \\frac{1}{e^{\\beta(\\hat{H}-F)}-1}$$"
   ]
  },
  {
   "cell_type": "markdown",
   "metadata": {},
   "source": [
    "note when $\\beta \\to 0$, FD distribution apprach :  \n",
    "$$\\hat{\\rho}_{FD} = \\frac{1}{e^{-\\beta F}+1}$$"
   ]
  },
  {
   "cell_type": "code",
   "execution_count": null,
   "metadata": {},
   "outputs": [],
   "source": []
  }
 ],
 "metadata": {
  "kernelspec": {
   "display_name": "Python 3",
   "language": "python",
   "name": "python3"
  },
  "language_info": {
   "codemirror_mode": {
    "name": "ipython",
    "version": 3
   },
   "file_extension": ".py",
   "mimetype": "text/x-python",
   "name": "python",
   "nbconvert_exporter": "python",
   "pygments_lexer": "ipython3",
   "version": "3.5.4"
  }
 },
 "nbformat": 4,
 "nbformat_minor": 2
}
