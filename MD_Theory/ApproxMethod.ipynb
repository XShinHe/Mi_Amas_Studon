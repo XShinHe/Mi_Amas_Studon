{
 "cells": [
  {
   "cell_type": "markdown",
   "metadata": {},
   "source": [
    "<h4 style=\"text-align:right\">CCME,&nbsp; Peking University</h4>\n",
    "***\n",
    "<p>\n",
    "<h1 style=\"text-align:center\"><font face=\"Times Roman\" size=8> Approxiamtion methods</font></h1>\n",
    "<br>\n",
    "<h2 style=\"text-align:center\"><font face=\"Times Roman\">Author &nbsp;XShinHe</font> </h2>\n",
    "<h2 style=\"text-align:center\"><font face=\"Times Roman\">2018.7</font> </h2>"
   ]
  },
  {
   "cell_type": "markdown",
   "metadata": {},
   "source": [
    "# LGA"
   ]
  },
  {
   "cell_type": "markdown",
   "metadata": {},
   "source": []
  },
  {
   "cell_type": "markdown",
   "metadata": {},
   "source": [
    "# TGA"
   ]
  },
  {
   "cell_type": "markdown",
   "metadata": {},
   "source": [
    "# FKA"
   ]
  },
  {
   "cell_type": "markdown",
   "metadata": {},
   "source": [
    "## 3.1 Feynman Kleinert implementation of CW approximation --- FK-LPI"
   ]
  },
  {
   "cell_type": "markdown",
   "metadata": {},
   "source": [
    "* **Classical Wigner approximation**"
   ]
  },
  {
   "cell_type": "markdown",
   "metadata": {},
   "source": [
    "CW method gives quantum time correlation as:  \n",
    "$$\\langle \\hat{A}(0)\\hat{B}(t) \\rangle = \\frac{1}{Z}\\int dpdq [e^{\\beta\\hat{H}}\\hat{A}]_W (q,p) [\\hat{B}]_W (q_t,p_t)$$"
   ]
  },
  {
   "cell_type": "markdown",
   "metadata": {},
   "source": [
    "where the Wigner function as:  \n",
    "$$ [\\hat{C}]_W (q,p) = \\int d\\eta e^{ip\\eta/\\hbar}\\langle q-\\eta/2 \\mid \\hat{C} \\mid q+\\eta/2 \\rangle $$\n",
    "and density with factor as:  \n",
    "$$ P_W (q,p) = \\frac{1}{2\\pi\\hbar} \\int d\\eta e^{ip\\eta/\\hbar}\\langle q-\\eta/2 \\mid \\hat{\\rho} \\mid q+\\eta/2 \\rangle $$"
   ]
  },
  {
   "cell_type": "markdown",
   "metadata": {},
   "source": [
    "> * **NOTE**  \n",
    "the Wigner phase space equals trace if:  \n",
    "$$ Tr[\\hat{A}\\hat{B}\\hat{C}] = \\int dqdp A(q,p)\\star B(q,p)\\star C(q,p) $$\n",
    "where $\\star$ is the Moyal star, but for Wigner phase space, only dual-operation satisfies:  \n",
    "$$ \\int dqdp A(q,p)\\star B(q,p) = \\int dqdp A(q,p)B(q,p) $$\n",
    "so in classical form integration of phase space, the term should no more than two.  "
   ]
  },
  {
   "cell_type": "markdown",
   "metadata": {},
   "source": [
    "* **Fernman-Kleinert Approximation**"
   ]
  },
  {
   "cell_type": "markdown",
   "metadata": {},
   "source": [
    "$$ Z = e^{-\\beta F} = \\int \\mathscr{D}x e^{-\\int_0^{\\beta} d\\tau [ m\\frac{\\dot{x}^2(\\tau)}{2} + V(x,\\tau) ]}$$  \n",
    "treat Fourier series ( for $x_n$ is complex ):  \n",
    "$$ x(\\tau) = x_0 + \\sum_{n=1}^{\\infty} (x_n e^{i\\omega_n \\tau} + c.c.) ,\\,\\, w_n =2\\pi n/\\beta$$  \n",
    "the Z write as:  \n",
    "$$ Z = \\int \\frac{dx_0}{\\sqrt{2\\pi\\beta}} \\big[ \\prod_{n=1}^{\\infty} \\int \\frac{dx_n^{real}dx_n^{im}}{\\pi/(\\beta\\omega_n^2)} e^{ -\\beta\\sum_{n=1}^{\\infty}\\omega_n^2|x_n|^2 - \\int_0^{\\beta} V(x(\\tau)) } \\big] $$"
   ]
  },
  {
   "cell_type": "markdown",
   "metadata": {},
   "source": [
    "If all $x_n$ can be integrated, then:  \n",
    "$$ Z = \\int \\frac{x_0}{\\sqrt{2\\pi\\beta}} e^{-\\beta W(x_0)} $$  \n",
    "in high temperature limit:  \n",
    "$$ x_n \\sim \\frac{1}{\\omega_n \\sqrt{\\beta}} $$\n",
    "so $V(x(\\tau)) \\sim V(x_0)$ to derive the classical partition function.  \n",
    "$$ Z_{cl} = \\int \\frac{dx_0}{\\sqrt{2\\pi\\beta}} e^{-\\beta V(x_0)}$$"
   ]
  },
  {
   "cell_type": "markdown",
   "metadata": {},
   "source": [
    "> #### for arbitrary potential  \n",
    "we consider fitting\n",
    "$$ \\int d\\tau V(x(\\tau)) = \\int d\\tau V\\big( x_0 + \\sum_{n=1}^{\\infty}(x_n e^{i\\omega_n\\tau} +c.c.) \\big) \\\\\n",
    "= \\int d\\tau \\frac{1}{2} \\Omega^2(x_0)(x(\\tau) - x_0 )^2  +  \\beta L_1(x_0)\n",
    "$$ \n",
    "differenate on $\\tau$ :\n",
    "$$ V(x(\\tau)) = \\frac{1}{2} \\Omega^2(x_0) (x(\\tau)-x_0)^2 + \\beta \\frac{\\partial}{\\partial\\tau}L_1$$  \n",
    "for $L_1$ is not related to $\\tau$, so such a fitting is just based on the local approximation on $x_0$.  \n",
    "$$ V(x(\\tau)) = \\frac{1}{2} \\Omega^2(x_0) (x(\\tau)-x_0)^2  $$"
   ]
  },
  {
   "cell_type": "markdown",
   "metadata": {},
   "source": [
    "> what the **FKA** considering is that:  \n",
    "with the arbitrary partition function as:  \n",
    "$$ Z_1  = \\int \\mathscr{D}x(\\tau) e^{-\\int_0^{\\beta} d\\tau \\{ \\frac{m\\dot{x}^2(\\tau)}{2} + \\frac{\\Omega^2(x_0)}{2}\n",
    "[ x(\\tau) - x_0 ]^2 - \\beta L_1\\} } =  \\int \\frac{dx_0}{\\sqrt{2\\pi\\beta}} \\frac{\\beta\\Omega(x_0)/2}{\\sinh[\\beta\\Omega(x_0)/2]} e^{-\\beta L_1(x_0) } $$\n",
    "and\n",
    "$$ \\langle O \\rangle_1  = \\frac{1}{Z_1} \\int \\mathscr{D}x(\\tau) O e^{-\\int_0^{\\beta} d\\tau \\{ \\frac{m\\dot{x}^2(\\tau)}{2} + \\frac{\\Omega^2(x_0)}{2}\n",
    "[ x(\\tau) - x_0 ]^2 - \\beta L_1\\} } $$  \n",
    "let $V(x(\\tau))$ also in Fourier series as:  \n",
    "$$ V(x(\\tau)) = \\int \\frac{dp}{2\\pi} \\tilde{V}(q)exp\\big\\{iq[x_0 + (\\sum_{n=0}^{\\infty} e^{i\\omega_n \\tau} + c.c.)]\\big\\} $$\n",
    "then evaluate:  \n",
    "$$ \\langle V(x(\\tau)) \\rangle_1 =  \\frac{1}{Z_1} \\int \\frac{dx_0}{\\sqrt{2\\pi\\beta}} \\prod_{n=1}^{\\infty} \\frac{dx_n^{real}dx_n^{im}}{\\pi/(\\beta\\omega_n^2)}  \n",
    "e^{ -\\beta\\sum_{n=1}^{\\infty}[\\omega_n^2 + \\Omega^2(x_0)]|x_n|^2 - \\int_0^{\\beta} V(x(\\tau)) - \\beta L_1(x_0) + i q[x_0 + (\\sum_{n=0}^{\\infty} e^{i\\omega_n \\tau} + c.c.)] } \n",
    "\\\\ = \\frac{1}{Z_1} \\int \\frac{dx_0}{\\sqrt{2\\pi\\beta}} \\frac{\\beta\\Omega(x_0)/2}{\\sinh[\\beta\\Omega(x_0)/2]} e^{-\\beta L_1(x_0) } V_{a^2(x_0)}(x_0)  $$  \n",
    "here \n",
    "$$ a^2(x_0) = \\frac{2}{\\beta} \\sum_{n=0}^{\\infty} \\frac{1}{\\omega_n^2 + \\Omega^2(x_0)}$$\n",
    "and where \n",
    "$$V_{a^2}(x) = \\int \\frac{dx'}{(2\\pi a^2)^{1/2}} \\exp[-\\frac{1}{2a^2}(x-x')^2]V(x')$$"
   ]
  },
  {
   "cell_type": "markdown",
   "metadata": {},
   "source": [
    "> we define:\n",
    "$$ \\langle M \\rangle_1 = \\langle V(x(\\tau)) - \\frac{\\Omega^2(x_0)}{2}[x(\\tau)-x_0]^2 - L_1(x_0) \\rangle_1 \n",
    "\\\\ = \\frac{1}{Z_1} \\int \\frac{dx_0}{\\sqrt{2\\pi\\beta}} \\frac{\\beta\\Omega(x_0)/2}{\\sinh[\\beta\\Omega(x_0)/2]} e^{-\\beta L_1(x_0) } \\big[ V_{a^2(x_0)}(x_0) - \\frac{\\Omega^2(x_0)}{2}a^2(x_0) - L_1(x_0) \\big] $$\n",
    "> boundary condition showing that:  \n",
    "$$ Z_{real} > Z_1 e^{ - \\langle \\int_0^{\\beta} d\\tau M  \\rangle_1} $$"
   ]
  },
  {
   "cell_type": "markdown",
   "metadata": {},
   "source": [
    "* **Procedure for FKA**  "
   ]
  },
  {
   "cell_type": "markdown",
   "metadata": {},
   "source": [
    "1. suppose a smoothed potential ny $a^2(x)$:  \n",
    "$$ V_{a^2}(x) = \\int \\frac{dx'}{(2\\pi a^2)^{1/2}} \\exp[-\\frac{1}{2a^2}(x-x')^2]V(x')$$  \n",
    "2. suppose the parameter $\\Omega$ to constructure (functional) function:  \n",
    "$$ W_1[x_0, a^2, \\Omega] =  \\frac{1}{\\beta}\\ln \\frac{\\sinh(\\beta\\Omega/2)}{\\beta\\Omega/2} - \\frac{\\Omega^2}{2}a^2 + V_{a^2}(x_0)$$  \n",
    "3. minimiize $W_1$ functional at each $x_0$ (also gives $a^(x_0),\\,\\,\\Omega(x_0)$ ):  \n",
    "by miniz $\\Omega$, to have relationship of $\\Omega$ and $a^2$ :  \n",
    "$$ a^2 = \\frac{1}{\\beta\\Omega^2} \\big[ \\frac{\\beta\\Omega}{2} \\coth[\\frac{\\beta\\Omega}{2}] - 1 \\big] $$\n",
    "and by miniz $a^2$, to have relationship of $\\Omega$ and $a^2$ : \n",
    "$$ \\Omega^2(x_0) =2\\frac{\\partial}{\\partial a^2} V_{a^2} (x_)) = \\frac{\\partial^2}{\\partial x_0^2} V_{a^2}(x_0)$$"
   ]
  },
  {
   "cell_type": "markdown",
   "metadata": {},
   "source": [
    "> * or from some mathematic technique:  \n",
    "$$ \\sum_{n=1}^{\\infty} \\frac{1}{n^2 +x^2} = \\pi \\frac{1}{2x} \\coth[\\pi x] - \\frac{1}{x^2} $$  \n",
    "let $u=\\frac{\\beta\\Omega}{2}$, then:  \n",
    "$$ a^2 = \\frac{\\beta}{4u}L(u) $$\n",
    "for Langevin function:  \n",
    "$$ L(x) \\overset{def}{==} \\coth[x] - \\frac{1}{x} $$"
   ]
  },
  {
   "cell_type": "markdown",
   "metadata": {},
   "source": [
    "* **FK density operator**"
   ]
  },
  {
   "cell_type": "markdown",
   "metadata": {},
   "source": [
    "for above $x_0$, is the o-th order of Fourer series on section $[0,\\beta\\hbar]$.  \n",
    "so\n",
    "$$ x_c = x_0 \\overset{def}{==} \\frac{1}{\\beta\\hbar} \\int_0^{\\beta\\hbar} d\\tau x(\\tau) ,\\, p_c \\overset{def}{==} \\frac{1}{\\beta\\hbar} \\int_0^{\\beta\\hbar} d\\tau p(\\tau)  $$"
   ]
  },
  {
   "cell_type": "code",
   "execution_count": null,
   "metadata": {},
   "outputs": [],
   "source": []
  }
 ],
 "metadata": {
  "kernelspec": {
   "display_name": "Python 3",
   "language": "python",
   "name": "python3"
  },
  "language_info": {
   "codemirror_mode": {
    "name": "ipython",
    "version": 3
   },
   "file_extension": ".py",
   "mimetype": "text/x-python",
   "name": "python",
   "nbconvert_exporter": "python",
   "pygments_lexer": "ipython3",
   "version": "3.5.4"
  }
 },
 "nbformat": 4,
 "nbformat_minor": 2
}
