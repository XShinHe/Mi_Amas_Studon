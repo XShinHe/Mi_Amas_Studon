{
 "cells": [
  {
   "cell_type": "markdown",
   "metadata": {},
   "source": [
    "# classical limit of mapping-method, 2001"
   ]
  },
  {
   "cell_type": "markdown",
   "metadata": {},
   "source": [
    "> Hamiltonian \n",
    "$$\n",
    "\\hat{H} = \\frac{P^2}{2M} + \\sum_k \\frac{1}{2}(x_k^2 + p_k^2-\\hbar) \\Omega_{kk} + \\sum_{k<k'}(x_k x_{k'}+ p_k p_{k'}) \\Omega_{kk'} \n",
    "$$"
   ]
  },
  {
   "cell_type": "markdown",
   "metadata": {},
   "source": [
    "> Propagator:\n",
    "$$\n",
    "\\langle x_t R_t \\mid e^{-iHt/\\hbar} \\mid x_0 R_0 \\rangle\n",
    "= \\lim_{P\\to \\infty} \\int d\\{R,x\\} \\prod_{j=0}^{P-1} \\langle x_{j+1} R_{j+1} \\mid e^{-iH\\epsilon/\\hbar} \\mid x_j R_j \\rangle\n",
    "\\\\\n",
    "x_PR_P = x_t R_t \n",
    "$$"
   ]
  },
  {
   "cell_type": "markdown",
   "metadata": {},
   "source": [
    "> Time evolution operator(PI formalism)\n",
    "$$\n",
    "e^{-iHt/\\hbar} = \\lim_{P\\to \\infty} \\int d\\{R,x\\} \\big(\\frac{2\\pi\\hbar M}{i\\epsilon}\\big)^{P/2} \\big\\{\\prod_{j=0}^{P-1}\\prod_{k=1}^d \\big( \\frac{2\\pi\\hbar}{i\\epsilon\\omega_k(R_j)}\\big)^{1/2} \\big\\}\n",
    "\\times\n",
    "\\exp[\\frac{iM}{2\\hbar\\epsilon}\\sum_{j=0}^{P-1}(R_{j+1}-R_j)^2]\n",
    "\\\\ \\times\n",
    "\\exp[\\frac{i}{2\\hbar\\epsilon}\\sum_{j=0}^{P-1}(x_{j+1}-x_j)^T\\Omega^{-1}(R_j) (x_{j+1}-x_j) ]\n",
    "\\exp[-\\frac{i\\epsilon}{2\\hbar}\\sum_{j=0}^{P-1}x_j^T\\Omega(R_j) x_j ]\n",
    "\\exp[\\frac{i\\epsilon}{2}\\sum_{j=0}^{P-1}Tr[\\Omega(R_j)]]\n",
    "\\\\ \\times\n",
    "\\mid x_t R_t \\rangle \\langle x_0 R_0 \\mid\n",
    "$$\n",
    "note all $x_j$ are vectors with elements $x_{j,k}$, meaning j-bead, k-component (of matrix)."
   ]
  },
  {
   "cell_type": "markdown",
   "metadata": {},
   "source": [
    "> Using vitual mass weight variables  \n",
    "$$\n",
    "y_{j,k} = x_{j,k} / \\sqrt{\\omega(R_j)}\n",
    "\\\\\n",
    "e^{-iHt/\\hbar} = \\lim_{P\\to \\infty} \\int d\\{R,y\\} \\big(\\frac{2\\pi\\hbar M}{i\\epsilon}\\big)^{P/2} \\big( \\frac{2\\pi\\hbar}{i\\epsilon}\\big)^{Pd/2} \\big( \\prod_{k=1}^d \\sqrt{\\omega_k(R_t)}\\big)\n",
    "\\times\n",
    "\\exp[\\frac{iM}{2\\hbar\\epsilon}\\sum_{j=0}^{P-1}(R_{j+1}-R_j)^2]\n",
    "\\\\ \\times\n",
    "\\exp[\\frac{i}{2\\hbar\\epsilon}\\sum_{j=0}^{P-1}(\\sqrt{D(R_{j+1})}y_{j+1}-\\sqrt{D(R_j)}y_j)^T\\Omega^{-1}(R_j) (\\sqrt{D(R_{j+1})}y_{j+1}-\\sqrt{D(R_j)}y_j) ]\n",
    "\\\\ \\times\n",
    "\\exp[-\\frac{i\\epsilon}{2\\hbar}\\sum_{j=0}^{P-1}\\sqrt{D(R_j)}y_j^T\\Omega(R_j) \\sqrt{D(R_j)} y_j ]\n",
    "\\exp[\\frac{i\\epsilon}{2}\\sum_{j=0}^{P-1}Tr[\\Omega(R_j)]]\n",
    "\\times\n",
    "\\mid y_t R_t \\rangle \\langle y_0 R_0 \\mid\n",
    "$$\n",
    "or write as:\n",
    "$$\n",
    "e^{-iHt/\\hbar} = \\int dR_t dy_t dR_0 dy_0 \\mid R_ty_t\\rangle\\langle R_0y_0\\mid \\times \\prod_{k=1}^d \\sqrt{\\omega_k(R_t)}\n",
    "\\\\ \\times\n",
    "\\int \\mathcal{D}[R(\\tau)]\\mathcal{D}[y(\\tau)] \\exp\\{iS(R(\\tau),y(\\tau))/\\hbar \\} \\exp\\{ i\\int_0^t d\\tau Tr[\\Omega(R(\\tau))] \\}\n",
    "$$\n",
    "for trace is not order of $1/\\hbar$, so put it out of the action, then the action as: \n",
    "$$\n",
    "S[R_{\\tau},y_{\\tau}] = \\int_0^t d\\tau \n",
    "\\big\\{\n",
    "\\frac{M}{2}(\\frac{R_{\\tau}}{d\\tau})^2 + \\frac{1}{2}\\big(\\frac{d\\sqrt{D(R_{\\tau})}y_{\\tau}}{d\\tau}\\big)^T \\Omega^{-1}(R_{\\tau}) \n",
    "\\big(\\frac{d\\sqrt{D(R_{\\tau})}y_{\\tau}}{d\\tau}\\big)\n",
    "- \\frac{1}{2}y_{\\tau}^T \\Omega(R_{\\tau}) y_{\\tau}\n",
    "\\big\\}\n",
    "$$"
   ]
  },
  {
   "cell_type": "markdown",
   "metadata": {},
   "source": [
    "> Applying $\\delta S=0$, get its Lagrange equation. Here we note for $d=2$, the Lagrangian can be written as:  \n",
    "$$\n",
    "\\mathcal{L} = \\frac{1}{2}\n",
    "\\big[\n",
    "    M + \\frac{\\Omega_{22}}{4\\omega_2} \\big(y_1 \\frac{d\\ln \\omega_1}{dR}\\big)^2\n",
    "    + \\frac{\\Omega_{11}}{4\\omega_1} \\big(y_2 \\frac{d\\ln \\omega_2}{dR}\\big)^2\n",
    "    - \\frac{\\Omega_{12}}{2\\sqrt{\\omega_1\\omega_2}} \\big(y_1 \\frac{d\\ln \\omega_1}{dR}\\big)\\big(y_2 \\frac{d\\ln \\omega_2}{dR}\\big)^2\n",
    "\\big]^2 \\dot{R}^2\n",
    "\\\\\n",
    "+ \n",
    "\\frac{1}{2}\n",
    "\\big[\n",
    "    \\frac{\\Omega_{22}}{\\omega_2} \\big(y_1 \\frac{d\\ln \\omega_1}{dR}\\big)\n",
    "    - \\frac{\\Omega_{12}}{\\sqrt{\\omega_1\\omega_2}} \\big(y_2 \\frac{d\\ln \\omega_2}{dR}\\big) \n",
    "\\big]\\dot{R}\\dot{y}_1\n",
    "\\\\\n",
    "+ \n",
    "\\frac{1}{2}\n",
    "\\big[\n",
    "    \\frac{\\Omega_{11}}{\\omega_1} \\big(y_2 \\frac{d\\ln \\omega_2}{dR}\\big)\n",
    "    - \\frac{\\Omega_{12}}{\\sqrt{\\omega_1\\omega_2}} \\big(y_2 \\frac{d\\ln \\omega_2}{dR}\\big) \n",
    "\\big]\\dot{R}\\dot{y}_2\n",
    "\\\\\n",
    "- \\frac{\\Omega_{12}}{\\sqrt{\\omega-1\\omega_2}} \\dot{y}_1 \\dot{y}_2 + \\frac{\\Omega_{11}}{2\\omega_1}\\dot{y}_1\n",
    "+ \\frac{\\Omega_{22}}{2\\omega_2}\\dot{y}_2 - \\frac{\\Omega_{11}\\omega_1}{2}\\dot{y}^2_1\n",
    "- \\frac{\\Omega_{22}\\omega_2}{2}\\dot{y}^2_2 - \\Omega_{12}\\sqrt{\\omega_1\\omega_2}y_1y_2\n",
    "$$\n",
    "with the form of Hamiltonian as:\n",
    "$$\n",
    "H = \\frac{1}{2M} \\big\\{\n",
    "P - \\frac{y_1p_1}{2}\\frac{d\\ln \\omega_1}{dR} - \\frac{y_2p_2}{2}\\frac{d\\ln \\omega_2}{dR}\n",
    "\\big\\}^2\n",
    "+ \\frac{\\Omega_{11}}{2\\omega_1} p_1^2 + \\frac{\\Omega_{22}}{2\\omega_2} p_2^2\n",
    "+ \\frac{\\Omega_{12}}{\\sqrt{\\omega_1\\omega_2}} p_1 p_2\n",
    "+ \\frac{\\Omega_{11}}{2} \\omega_1 y_1^2 + + \\frac{\\Omega_{22}}{2} \\omega_2 y_2^2\n",
    "+ \\Omega_{12}\\sqrt{\\omega_1\\omega_2}y_1y_2\n",
    "$$"
   ]
  },
  {
   "cell_type": "markdown",
   "metadata": {},
   "source": [
    "> By canonical transform as:\n",
    "$$\n",
    "R \\gets R\n",
    "\\\\\n",
    "P \\gets P - \\sum_j \\frac{y_j p_j}{2}\\frac{d\\ln \\omega_j}{dR}\n",
    "\\\\\n",
    "x_j \\gets \\sqrt{\\omega_j}y_j\n",
    "\\\\\n",
    "p_j \\gets p_j/\\sqrt{\\omega_j}\n",
    "$$\n",
    "then we have MM-like formalism without $\\hbar$ as:  \n",
    "$$\n",
    "\\hat{H} = \\frac{P^2}{2M} + \\sum_k \\frac{1}{2}(x_k^2 + p_k^2) \\Omega_{kk} + \\sum_{k<k'}(x_k x_{k'}+ p_k p_{k'}) \\Omega_{kk'} \n",
    "$$"
   ]
  },
  {
   "cell_type": "markdown",
   "metadata": {},
   "source": [
    "# SC mapping using FOCUS, 2003, analysis on single-PES"
   ]
  },
  {
   "cell_type": "markdown",
   "metadata": {},
   "source": [
    "> Single surface case:  \n",
    "$$\n",
    "\\hat{H} = \\frac{P^2}{2M} + \\frac{1}{2}(x^2 + p^2 ) \\Omega(R)\n",
    "$$"
   ]
  },
  {
   "cell_type": "markdown",
   "metadata": {},
   "source": [
    "> Evolution operator and HKIVR  \n",
    "consider the coherent state of both nuclear and electronic freedom at time 0 as :\n",
    "$$\n",
    "\\langle RPxp \\mid \\psi_0^{(1)} \\rangle = \\chi_g(R,P) \\frac{1}{2\\sigma_{pq}} (2\\gamma x -ip/\\hbar) e^{-x^2/2\\sigma_x^2 - p^2/2\\sigma_p^2} e^{ixp/2\\sigma_{xp}\\hbar}\n",
    "$$\n",
    "and at time t as\n",
    "$$\n",
    "\\langle R'1 \\mid R_tP_tx_tp_t \\rangle = (\\frac{2\\Gamma}{\\pi})^{1/4} \\exp[-\\Gamma (R'-R_t)^2 + iP_t (R'-R_t)/\\hbar]\n",
    "\\\\ \\times\n",
    "\\frac{1}{2\\sigma_{xp}} (2\\gamma x + ip/\\hbar) e^{-x_t^2/2\\sigma_x^2 - p_t^2/2\\sigma_p^2}  e^{-ix_tp_t/2\\sigma_{xp}\\hbar}\n",
    "$$\n",
    "( $\\psi$ is total wave-function, where $0$ note time at zero, $(1)$ note the singal PES.)  \n",
    "and the amplitude at time $t$ is:  \n",
    "$$\n",
    "\\chi(R',t) = \\langle R'1 \\mid \\psi_t^{(1)} \\rangle =  \\langle R'1 \\mid e^{-iHt/\\hbar} \\mid \\psi_0^{(1)} \\rangle\n",
    "\\\\\n",
    "= \\int dRdPdxdp \\langle R'1 \\mid R_t P_t x_t p_t \\rangle C_t e^{iS_t/\\hbar} \\langle R_t P_t x_t p_t \\mid \\psi_0^{(1)} \\rangle\n",
    "$$\n",
    "where using HKIVR (both Nuclear & Electronic freedom)\n",
    "$$\n",
    "e^{-iHt} = \\int dRdPdxdp \\mid R_t P_t x_t p_t \\rangle C_t e^{iS_t/\\hbar} \\langle R_t P_t x_t p_t \\mid \n",
    "$$"
   ]
  },
  {
   "cell_type": "markdown",
   "metadata": {},
   "source": [
    "> * **Proof: the coherent transform of SEO rep**    \n",
    "$$\n",
    "\\langle xp\\mid \\psi \\rangle = \\int dy \\langle xp\\mid y \\rangle \\langle y \\mid \\psi \\rangle\n",
    "\\\\\n",
    "= \\int dy (\\frac{2\\gamma}{\\pi})^{1/4} e^{-\\gamma(y-x)^2 - ip(y-x)/\\hbar} (\\frac{1}{4\\pi})^{1/4}2y e^{-\\frac{1}{2}y^2}\n",
    "= 2(2\\gamma)^{1/4}\\frac{1}{(1+2\\gamma)^{3/2}} (2\\gamma x -ip/\\hbar) e^{-(p^2/\\hbar^2 - 2ipx/\\hbar + 2\\gamma x^2)/(2+4\\gamma)}\n",
    "$$\n",
    "then let \n",
    "$$\n",
    "\\sigma_x^2 = (\\gamma+1/2)/\\gamma\n",
    "\\\\\n",
    "\\sigma_p^2 = 2(\\gamma+1/2)\\hbar^2\n",
    "\\\\\n",
    "\\sigma_{xp} = (\\gamma+1/2)\n",
    "$$\n",
    "to that\n",
    "$$\n",
    "\\langle xp\\mid \\psi \\rangle\n",
    "=\n",
    "2^{-1/4}\\frac{\\gamma^{1/4}}{\\sigma_{xp}^{3/2}} (2\\gamma x -ip/\\hbar) e^{-p^2/2\\sigma_p^2 - x^2/2\\sigma_x^2)} e^{ ipx/2\\sigma_{xp}\\hbar }\n",
    "$$  \n",
    "Here is little coefficients difference of Coker's work. Following still use Coker's form.  \n",
    "in Huo's work, this revised to (should be $\\sqrt{2}$)\n",
    "$$\n",
    "\\langle xp\\mid \\psi \\rangle\n",
    "=\n",
    "\\frac{1}{2} (x -ip) e^{-\\frac{1}{4}(p^2 - x^2)} e^{ ipx/2}\n",
    "$$  "
   ]
  },
  {
   "cell_type": "markdown",
   "metadata": {},
   "source": [
    "> The phase factor as:  \n",
    "$$\n",
    "\\tilde{S} = \\int_0^t d\\tau\n",
    "\\big[\n",
    "    L_{\\tau} + \\frac{\\hbar}{2}Tr[\\Omega(R_{\\tau}])\n",
    "\\big]\n",
    "\\\\\n",
    "L = \\frac{P^2}{2M} + \\sum_k \\frac{1}{2}(p_k^2 - x_k^2) \\Omega_{kk} + \\sum_{k<k'}( p_k p_{k'} - x_k x_{k'}) \\Omega_{kk'} = \\frac{P^2}{2M} + L_{el}\n",
    "$$\n",
    "attention that:  \n",
    "$$\n",
    "\\frac{1}{2}\\frac{d}{dt}(\\sum_k x_k p_k) = L_{el}\n",
    "$$\n",
    "so that\n",
    "$$\n",
    "e^{-ix_tp_t/2\\sigma_{xp}\\hbar}e^{ixp/2\\sigma_{xp}\\hbar}\n",
    "= \\exp[-\\frac{i}{\\sigma_{xp}\\hbar}\\int_0^t d\\tau \\frac{1}{2}\\frac{d}{d\\tau}(\\sum_k x_k p_k) ]\n",
    "= \\exp[-\\frac{i}{\\sigma_{xp}\\hbar}\\int_0^t d\\tau L_{el}(\\tau) ]\n",
    "$$\n",
    "so the total imaginary phase is that:  \n",
    "$$\n",
    "\\Phi = \\int_0^t d\\tau \\big[ \\frac{P^2}{2M} + \\frac{\\hbar}{2} Tr[\\Omega] + (1-\\frac{1}{\\sigma_{xp}})L_{el} \\big]\n",
    "$$\n",
    "so choose $\\gamma=1/2$ to simply the formula as ($\\hbar=1$):  \n",
    "$$\n",
    "\\Phi = \\int_0^t d\\tau \\big[ \\frac{P^2}{2M} + \\frac{\\hbar}{2} Tr[\\Omega]  \\big]\n",
    "$$"
   ]
  },
  {
   "cell_type": "markdown",
   "metadata": {},
   "source": [
    "> Finally we get general formalism:  \n",
    "$$\n",
    "\\chi(R',t) = \\langle R'1 \\mid \\psi_t^{(1)} \\rangle\n",
    "= \\int dRdPdxdp (\\frac{2\\Gamma}{\\pi})^{1/4} \\exp[-\\Gamma (R'-R_t)^2 + iP_t (R'-R_t)]\n",
    "\\\\ \\times \n",
    "C_t \\exp\\big[i\\int_0^t d\\tau \\{ \\frac{P^2}{2M} + \\frac{1}{2}Tr[\\Omega] \\} \\big]\n",
    "\\exp\\big[-(x^2+p^2)/2 \\big] \\frac{1}{4}(x_t+ip_t)(x-ip) \\chi_g(R,P)\n",
    "$$\n",
    "here have merged $\\exp\\big[-(x^2+p^2)/4 \\big]$ and $\\exp\\big[-(x_t^2+p_t^2)/4 \\big]$ to $\\exp\\big[-(x^2+p^2)/2 \\big]$, for population conservation."
   ]
  },
  {
   "cell_type": "markdown",
   "metadata": {},
   "source": [
    "> single PES special case  \n",
    "it has properity as (since single PES $Tr[\\Omega]=\\Omega$): \n",
    "$$\n",
    "(x_t+ip_t)(x-ip) = (x^2+p^2)\\exp[-i\\int_0^t d\\tau \\Omega]\n",
    "$$\n",
    "so give initial electronic density and phase as:  \n",
    "$$\n",
    "\\rho = \\frac{1}{4}(x^2+p^2)e^{-(x^2+p^2)/2}\n",
    "\\\\\n",
    "\\Phi = \\int_0^t d\\tau \\big[ \\frac{P^2}{2M} - \\frac{\\hbar}{2} Tr[\\Omega]  \\big]\n",
    "$$"
   ]
  },
  {
   "cell_type": "markdown",
   "metadata": {},
   "source": [
    "> Approx **steepest descent condition**, that make $x^2+p^2 = 2$, such focus Hamiltonian as:  \n",
    "$$\n",
    "H_f = \\frac{P^2}{2M} +\\Omega(R)\n",
    "$$"
   ]
  },
  {
   "cell_type": "markdown",
   "metadata": {},
   "source": [
    "# On more PES"
   ]
  },
  {
   "cell_type": "markdown",
   "metadata": {},
   "source": [
    "> Still similiar (Two PES case):  \n",
    "$$\n",
    "\\chi_{f\\gets i}(R',t) = \\langle R'f \\mid e^{-iHt/\\hbar} \\mid \\psi_0^{(i)} \\rangle\n",
    "= \\int dRdPd\\vec{x}d\\vec{p} (\\frac{2\\Gamma}{\\pi})^{1/4} \\exp[-\\Gamma (R'-R_t)^2 + iP_t (R'-R_t)]\n",
    "\\\\ \\times \n",
    "C_t \\exp\\big[i\\int_0^t d\\tau \\{ \\frac{P^2}{2M} + \\frac{1}{2}Tr[\\Omega] \\} \\big]\n",
    "\\exp\\big[-\\sum_k(x_k^2+p_k^2)/2 \\big] \\frac{1}{4}(x_{f,t}+ip_{f,t})(x_i-ip_i) \\chi_g(R,P)\n",
    "$$"
   ]
  },
  {
   "cell_type": "markdown",
   "metadata": {},
   "source": [
    "> ALso analysis like:  \n",
    "$$\n",
    "(x_{1t}+ip_{1t})(x_1-ip_1) = \\frac{1}{det[S]} \\big\\{ [e^{-i\\Omega_+(t)}-\\zeta_-\\zeta_+e^{-i\\Omega_-(t)}](x_1^2+p_1^2)\n",
    "+\n",
    "\\zeta_-[e^{-i\\Omega_-(t)}-e^{-i\\Omega_+(t)}]\n",
    "(x_{2}+ip_{2})(x_1-ip_1)\n",
    "\\big\\}\n",
    "\\\\\n",
    "(x_{2t}+ip_{2t})(x_1-ip_1) = \\frac{1}{det[S]} \\big\\{ \\zeta_+ [e^{-i\\Omega_+(t)}-e^{-i\\Omega_-(t)}](x_1^2+p_1^2)\n",
    "+\n",
    "[e^{-i\\Omega_-(t)}-\\zeta_+\\zeta_-e^{-i\\Omega_+(t)}]\n",
    "(x_{2}+ip_{2})(x_1-ip_1)\n",
    "\\big\\}\n",
    "$$"
   ]
  },
  {
   "cell_type": "markdown",
   "metadata": {},
   "source": [
    "> C factor  \n",
    "C factor can also be analysis on the two PES"
   ]
  },
  {
   "cell_type": "markdown",
   "metadata": {},
   "source": [
    "> Focusing  \n",
    "the **coupled channel equation**  \n",
    "$$\n",
    "i\\frac{\\partial}{\\partial t} \\chi_j(R,t)\n",
    "= - \\frac{1}{2M} \\frac{\\partial^2}{\\partial R^2} x_j(R,t)\n",
    "+ \\sum_k \\Omega_{jk}(R)\\chi_k(R,t)\n",
    "$$\n",
    "with initial condition:  \n",
    "$$\n",
    "\\chi_j(R,0) = \\delta_{1,j}\\chi_1(R,0)\n",
    "$$\n",
    "so **SDC** approx. the initial condition:  \n",
    "$$\n",
    "x_1^2 + p_1^2 =2, \\quad x_2^2 + p_2^2 = 0\n",
    "$$"
   ]
  },
  {
   "cell_type": "markdown",
   "metadata": {},
   "source": [
    "> Mixed initial condition: Pass"
   ]
  },
  {
   "cell_type": "markdown",
   "metadata": {},
   "source": [
    "> APPENDIX:  \n",
    "* C-factor analysis on two PES case\n",
    "* mapping variables analysis on two PES case"
   ]
  },
  {
   "cell_type": "markdown",
   "metadata": {},
   "source": [
    "# LAND-map, 2005  \n",
    "* nucl: PI tech, help to give elec-IVR\n",
    "* elec: HKIVR\n",
    "* nucl: then linearized"
   ]
  },
  {
   "cell_type": "markdown",
   "metadata": {},
   "source": [
    "> the PI tech show that:  \n",
    "$$\n",
    "\\langle R_N 1_f \\mid e^{-iHt/\\hbar} \\mid R_0 1_i \\rangle\n",
    "= \\int \\prod_{k=1}^{N-1} \\frac{dR_kdP_k}{2\\pi\\hbar} \\frac{dP_N}{2\\pi\\hbar} e^{iS_{FP}/\\hbar}\n",
    "\\langle 1_f \\mid \\prod_k e^{-iH_{el}(R_k)\\epsilon/\\hbar} \\mid 1_i \\rangle\n",
    "\\\\\n",
    "H = \\frac{P^2}{2M} + H_{el}\n",
    "\\\\\n",
    "S_{FP} = \\epsilon \\sum_{k=1}^{N} [P_k(R_k-R_{k-1})/\\epsilon - \\frac{P_k^2}{2M}]\n",
    "$$"
   ]
  },
  {
   "cell_type": "markdown",
   "metadata": {},
   "source": [
    "> the propagator of electonic dof as:\n",
    "$$\n",
    "\\langle 1_f \\mid \\prod_k e^{-iH_{el}(R_k)\\epsilon/\\hbar} \\mid 1_i \\rangle\n",
    "\\\\\n",
    "= \\int dx_0 dp_0 C_t e^{iS_t/\\hbar} \n",
    "\\frac{1}{2\\sigma_{xp}} (2\\gamma x_{ft} + ip_{ft}/\\hbar) e^{-\\sum_k x_{kt}^2/2\\sigma_x^2 - \\sum_k p_{kt}^2/2\\sigma_p^2}  e^{-i\\sum_k x_{kt}p_{kt}/2\\sigma_{xp}\\hbar}\n",
    "\\\\ \\times\n",
    "\\frac{1}{2\\sigma_{xp}} (2\\gamma x_{i0} - ip_{i0}/\\hbar) e^{-\\sum_k x_{k0}^2/2\\sigma_x^2 - \\sum_k p_{k0}^2/2\\sigma_p^2}  e^{i\\sum_k x_{k0}p_{k0}/2\\sigma_{xp}\\hbar}\n",
    "$$"
   ]
  },
  {
   "cell_type": "markdown",
   "metadata": {},
   "source": [
    "> Note relationship: \n",
    "$$\n",
    "S_t = \\int_0^t d\\tau [\\sum_k p_k\\dot{x}_k - H_{el}(R_{\\tau})]\n",
    "\\\\\n",
    "= \\int_0^t d\\tau [\\frac{1}{2}\\sum_k H_{kk}(R_{\\tau})(p_k^2(\\tau)-x_k^2(\\tau)+\\hbar)\n",
    "+ \\frac{1}{2}\\sum_{k\\ne k'}H_{kk'}(R_{\\tau})(p_{k}^2(\\tau)p_{k'}^2(\\tau) - x_{k}^2(\\tau)x_{k'}^2(\\tau))]\n",
    "$$\n",
    "and\n",
    "$$\n",
    "\\frac{d}{d\\tau} \\sum_k p_k(\\tau)\\dot{x}_k(\\tau)\n",
    "=\\sum_k H_{kk}(R_{\\tau})(p_k^2(\\tau)-x_k^2(\\tau))\n",
    "+\\sum_{k\\ne k'}H_{kk'}(R_{\\tau})(p_{k}^2(\\tau)p_{k'}^2(\\tau) - x_{k}^2(\\tau)x_{k'}^2(\\tau))\n",
    "$$\n",
    "so choose $\\gamma=\\frac{1}{2}$, then $\\sigma_{xp} = 1$, give simple phase form (here merge the population conservasion):\n",
    "$$\n",
    "\\langle 1_f \\mid \\prod_k e^{-iH_{el}(R_k)\\epsilon/\\hbar} \\mid 1_i \\rangle\n",
    "\\\\\n",
    "\\propto \\int dx_0 dp_0 C_t e^{i\\frac{1}{2}\\int_0^td\\tau Tr[H]} \n",
    "(x_{ft} + ip_{ft}/\\hbar)(x_{i0} - ip_{i0}/\\hbar) e^{-\\frac{1}{2}\\sum_k (x_{k0}^2 + p_{k0}^2)}  \n",
    "$$"
   ]
  },
  {
   "cell_type": "markdown",
   "metadata": {},
   "source": [
    "> for HKINR:  \n",
    "$$\n",
    "\\frac{\\partial x_t}{\\partial x_0} + \\frac{\\partial p_t}{\\partial p_0}\n",
    "- 2i\\hbar\\gamma \\frac{\\partial x_t}{\\partial p_0} + \\frac{i}{2\\hbar\\gamma}\n",
    "\\frac{\\partial p_t}{\\partial x_0} = \\frac{\\partial \\eta_t}{\\partial \\eta_0}\n",
    "\\\\\n",
    "\\eta \\overset{def}{==} x+ip,\\quad\\text{for $\\gamma=1$}\n",
    "$$\n",
    "and for $\\eta$, having:  \n",
    "$$\n",
    "\\frac{d}{dt}\\eta_t = -iH_{el} \\eta_t\n",
    "\\\\\n",
    "M = \\frac{\\partial \\eta_t}{\\partial \\eta_0} = \\prod_k e^{-iH_{el}(R_k)\\epsilon}\n",
    "= e^{\\int_0^t d\\tau H}\n",
    "\\\\\n",
    "\\det[\\frac{\\partial \\eta_t}{\\partial \\eta_0}] = e^{i\\int_0^t d\\tau Tr[H]}\n",
    "\\\\\n",
    "c_t =\\sqrt{\\det M} = e^{i\\frac{1}{2}\\int_0^t d\\tau Tr[H]}\n",
    "$$\n"
   ]
  },
  {
   "cell_type": "markdown",
   "metadata": {},
   "source": [
    "> Final exact result:  \n",
    "$$\n",
    "\\langle 1_f \\mid \\prod_k e^{-iH_{el}(R_k)\\epsilon/\\hbar} \\mid 1_i \\rangle\n",
    "\\\\\n",
    "\\propto \\int dx_0 dp_0 (x_{ft}+ip_{ft})(x_{i0}-ip_{i0}) e^{-\\frac{1}{2}\\sum_k(x_{k0}^2+p_{k0}^2)}\n",
    "$$\n",
    "**is free of the nuclear path, why?**\n",
    "**it hides in $x_t,p_t$**"
   ]
  },
  {
   "cell_type": "markdown",
   "metadata": {},
   "source": [
    "> Action-angle variables:  \n",
    "$$\n",
    "K_{el} = \\int dx_0 dp_0 r_{ft}(\\{R_k\\}) e^{-i \\theta_{ft}(\\{R_k\\})}\n",
    "r_{i0} e^{i \\theta_{i0}} G_0\n",
    "\\\\\n",
    "r = \\sqrt{x^2+p^2},\\quad \\theta = \\tan^{-1}(p/x)\n",
    "\\\\\n",
    "G_0 = e^{-\\frac{1}{2}\\sum_k(x_{k0}^2+p_{k0}^2)}\n",
    "$$\n",
    "and explicit form for phase evolution:  \n",
    "$$\n",
    "\\theta_{ft}(\\{R_k\\}) =  \\theta_{f0} + \\int_0^t d\\tau [\\frac{d}{d\\tau}\n",
    "\\tan^{-1}[\\frac{p_{f\\tau}(R_{\\tau})}{x_{f\\tau}(R_{\\tau})}]]\n",
    "\\\\\n",
    "= \\theta_{f0} + \\int_0^t d\\tau H_{ff}(R_{\\tau})\n",
    "+ \\int_0^t d\\tau \\sum_{k\\ne f} [H_{fk}(R_{\\tau}) \\frac{p_{f\\tau}p_{k\\tau}+x_{f\\tau}x_{k\\tau}}{p_{f\\tau}^2+x_{f\\tau}^2}]\n",
    "$$"
   ]
  },
  {
   "cell_type": "markdown",
   "metadata": {},
   "source": [
    "> **Correlation function calculation**  \n",
    "forward-backward form:  \n",
    "$$\n",
    "C_{AB}(t) = \\int dx_0dp_0dR_0 dx'_0dp'_0dR'_0 \\int\\prod_{k=1}^{N-1}\\frac{dR_kdP_k}{2\\pi\\hbar} \\frac{dP_N}{2\\pi\\hbar}\n",
    "\\int\\prod_{k=1}^{N-1}\\frac{dR'_kdP'_k}{2\\pi\\hbar} \\frac{dP'_N}{2\\pi\\hbar} e^{i(S-S')/\\hbar}\n",
    "\\\\ \\times\n",
    "\\langle R_0 1_i \\mid \\hat{\\rho}\\hat{A} \\mid R'_0 1'_i\\rangle B_{1_f1'_f}(R_N)\n",
    "r_{ft}(\\{R_k\\}) e^{-i \\theta_{ft}(\\{R_k\\})}\n",
    "r_{i0} e^{i \\theta_{i0}}\n",
    "r'_{ft}(\\{R_k\\}) e^{i \\theta'_{ft}(\\{R_k\\})}\n",
    "r'_{i0} e^{-i \\theta'_{i0}} G_0 G'_0\n",
    "$$"
   ]
  },
  {
   "cell_type": "markdown",
   "metadata": {},
   "source": [
    "> Partial linearize  \n",
    "with \n",
    "$$\n",
    "\\bar{R} = \\frac{1}{2}(R+R')\n",
    "\\\\\n",
    "\\Delta R = R - R'\n",
    "$$\n",
    "partial wigner density:  \n",
    "$$\n",
    "(\\hat{\\rho}\\hat{A})^W_{i,i'}(\\bar{R}_0,\\bar{P}_1)\n",
    "= \\int d\\Delta R_0 \\langle \\bar{R}_0 - \\frac{1}{2}\\Delta R_0, 1_i \\mid \\hat{\\rho}\\hat{A} \\mid \\bar{R}_0 - \\frac{1}{2}\\Delta R_0, 1'_i\\rangle e^{iP_1 \\Delta R_0}\n",
    "$$\n",
    "and gives:  \n",
    "$$\n",
    "C_{AB}(t) =  \\int dx_0dp_0dx'_0dp'_0 d\\bar{R}_0 \\int\\prod_{k=1}^{N-1}\\frac{d\\bar{R}_kd\\bar{P}_k}{2\\pi\\hbar} \\frac{d\\bar{P}_N}{2\\pi\\hbar}  \n",
    "G_0 G'_0 [\\hat{\\rho}\\hat{A}]^W_{i,i'}(\\bar{R}_0,\\bar{P}_1) B_{1_f1'_f}(R_N) \n",
    "\\\\ \\times\n",
    "r_{ft}(\\{\\bar{R}_k\\}) e^{-i \\theta_{ft}(\\{\\bar{R}_k\\})}\n",
    "r_{i0} e^{i \\theta_{i0}}\n",
    "r'_{ft}(\\{\\bar{R}_k\\}) e^{i \\theta'_{ft}(\\{\\bar{R}_k\\})}\n",
    "r'_{i0} e^{-i \\theta'_{i0}}\n",
    "\\\\ \\times \n",
    "\\prod_k^{N-1}\\delta(\\frac{\\bar{P}_{k+1}-\\bar{P}_k}{\\epsilon} - F_k^{ff'})\n",
    "\\prod_k^{N-1}\\delta(\\frac{\\bar{P}_k}{M} - \\frac{\\bar{R}_{k}-\\bar{R}_{k-1}}{\\epsilon})\n",
    "$$\n",
    "here $F$ gives as:  \n",
    "$$\n",
    "F_k^{ff'} = -\\frac{1}{2}[\\nabla_{\\bar{R}_k}H_{ff}(\\bar{R}_k) + \\nabla_{\\bar{R}_k}H_{f'f'}(\\bar{R}_k)]\n",
    "\\\\\n",
    "-\\frac{1}{2}\\sum_{g\\ne f} [\\nabla_{\\bar{R}_k}H_{fg}(\\bar{R}_k)(\\frac{p_{fk}p_{gk} + x_{fk}x_{gk}}{p_{fk}^2 + x_{fk}^2})\n",
    "\\\\\n",
    "-\\frac{1}{2}\\sum_{g\\ne f'} [\\nabla_{\\bar{R}_k}H_{f'g}(\\bar{R}_k)(\\frac{p_{f'k}p_{gk} + x_{f'k}x_{gk}}{p_{f'k}^2 + x_{f'k}^2})\n",
    "$$"
   ]
  },
  {
   "cell_type": "markdown",
   "metadata": {},
   "source": [
    "> **the LAND-map procedure step**  \n",
    "1. assign $ 1_i, 1'_i, 1_f, 1'_f $  \n",
    "2. sampling $\\bar{R}_0, \\bar{P_1}$ from wigner distribution.\n",
    "3. sampling mapping variables in $1_i, 1'_i $\n",
    "4. **accumulate weight** as initial time\n",
    "5. integral over $\\bar{R}_1$ advancing the nuclear position by one step using: \n",
    "$$\n",
    "\\bar{R}_1 = \\bar{R}_0 + \\frac{\\bar{P}_1}{M} \\epsilon\n",
    "$$\n",
    "6. calculation elec-H at a new (linearized) nuclear position, and move mapping variables one step.  \n",
    "7. integer over $\\bar{P}_2$ by:  \n",
    "$$\n",
    "\\bar{P}_2 = \\bar{P}_1 + \\epsilon F_1^{ff'}\n",
    "$$\n",
    "8. **accumulate weight** and repeat to (5), until to last step.  \n",
    "9. calculate the $n_{tf},n_{tf'}$ and multiply the **weight**.  \n",
    "10. iterate to (1)"
   ]
  },
  {
   "cell_type": "markdown",
   "metadata": {},
   "source": [
    "> Performance"
   ]
  },
  {
   "cell_type": "markdown",
   "metadata": {},
   "source": [
    "# Iterative linearized approach, 2008"
   ]
  },
  {
   "cell_type": "markdown",
   "metadata": {},
   "source": [
    "> the PI tech show that:  \n",
    "$$\n",
    "\\langle R_N 1_f \\mid e^{-iHt/\\hbar} \\mid R_0 1_i \\rangle\n",
    "= \\int \\prod_{k=1}^{N-1} \\frac{dR_kdP_k}{2\\pi\\hbar} \\frac{dP_N}{2\\pi\\hbar} e^{iS_{FP}/\\hbar}\n",
    "\\langle 1_f \\mid \\prod_k e^{-iH_{el}(R_k)\\epsilon/\\hbar} \\mid 1_i \\rangle\n",
    "\\\\\n",
    "\\langle 1_f \\mid \\prod_k e^{-iH_{el}(R_k)\\epsilon/\\hbar} \\mid 1_i \\rangle\n",
    "= \\int dx_0 dp_0 r_{ft}(\\{R_k\\}) e^{-i \\theta_{ft}(\\{R_k\\})}\n",
    "r_{i0} e^{i \\theta_{i0}}G_0\n",
    "\\\\\n",
    "r = \\sqrt{x^2+p^2},\\quad \\theta = \\tan^{-1}(p/x)\n",
    "\\\\\n",
    "G_0 = e^{-\\frac{1}{2}\\sum_k(x_{k0}^2+p_{k0}^2)}\n",
    "$$\n",
    "and explicit form for phase evolution:  \n",
    "$$\n",
    "\\theta_{ft}(\\{R_k\\}) =  \\theta_{i0} + \\int_0^t d\\tau [\\frac{d}{d\\tau}\n",
    "\\tan^{-1}[\\frac{p_{f\\tau}(R_{\\tau})}{x_{f\\tau}(R_{\\tau})}]]\n",
    "\\\\\n",
    "= \\theta_{i0} + \\int_0^t d\\tau H_{ff}(R_{\\tau})\n",
    "+ \\int_0^t d\\tau \\sum_{k\\ne f} [H_{fk}(R_{\\tau}) \\frac{p_{f\\tau}p_{k\\tau}+x_{f\\tau}x_{k\\tau}}{p_{f\\tau}^2+x_{f\\tau}^2}]\n",
    "$$"
   ]
  },
  {
   "cell_type": "markdown",
   "metadata": {},
   "source": [
    "> Linearize to give:  \n",
    "$$\n",
    "C_{AB}(t) =  \\int\\prod_{k=1}^{N-1}\\frac{d\\bar{R}_kd\\bar{P}_k}{2\\pi\\hbar} \\frac{d\\bar{P}_N}{2\\pi\\hbar}   B_{1_f1'_f}(R_N) \n",
    "\\\\ \\times\n",
    "r_{ft}(\\{\\bar{R}_k\\}) e^{-i \\theta_{ft}(\\{\\bar{R}_k\\})}\n",
    "r'_{ft}(\\{\\bar{R}_k\\}) e^{i \\theta'_{ft}(\\{\\bar{R}_k\\})}\n",
    "\\prod_k^{N-1}\\delta(\\frac{\\bar{P}_{k+1}-\\bar{P}_k}{\\epsilon} - F_k^{ff'})\n",
    "\\prod_k^{N-1}\\delta(\\frac{\\bar{P}_k}{M} - \\frac{\\bar{R}_{k}-\\bar{R}_{k-1}}{\\epsilon})\n",
    "\\\\ \\times \n",
    "\\int dx_0dp_0dx'_0dp'_0 d\\bar{R}_0 r_{i0} e^{i \\theta_{i0}} r'_{i0} e^{-i \\theta'_{i0}} [\\hat{\\rho}\\hat{A}]^W_{i,i'}(\\bar{R}_0,\\bar{P}_1) G_0 G'_0\n",
    "$$\n",
    "with mean path force $F$ gives as:  \n",
    "$$\n",
    "F_k^{ff'} = -\\frac{1}{2}[\\nabla_{\\bar{R}_k}H_{ff}(\\bar{R}_k) + \\nabla_{\\bar{R}_k}H_{f'f'}(\\bar{R}_k)]\n",
    "\\\\\n",
    "-\\frac{1}{2}\\sum_{g\\ne f} [\\nabla_{\\bar{R}_k}H_{fg}(\\bar{R}_k)(\\frac{p_{fk}p_{gk} + x_{fk}x_{gk}}{p_{fk}^2 + x_{fk}^2})\n",
    "\\\\\n",
    "-\\frac{1}{2}\\sum_{g\\ne f'} [\\nabla_{\\bar{R}_k}H_{f'g}(\\bar{R}_k)(\\frac{p_{f'k}p_{gk} + x_{f'k}x_{gk}}{p_{f'k}^2 + x_{f'k}^2})\n",
    "$$"
   ]
  },
  {
   "cell_type": "markdown",
   "metadata": {},
   "source": [
    "> since we know that the LINEARIZATION tech fails at long time evolution, then using iteration idear:  \n",
    "$$\n",
    "\\langle R_{2t} n_{2t} \\mid \\hat{\\rho}(2t) \\mid R'_{2t} n'_{2t} \\rangle \n",
    "=\n",
    "\\sum_{n_{t},n'_{t}} \\sum_{n_{0},n'_{0}} \\int dR_t dR'_t dR_0 dR'_0 \n",
    "\\langle R_{2t} n_{2t} \\mid e^{-iHt/\\hbar} \\mid R_{t} n_{t} \\rangle \n",
    "\\langle R_{t} n_{t} \\mid e^{-iHt/\\hbar} \\mid R_{0} n_{0} \\rangle \n",
    "\\\\ \\times\n",
    "\\langle R_{0} n_{0} \\mid \\hat{\\rho}(0) \\mid R'_{0} n'_{0} \\rangle\n",
    "\\langle R'_{0} n'_{0} \\mid e^{iHt/\\hbar} \\mid R'_{t} n'_{t} \\rangle \n",
    "\\langle R'_{t} n'_{t} \\mid e^{iHt/\\hbar} \\mid R'_{2t} n'_{2t} \\rangle \n",
    "$$\n",
    "and gives:  \n",
    "$$\n",
    "\\langle R_{2t}-Z/2, n_{2t} \\mid \\hat{\\rho}(2t) \\mid R'_{2t}+Z/2, n'_{2t} \\rangle \n",
    "= \\int \\frac{dP_{2N}}{2\\pi\\hbar} e^{-iP_{2N}Z}\n",
    "\\\\ \\times\n",
    "\\int\\prod_{k=N+1}^{2N-1}\\frac{d\\bar{R}_kd\\bar{P}_k}{2\\pi\\hbar} \n",
    "r_{f2t}(\\{\\bar{R}_k\\}) e^{-i \\theta_{f2t}(\\{\\bar{R}_k\\})}\n",
    "r'_{f2t}(\\{\\bar{R}_k\\}) e^{i \\theta'_{f2t}(\\{\\bar{R}_k\\})}\n",
    "\\prod_{k=N+1}^{2N-1}\\delta(\\frac{\\bar{P}_{k+1}-\\bar{P}_k}{\\epsilon} - F_k^{ff'})\n",
    "\\prod_{k=N+1}^{2N-1}\\delta(\\frac{\\bar{P}_k}{M} - \\frac{\\bar{R}_{k}-\\bar{R}_{k-1}}{\\epsilon})\n",
    "\\\\ \\times \n",
    "\\sum_{n_t,n'_t}\\int dx_Ndp_Ndx'_Ndp'_N d\\bar{R}_N \\frac{dP_N}{2\\pi\\hbar} r_{it} e^{i \\theta_{it}} r'_{it} e^{-i \\theta'_{it}} G_t G'_t \\delta(\\frac{\\bar{P}_N}{M} - \\frac{\\bar{R}_{N}-\\bar{R}_{N-1}}{\\epsilon})\n",
    "\\\\ \\times\n",
    "\\int\\prod_{k=1}^{N-1}\\frac{d\\bar{R}_kd\\bar{P}_k}{2\\pi\\hbar} \n",
    "r_{ft}(\\{\\bar{R}_k\\}) e^{-i \\theta_{ft}(\\{\\bar{R}_k\\})}\n",
    "r'_{ft}(\\{\\bar{R}_k\\}) e^{i \\theta'_{ft}(\\{\\bar{R}_k\\})}\n",
    "\\prod_{k=1}^{N-1}\\delta(\\frac{\\bar{P}_{k+1}-\\bar{P}_k}{\\epsilon} - F_k^{ff'})\n",
    "\\prod_{k=1}^{N-1}\\delta(\\frac{\\bar{P}_k}{M} - \\frac{\\bar{R}_{k}-\\bar{R}_{k-1}}{\\epsilon})\n",
    "\\\\ \\times \n",
    "\\sum_{n_0,n'_0}\\int dx_0dp_0dx'_0dp'_0 d\\bar{R}_0 r_{i0} e^{i \\theta_{i0}} r'_{i0} e^{-i \\theta'_{i0}} [\\hat{\\rho}]^W_{i,i'}(\\bar{R}_0,\\bar{P}_1) G_0 G'_0\n",
    "$$"
   ]
  },
  {
   "cell_type": "markdown",
   "metadata": {},
   "source": [
    "> **MC implementation**  \n",
    "1. $\\tau=0$: sum over initial quantum states $n_0, n'_0$, is performed explicitly so the starting\n",
    "time sampling of initial conditions must in principle be repeated $N_s\\times N_s$ times.  \n",
    "**using Focusing approx**: initially occupied states start with weight equal to 1, while unoccupied states begin with zero weight.\n",
    "2. $\\tau<t$:The forces that evolve the initial conditions specified in Step 1, $F^{n_t,n'_t}$, thus generates $N_s\\times N_s$ trajectories, each governed by a different force Fnt,nt, weight by weights  \n",
    "$n_t=n'_t$, on diabatic surface  \n",
    "$n_t\\ne n'_t$, on mean surface  \n",
    "then weight by\n",
    "3. $\\tau=t$: define  \n",
    "$$\n",
    "M_{r_t,r'_t} = r_t r'_t / \\sum r_t r'_t  \n",
    "\\\\\n",
    "C_{r_t,r'_t} = \\sum_{r_t=1}^{m_t}\\sum_{r'_t=1}^{m'_t}M_{r_t,r'_t} \n",
    "$$\n",
    "throw a number $\\xi$ to dicide a the trajectory segment generated with forces $F^{r_t^*, r_t^{'*}}$, label selected, and the focus, (MC process stand for the $\\sum_{r_t,r'_t}$).  \n",
    "discontinuities is neglectable.  \n",
    "4. $t<\\tau<2t$: The new propagation segment evolves as in forces $F^{r_{2t},r'_{2t}}$ with $N_s\\times N_s$ trajectorys. \n",
    "5. $\\tau=2t$: repetitions of the MC"
   ]
  },
  {
   "cell_type": "markdown",
   "metadata": {},
   "source": [
    "> **Performance**  \n",
    "1. Tully-I (Avoid crossing model)  \n",
    "low initial momenta p, then more hop to converge, the larger error-bar.  \n",
    "2. Tully-II (Stukelberg scattering problem)  \n",
    "The errors seem to be\n",
    "largest when the interference effects must give completely\n",
    "destructive interference for one state and constructive interference for the other  \n",
    "while the error bars for the more mixed situations at intermediate momenta are generally smaller  \n",
    "3. SB model  \n",
    ">> * single linearized approximate propagator, if the temperature was low, and at the same\n",
    "time, the friction was large, the approximation gave poorer\n",
    "results. \n",
    ">> * single linearized approximate propagator generally provided\n",
    "a poor description of the asymmetric spin-boson \n",
    ">> * the temperature is fairly low but the system-bath, IL approach do well, and do well for asymmetric spin-boson   \n",
    "**(will SH SCCP can not capture such long time, account for time reversible?)**"
   ]
  },
  {
   "cell_type": "markdown",
   "metadata": {},
   "source": [
    "# PLDM dynamics, 2011"
   ]
  },
  {
   "cell_type": "markdown",
   "metadata": {},
   "source": [
    "> PLDM is represent in castersion coordinates, note a little different"
   ]
  },
  {
   "cell_type": "markdown",
   "metadata": {},
   "source": [
    "> It gives evolution operator as (PI tech):  \n",
    "$$\n",
    "\\langle R_N n_f \\mid e^{-iHt/\\hbar} \\mid R_0 n_i \\rangle\n",
    "= \\int \\prod_{k=1}^{N-1} \\frac{dR_kdP_k}{2\\pi\\hbar} \\frac{dP_N}{2\\pi\\hbar} e^{iS_{FP}/\\hbar}\n",
    "\\langle n_f \\mid \\prod_k e^{-iH_{el}(R_k)\\epsilon/\\hbar} \\mid n_i \\rangle\n",
    "\\\\\n",
    "H = \\frac{P^2}{2M} + H_{el}\n",
    "\\\\\n",
    "S_{FP} = \\epsilon \\sum_{k=1}^{N} [P_k(R_k-R_{k-1})/\\epsilon - \\frac{P_k^2}{2M}]\n",
    "$$"
   ]
  },
  {
   "cell_type": "markdown",
   "metadata": {},
   "source": [
    "> Then by HKIVR for electonic dof:  \n",
    "$$\n",
    "\\langle n_f \\mid \\prod_k e^{-iH_{el}(R_k)\\epsilon/\\hbar} \\mid n_i \\rangle\n",
    "\\\\\n",
    "= \\int dx_0 dp_0 c_t e^{iS_t/\\hbar} \n",
    "\\frac{1}{4} ( x_{ft} + ip_{ft})( x_{i0} - ip_{i0}) e^{-\\frac{i}{2} \\sum_k ( x_{kt}p_{kt} -  x_{k0}p_{k0})} e^{-\\frac{1}{2} \\sum_k (x_{k0}^2 + p_{k0}^2)}\n",
    "$$\n",
    "where:  \n",
    "$$\n",
    "S_1 = \\int_0^t  d\\tau L_1\n",
    "\\\\\n",
    "L_1 = L_1^{cl} + \\frac{1}{2}\\sum_{k} H_{kk}\n",
    ",\\quad\n",
    "L_1^{cl} = \\sum_k p_k \\dot{x}_k - H^{cl}\n",
    "\\\\\n",
    "H^{cl} = \\frac{1}{2} \\sum_{k,k'} (x_xx_{k'} + p_kp_{k'})H_{kk'}\n",
    "$$\n",
    "note $c_t$ cancel $\\frac{1}{2}\\sum_k H_{kk}$ in phase of $S_1$. leaving only $S_1^{cl}$.  \n",
    "Note we don't cancel $S_1^{cl}$ and crossing phase $-\\frac{i}{2} \\sum_k ( x_{kt}p_{kt} -  x_{k0}p_{k0})$ yet. differ to LAND-map."
   ]
  },
  {
   "cell_type": "markdown",
   "metadata": {},
   "source": [
    "> Linearization gives:  \n",
    "$$\n",
    "\\Delta S_1^{cl} = \\int_0^t d\\tau \\big\\{\n",
    "\\frac{1}{2} \\frac{d}{d\\tau} \\sum_k (x_{k\\tau}p_{k\\tau}-x'_{k\\tau}p'_{k\\tau}) + \\frac{1}{2}\\nabla_{\\bar{R}}\\big(H_{map}(\\bar{R},x_{\\tau},p_{\\tau}) + H_{map}(\\bar{R},x'_{\\tau},p'_{\\tau})\\big) Z_{\\tau} + \\mathcal{O}(Z_{\\tau}^2)\n",
    "\\big\\} \n",
    "$$\n",
    "and then first term cancel the boundary phase $-\\frac{i}{2} \\sum_k ( x_{kt}p_{kt} -  x_{k0}p_{k0})$"
   ]
  },
  {
   "cell_type": "markdown",
   "metadata": {},
   "source": [
    "> then integral give the Density matrix\n",
    "$$\n",
    "\\langle R_{t}-Z/2, n_{t} \\mid \\hat{\\rho}(t) \\mid R'_{t}+Z/2, n'_{t} \\rangle \n",
    "\\\\ =\n",
    "\\int \\frac{dP_N}{2\\pi\\hbar}\n",
    "\\int\\prod_{k=1}^{N-1}\\frac{d\\bar{R}_kd\\bar{P}_k}{2\\pi\\hbar} \n",
    "\\frac{1}{4}(x_{n_t}+ip_{n_t})(x'_{n'_t}-ip'_{n'_t})\n",
    "\\prod_{k=1}^{N-1}\\delta(\\frac{\\bar{P}_{k+1}-\\bar{P}_k}{\\epsilon} - F_k)\n",
    "\\prod_{k=1}^{N-1}\\delta(\\frac{\\bar{P}_k}{M} - \\frac{\\bar{R}_{k}-\\bar{R}_{k-1}}{\\epsilon})\n",
    "\\\\ \\times \n",
    "\\sum_{n_0,n'_0}\\int dx_0dp_0dx'_0dp'_0 d\\bar{R}_0 \n",
    "\\frac{1}{4}(x_{n_0}-ip_{n_0})(x'_{n'_0}+ip'_{n'_0})\n",
    "[\\hat{\\rho}]^W_{i,i'}(\\bar{R}_0,\\bar{P}_1) G_0 G'_0\n",
    "$$\n",
    "with force:\n",
    "$$\n",
    "F_k = - \\frac{1}{2} \\nabla_{\\bar{R}_k}[ H^{cl}(\\bar{R}_k,x_k,p_k) + H^{cl}(\\bar{R}_k,x'_k,p'_k)  ]\n",
    "$$"
   ]
  },
  {
   "cell_type": "markdown",
   "metadata": {},
   "source": [
    "> Note: \n",
    "1. PLDM is (x,p) variables based. LAND-map is action-angle based in linearization (though the final result can write in x-p variables ).  \n",
    "2. LAND-map approx. should valid when $r$ vary sowly along the nuclear path. And phase better to vary fast to make LINEARIZATION valid.    \n",
    "2. the force is little differ from LAND-map, PLDM is mean-field-like."
   ]
  },
  {
   "cell_type": "markdown",
   "metadata": {},
   "source": [
    "> About the iteration version:  \n",
    "LAMDmap gives ILDM, PLDM gives IPLDM, as following procedure:  \n",
    "1. sum over $n_0, n'_0$, and select $n_t, n'_t$ ( accordingly $N\\times N$ tajectorys).  \n",
    "2. if fixed $n_0,n'_0$, then sampling $\\bar{R}_0,\\bar{P}_1$ from wigner function.  \n",
    "3. simulation by $\\{F_k\\}$. And at time t, summation over $n_t,n'_t$ for a particular trajectory is done by Monte Carlo importance smapling, randomly choosing \"occupied\" density matrix elements that defines the initial condition for the next time segment.  \n",
    "and re-focusing the initial state for propagation at $t\\sim2t$"
   ]
  },
  {
   "cell_type": "code",
   "execution_count": null,
   "metadata": {},
   "outputs": [],
   "source": []
  }
 ],
 "metadata": {
  "kernelspec": {
   "display_name": "Python 3",
   "language": "python",
   "name": "python3"
  },
  "language_info": {
   "codemirror_mode": {
    "name": "ipython",
    "version": 3
   },
   "file_extension": ".py",
   "mimetype": "text/x-python",
   "name": "python",
   "nbconvert_exporter": "python",
   "pygments_lexer": "ipython3",
   "version": "3.5.4"
  }
 },
 "nbformat": 4,
 "nbformat_minor": 2
}
