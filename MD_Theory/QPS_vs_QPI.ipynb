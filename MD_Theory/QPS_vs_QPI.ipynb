{
 "cells": [
  {
   "cell_type": "markdown",
   "metadata": {},
   "source": [
    "<h4 style=\"text-align:right\">CCME,&nbsp; Peking University</h4>\n",
    "***\n",
    "<p>\n",
    "<h1 style=\"text-align:center\"><font face=\"Times Roman\" size=8> Quantum Phase Space v.s. <br> Quantum Path Integral</font></h1>\n",
    "<br>\n",
    "<h2 style=\"text-align:center\"><font face=\"Times Roman\">Author &nbsp;XShinHe</font> </h2>\n",
    "<h2 style=\"text-align:center\"><font face=\"Times Roman\">2018.8</font> </h2>"
   ]
  },
  {
   "cell_type": "markdown",
   "metadata": {},
   "source": [
    "# 0. Quantum esembles"
   ]
  },
  {
   "cell_type": "markdown",
   "metadata": {},
   "source": [
    "as we konw, quantum density operator can write as:  \n",
    "$$\\hat{\\rho} = \\mid \\psi \\rangle\\langle \\psi\\mid $$  \n",
    "when we consider in real time :  \n",
    "$$\\hat{\\rho}_t = \\mid \\psi(t) \\rangle\\langle \\psi(t) \\mid = e^{-i\\hat{H}t/\\hbar} \\hat{\\rho}_0  e^{i\\hat{H}t/\\hbar} $$ \n",
    "when in imaginary time :  \n",
    "$$\\hat{\\rho} = \\mid \\psi \\rangle\\langle \\psi\\mid = \\frac{1}{Z}e^{-\\beta \\hat{H}}$$ \n",
    "cosideration the conresspondings:"
   ]
  },
  {
   "cell_type": "markdown",
   "metadata": {},
   "source": [
    "* from **Wick rotation**  "
   ]
  },
  {
   "cell_type": "markdown",
   "metadata": {},
   "source": [
    "> \n",
    "with $it/\\hbar \\mapsto \\beta$, let:  \n",
    "$$ e^{-i\\hat{H}t/\\hbar} \\mapsto e^{-\\beta\\hat{H}} $$\n",
    "> \n",
    "then following will show that:  \n",
    "$$\\hat{\\rho}(\\beta=0) = \\frac{1}{Z} $$\n",
    "> \n",
    "and then, (if) there is no definition of negative temperature, then we should let that:  \n",
    "$$e^{i\\hat{H}t/\\hbar} \\mapsto e^{0} $$"
   ]
  },
  {
   "cell_type": "markdown",
   "metadata": {},
   "source": [
    "* from Half-valued **Wick rotation**"
   ]
  },
  {
   "cell_type": "markdown",
   "metadata": {},
   "source": [
    ">  \n",
    "for expression:\n",
    "$$ \\hat{\\rho} =  e^{-i\\hat{H}t/\\hbar} \\hat{\\rho}_0  [e^{-i\\hat{H}t/\\hbar}]^{\\dagger}$$  \n",
    "> \n",
    "with $it/\\hbar \\mapsto \\beta/2$, let:  \n",
    "$$ e^{-i\\hat{H}t/\\hbar} \\mapsto e^{-\\beta\\hat{H}/2} $$\n",
    "> \n",
    "then following will show that:  \n",
    "$$\\hat{\\rho}(\\beta=0) = \\frac{1}{Z} $$\n",
    "> \n",
    "and then, (if) there is no definition of negative temperature, then we should let that:  \n",
    "$$ [e^{-i\\hat{H}t/\\hbar}]^{\\dagger} \\mapsto e^{-\\beta\\hat{H}/2}$$"
   ]
  },
  {
   "cell_type": "markdown",
   "metadata": {},
   "source": [
    "* **Appendix** : proof of $$\\hat{\\rho}(\\beta=0)=1/Z$$"
   ]
  },
  {
   "cell_type": "markdown",
   "metadata": {},
   "source": [
    "> \n",
    "for Boltzman distribution, one can view as:  \n",
    "$$ \\hat{\\rho} = e^{-\\beta(\\hat{H}-F)} = \\frac{1}{Z}e^{-\\beta\\hat{H}}$$  \n",
    "where \n",
    "$$ F \\overset{def}{==} -\\frac{1}{\\beta} \\ln Z$$\n",
    "so when $\\beta \\to 0$, then the $\\beta \\hat{H} \\to 0$, and $\\beta F \\to -\\ln Z$. then:  \n",
    "$$ \\hat{\\rho}(\\beta\\to 0) = \\frac{1}{Z}$$\n",
    "this means at high temperature, all states exist with the same probablity."
   ]
  },
  {
   "cell_type": "markdown",
   "metadata": {},
   "source": [
    "# 1. Quantum phase space --- My approach"
   ]
  },
  {
   "cell_type": "markdown",
   "metadata": {},
   "source": [
    "## 1.1 Density function"
   ]
  },
  {
   "cell_type": "markdown",
   "metadata": {},
   "source": [
    "from quantum theory, the only thing we interested in is the observables which can all be in the formulation:  \n",
    "$$\\langle \\hat{A} \\rangle = Tr[\\hat{\\rho}\\hat{A}]$$  \n",
    "then the consideration is that how to map **Trace** operation into other space, such as phase  space and path integral representation."
   ]
  },
  {
   "cell_type": "markdown",
   "metadata": {},
   "source": [
    " * QDO (Quasi-Density Operator) of phase space"
   ]
  },
  {
   "cell_type": "markdown",
   "metadata": {},
   "source": [
    "as we know (for canonical distribution):  \n",
    "$$\\hat{\\rho} = \\frac{1}{Z}e^{-\\beta\\hat{H}} \\sim e^{-\\beta\\hat{H}}$$  \n",
    "we can also define the auxiliary phase space varibles $(x,p)$ in some distribution:  \n",
    "$$\\int dx f(\\hat{x}-x) = \\hat{1} $$\n",
    "$$\\int dp g(\\hat{p}-p) = \\hat{1} $$"
   ]
  },
  {
   "cell_type": "markdown",
   "metadata": {},
   "source": [
    "for $f(\\alpha)=g(\\alpha)=\\delta(\\alpha)$, it obviously satisfy the above normalization:  \n",
    "$$ \\delta(\\hat{x}-x) \\overset{def}{==} \\frac{1}{2\\pi} \\int d\\xi e^{i(\\hat{x}-x)\\xi} $$\n",
    "$$ \\int dx \\delta(\\hat{x}-x) = \\frac{1}{2\\pi} \\int d\\xi \\int dx e^{i(\\hat{x}-x)\\xi} = \\int d\\xi e^{i\\hat{x}\\xi}\\delta(\\xi) = \\hat{1}$$\n",
    "then we have:  \n",
    "$$ \\hat{\\rho} = \\frac{1}{Z}e^{-\\beta\\hat{H}} \\big(\\int dx \\delta(\\hat{x}-x) \\big)\\big(\\int dp \\delta(\\hat{p}-p) \\big) \\\\\n",
    "= \\int dx \\int dp \\big[ \\frac{1}{Z}e^{-\\beta\\hat{H}} \\delta(\\hat{x}-x) \\delta(\\hat{p}-p) \\big] \\\\\n",
    "= \\int dx \\int dp \\,\\hat{\\rho}_{PS}(x,p)$$"
   ]
  },
  {
   "cell_type": "markdown",
   "metadata": {},
   "source": [
    "where the quasi-Density operator is:  \n",
    "$$ \\hat{\\rho}_{PS}(x,p) = \\frac{1}{Z}e^{-\\beta\\hat{H}} \\delta(\\hat{x}-x) \\delta(\\hat{p}-p) $$\n",
    "where:  \n",
    "$$\\delta(\\hat{x}-x) = \\frac{1}{2\\pi}\\int d\\xi e^{i(\\hat{x}-x)\\xi},\\,\\, \\delta(\\hat{p}-p) = \\frac{1}{2\\pi}\\int d\\eta e^{i(\\hat{p}-p)\\eta}$$\n",
    "but note $$\\delta(\\hat{x}-x) \\delta(\\hat{p}-p)\\ne \\delta(\\hat{p}-p)\\delta(\\hat{x}-x) $$  \n",
    "but $x$, $p$ can be commutable in 'classical' phase space. so we also note a symmetric form:  \n",
    "$$ \\hat{\\rho}_{PS}(x,p) = \\frac{1}{Z}e^{-\\beta\\hat{H}} \\delta(\\hat{x}-x, \\hat{p}-p) = \\frac{1}{Z}\\frac{1}{4\\pi^2}\\int d\\xi \\int d\\eta e^{-\\beta\\hat{H}} e^{i(\\hat{x}-x)\\xi + i(\\hat{p}-p)\\eta} $$"
   ]
  },
  {
   "cell_type": "markdown",
   "metadata": {},
   "source": [
    "* Density function of phase space"
   ]
  },
  {
   "cell_type": "markdown",
   "metadata": {},
   "source": [
    "from quasi-density operator, we can get (quasi) density of **phase space** as:  \n",
    "$$P(x,p) = Tr[\\hat{\\rho}_{PS}(x,p)] = \\frac{1}{Z}\\frac{1}{4\\pi^2} = \\int d\\xi \\int d\\eta Tr [e^{-\\beta\\hat{H}} e^{i(\\hat{x}-x)\\xi + i(\\hat{p}-p)\\eta} ] \\\\\n",
    "= \\frac{1}{4\\pi^2} \\int d\\xi \\int d\\eta Tr [\\hat{\\rho} e^{i(\\hat{x}-x)\\xi + i(\\hat{p}-p)\\eta} ]$$  \n",
    "this is just the form of **Wigner function**. (see [phase space](./Phase_space.ipynb))"
   ]
  },
  {
   "cell_type": "markdown",
   "metadata": {},
   "source": [
    "* **Appendix** : Discussion the combination of the QDO."
   ]
  },
  {
   "cell_type": "markdown",
   "metadata": {},
   "source": [
    "as wee see, for commutable of $x$ and $p$, we have the form:  \n",
    "$$ \\hat{\\rho}_{PS}(x,p) = \\frac{1}{Z}e^{-\\beta\\hat{H}} \\delta(\\hat{x}-x, \\hat{p}-p) = \\frac{1}{Z}\\frac{1}{4\\pi^2}\\int d\\xi \\int d\\eta e^{-\\beta\\hat{H}} e^{i(\\hat{x}-x)\\xi + i(\\hat{p}-p)\\eta} $$"
   ]
  },
  {
   "cell_type": "markdown",
   "metadata": {},
   "source": [
    "but the original one is also exact for $\\hat{1}$ can be commutable!  \n",
    "so we have \n",
    "> **Mehta standard-ordered function**\n",
    "$$ \\hat{\\rho}_{PS}(x,p) = \\frac{1}{Z}e^{-\\beta\\hat{H}} \\delta(\\hat{x}-x)\\delta(\\hat{p}-p) = \\frac{1}{Z}\\frac{1}{4\\pi^2}\\int d\\xi \\int d\\eta e^{-\\beta\\hat{H}} e^{i(\\hat{x}-x)\\xi + i(\\hat{p}-p)\\eta} f(\\xi,\\eta)$$\n",
    "where\n",
    "$$f(\\xi,\\eta) = e^{-i\\hbar\\xi\\eta/2}$$"
   ]
  },
  {
   "cell_type": "markdown",
   "metadata": {},
   "source": [
    "> **Kirkwood antistandard-ordered function**\n",
    "$$ \\hat{\\rho}_{PS}(x,p) = \\frac{1}{Z}e^{-\\beta\\hat{H}} \\delta(\\hat{p}-p)\\delta(\\hat{x}-x) = \\frac{1}{Z}\\frac{1}{4\\pi^2}\\int d\\xi \\int d\\eta e^{-\\beta\\hat{H}} e^{i(\\hat{x}-x)\\xi + i(\\hat{p}-p)\\eta} f(\\xi,\\eta)$$\n",
    "where\n",
    "$$f(\\xi,\\eta) = e^{i\\hbar\\xi\\eta/2}$$"
   ]
  },
  {
   "cell_type": "markdown",
   "metadata": {},
   "source": [
    "> and their linear combinations like:  \n",
    "**River function**  \n",
    "where:  \n",
    "$$f(\\xi,\\eta) = \\cos[\\frac{1}{2}\\hbar \\xi\\eta]$$"
   ]
  },
  {
   "cell_type": "markdown",
   "metadata": {},
   "source": [
    "> ** Born-Jordan form **  \n",
    "it seams to be the combination of imaginary parts\n",
    "$$ f(\\xi,\\eta) = sinc[\\frac{1}{2}\\hbar\\xi\\eta] = \\frac{\\sin[\\frac{1}{2}\\hbar\\xi\\eta]}{\\frac{1}{2}\\hbar\\xi\\eta}$$"
   ]
  },
  {
   "cell_type": "markdown",
   "metadata": {},
   "source": [
    "* **Appendix II** : Gaussian distribution case"
   ]
  },
  {
   "cell_type": "markdown",
   "metadata": {},
   "source": [
    "for one can test:  \n",
    "$$\\hat{1} = \\int dx f_{\\Gamma}(\\hat{x}-x)$$\n",
    "whhere:  \n",
    "$$  f_{\\Gamma}(\\hat{x}-x) = \\sqrt{\\frac{\\Gamma}{\\pi}} e^{-\\Gamma (\\hat{x}-x)^2} = \\frac{1}{2\\pi} \\int d\\xi e^{-\\frac{1}{4\\Gamma} \\xi^2 +i (\\hat{x}-x) \\xi}$$\n",
    "$$  g_{\\Gamma}(\\hat{p}-p) = \\frac{1}{\\sqrt{\\pi\\hbar^2\\Gamma}} e^{-\\frac{1}{\\hbar^2\\Gamma} (\\hat{p}-p)^2} = \\frac{1}{2\\pi} \\int d\\eta e^{-\\frac{\\hbar^2\\Gamma}{4}\\eta^2 + i(\\hat{p}-p)\\eta} $$"
   ]
  },
  {
   "cell_type": "markdown",
   "metadata": {},
   "source": [
    "> **Husimi function**  \n",
    "for\n",
    "$$f(\\xi,\\eta) = e^{-\\frac{1}{4\\Gamma}\\xi^2 - \\frac{\\hbar^2\\Gamma}{4}\\eta^2}$$\n",
    "which similiar to **Glauber Q function** for  \n",
    "$$f(\\xi,\\eta) = e^{-\\frac{\\hbar}{4m\\omega}\\xi^2 - \\frac{\\hbar m \\omega}{4}\\eta^2}$$"
   ]
  },
  {
   "cell_type": "markdown",
   "metadata": {},
   "source": [
    "> **Glauber P function**  \n",
    "for (here I am without some proper explaination) \n",
    "$$f(\\xi,\\eta) = e^{\\frac{\\hbar}{4m\\omega}\\xi^2 + \\frac{\\hbar m \\omega}{4}\\eta^2}$$"
   ]
  },
  {
   "cell_type": "markdown",
   "metadata": {},
   "source": [
    "> and with mixed version  \n",
    "**normal antinormal ordered function**  \n",
    "$$f(\\xi,\\eta) = \\cosh[\\frac{\\hbar}{4m\\omega}\\xi^2 + \\frac{\\hbar m \\omega}{4}\\eta^2]$$"
   ]
  },
  {
   "cell_type": "markdown",
   "metadata": {},
   "source": [
    "## 1.2 Transformation of Obsevable Operator"
   ]
  },
  {
   "cell_type": "markdown",
   "metadata": {},
   "source": [
    "we have show that:  \n",
    "$$ P(x,p) = \\frac{1}{4\\pi^2} \\int d\\xi \\int d\\eta Tr [\\hat{\\rho} e^{i(\\hat{x}-x)\\xi + i(\\hat{p}-p)\\eta} f(\\xi,\\eta)]$$"
   ]
  },
  {
   "cell_type": "markdown",
   "metadata": {},
   "source": [
    "but how to formulate obsevables in phase space:  \n",
    "$$\\hat{B}_{SP} = \\delta(\\hat{x}-x) \\delta(\\hat{p}-p) \\hat{B} $$\n",
    "note the obsevables should be:  \n",
    "$$Tr[\\hat{\\rho}\\hat{B}]$$"
   ]
  },
  {
   "cell_type": "markdown",
   "metadata": {},
   "source": [
    "* Note: the proof is not strict! the proof is not completed! [reference cohen 1966](https://doi.org/10.1063/1.1931206)"
   ]
  },
  {
   "cell_type": "markdown",
   "metadata": {},
   "source": [
    "# 2. Quantum phase space --- a typical approach"
   ]
  },
  {
   "cell_type": "markdown",
   "metadata": {},
   "source": [
    "## 2.1 the wigner function"
   ]
  },
  {
   "cell_type": "markdown",
   "metadata": {},
   "source": [
    "$$ P_W (x,p) = \\frac{1}{2\\pi\\hbar} \\int d\\Delta x \\langle x-\\Delta x/2 \\mid \\hat{\\rho} \\mid x + \\Delta x/2 \\rangle e^{ip\\Delta x/\\hbar}$$\n",
    "and inversion:  \n",
    "$$ \\hat{\\rho} = \\int d\\Delta x \\int dx \\int dp \\mid x-\\Delta x/2 \\rangle P_W(x,p) \\langle x+\\Delta x/2 \\mid e^{-ip\\Delta x/\\hbar}$$"
   ]
  },
  {
   "cell_type": "markdown",
   "metadata": {},
   "source": [
    "FFT Wigner function (position space): \n",
    "$$\\tilde{P}_W(x,y) = \\int dp e^{ipy/\\hbar} P_W(x,p) = g_L^*(x-y/2) g_R(x+y/2)$$"
   ]
  },
  {
   "cell_type": "markdown",
   "metadata": {},
   "source": [
    "**properties:**\n",
    "* normalized and real  \n",
    "* bounded in $[-\\frac{2}{\\hbar}, \\frac{2}{\\hbar}]$  \n",
    "* correct projection:  \n",
    "$$\\int dp P_W(x,p) = \\rho(x)$$\n",
    "$$\\int dx P_W(x,p) = \\rho(p)$$\n",
    "the projection is either **bona-fide probability** and **positive-semidefinite**.  \n",
    "but Wigner function is always negative, and actually  can't be conditioned as a matter of **uncertainty principle**.  \n",
    "negative probability relates to interference (only gaussian to be **pure state**).  \n",
    "* the negative probaility amount to **legitimate probability backflow**"
   ]
  },
  {
   "cell_type": "markdown",
   "metadata": {},
   "source": [
    "**Weyl correspndence**  \n",
    "> \n",
    "for $\\hat{G}(\\hat{x},\\hat{p})$ is operator in Hilbert space.  \n",
    "and $g(x,p)$ is the c-number function in (Wigner) phase space, then define the correspondence:  \n",
    "$$ \\hat{G}(\\hat{x},\\hat{p}) = \\frac{1}{4\\pi^2} \\int d\\xi \\int d\\eta \\int dx \\int dp g(x,p) e^{i(\\hat{x}-x)\\xi + i(\\hat{p}-p)\\eta}$$  \n",
    "and with:  \n",
    "$$ \\langle \\hat{G} \\rangle = \\int dx \\int dp P_W(x,p)g(x,p)$$"
   ]
  },
  {
   "cell_type": "markdown",
   "metadata": {},
   "source": [
    "## 2.2 Solving for Wigner Fuction --- Moyal's equation"
   ]
  },
  {
   "cell_type": "markdown",
   "metadata": {},
   "source": [
    "the Liouville equation has the form of **Moyal equation**:  \n",
    "( here we all use $f(x,p)$ note as $P_W(x,p)$ )\n",
    "$$\\frac{\\partial f}{\\partial t} = \\frac{H\\star f -f \\star H}{i\\hbar} = \\{\\{H,f\\}\\}$$\n",
    "where $H$ is classical Hamiltonian.  \n",
    "and $\\star$ product define as:  \n",
    "$$ \\star = e^{\\frac{i\\hbar}{2}(\\overleftarrow{\\partial}_x \\overrightarrow{\\partial}_p - \\overleftarrow{\\partial}_p \\overrightarrow{\\partial}_x)}$$"
   ]
  },
  {
   "cell_type": "markdown",
   "metadata": {},
   "source": [
    "**properties of Moyal bracket**  \n",
    "* Bopp shift\n",
    "$$f(x,p)\\star g(x,p) = f(x+\\frac{i\\hbar}{2} \\overrightarrow{\\partial}_p , p - \\frac{i\\hbar}{2} \\overrightarrow{\\partial}_x) g(x,p)$$\n",
    "* Fourier representation  \n",
    "$$f(x,p)\\star g(x,p) = \\frac{1}{\\hbar^2\\pi^2} \\int dp_1 \\int dp_2 \\int dx_1 \\int dx_2 f(x_1,p_1)g(x_2,p_2) \\exp\\big( -\\frac{2i}{\\hbar} [p(x_1-x_2) + p_1(x_2-x) + p_2 (x_1 -x)]\\big)$$\n",
    "or in formula:  \n",
    "$$f(x,p)\\star g(x,p) = \\frac{1}{\\hbar^2\\pi^2} \\int dp_1 \\int dp_2 \\int dx_1 \\int dx_2 f(x+x_1,p+p_1)g(x+x_2,p+p_2) \\exp\\big( \\frac{2i}{\\hbar} [x_1 p_2 -x_2 p_1]\\big)$$\n",
    "* correspondence  \n",
    "**Hilbert space ===== c-number phase space**\n",
    "$$\\hat{A}\\hat{B}=\\frac{1}{2\\pi^2}\\int d\\xi \\int d\\eta \\int dx \\int dp (a\\star b)e^{i(\\hat{x}-x)\\xi+i(\\hat{p}-p)\\eta}$$\n",
    "* single star product  \n",
    "for single $\\star$ averang on integral, easy to show:  \n",
    "$$\\int dx\\int dp f\\star g = \\int dx\\int dp f g = \\int dx\\int dp g\\star f  $$"
   ]
  },
  {
   "cell_type": "markdown",
   "metadata": {},
   "source": [
    "**lemma 1**\n",
    "> \n",
    "$$ H(x,p) \\star f(x,p) = E f(x,p) $$\n",
    "proof:\n",
    "$$ H(x,p)\\star f(x,p) = \\frac{1}{2\\pi\\hbar}\\big[ (p-\\frac{i\\hbar}{2}\\overrightarrow{\\partial}_x)^2/2m + V(x)\\big] \\int dy  e^{iy(p+\\frac{i\\hbar}{2}\\overleftarrow{\\partial}_x)/\\hbar} \\langle x-y/2\\mid \\hat{\\rho} \\mid x+y/2 \\rangle \\\\\n",
    "= \\frac{1}{2\\pi\\hbar} \\int dy e^{iyp/\\hbar} \\big[ (i\\hbar\\overrightarrow{\\partial}_y - i\\frac{\\hbar}{2}\\overrightarrow{\\partial}_x)^2/2m + V(x-y/2) \\big] \\langle x-y/2\\mid \\hat{\\rho} \\mid x+y/2 \\rangle \\\\\n",
    "= \\frac{1}{2\\pi\\hbar} \\int dy e^{iyp/\\hbar} E \\langle x-y/2\\mid \\hat{\\rho} \\mid x+y/2 \\rangle = E f(x,p)$$\n",
    "note that the canincal varibles:  \n",
    "$$ [\\hat{x}-\\frac{\\hat{y}}{2}, \\frac{\\hat{p}_x}{2} - \\hat{p}_y]=i\\hbar $$\n",
    "also:  \n",
    "$$ f(x,p) \\star H(x,p) = E f(x,p) $$"
   ]
  },
  {
   "cell_type": "markdown",
   "metadata": {},
   "source": [
    "> * note 1\n",
    "$$f\\star H \\star g = E_f f\\star g = E_g f\\star g$$\n",
    "so $\\hat{\\rho}_1 = \\mid \\psi_1\\rangle\\langle \\psi_1\\mid$, $\\hat{\\rho}_2 = \\mid \\psi_2\\rangle\\langle \\psi_2\\mid$, conrespond $f_1$, $f_2$ then:  \n",
    "$$\\langle \\psi_1\\mid\\psi_2\\rangle = 0 \\implies f_1\\star f_2 =0$$"
   ]
  },
  {
   "cell_type": "markdown",
   "metadata": {},
   "source": [
    "> * note 2  \n",
    "here $H\\star f = E f$, we note the $f$ is eigenfuction.  \n",
    "$$ f\\star H \\star f = E_f f\\star f = H * (f*f) $$\n",
    "so $f\\star f$ is also the eigenfunction of value $E_f$, then \n",
    "$$f\\star f \\propto f$$\n",
    "for pure state:  \n",
    "$$f_a \\star f_b = \\frac{1}{2\\pi\\hbar}\\delta_{ab}f_a$$\n",
    "or orthonormal relation:  \n",
    "$$ \\int dx \\int dp f_a \\star f_b  = \\frac{1}{2\\pi\\hbar}\\delta_{ab}$$"
   ]
  },
  {
   "cell_type": "markdown",
   "metadata": {},
   "source": [
    "**lemma 2**  \n",
    "$$ \\langle g^* \\star g \\rangle \\ge 0 $$\n",
    "> \n",
    "this lemma can imply uncertainty principle:  \n",
    "let $g=a+bx+cp$, then make: \n",
    "$$ a^*a + b^*b\\langle x\\star x \\rangle + c^*c \\langle p\\star p \\rangle + (a^*b+b^*a)\\langle x\\rangle + (a^*c+c^*a)\\langle p\\rangle + c^*b\\langle p\\star x\\rangle + b^*c\\langle x\\star p\\rangle \\ge 0 $$\n",
    "note: \n",
    "$$x\\star x=x^2,\\,\\,p\\star p=p^2,\\,\\,p\\star x=px-\\frac{i\\hbar}{2},\\,\\, x\\star p=px+\\frac{i\\hbar}{2}$$  \n",
    "one can show that:  \n",
    "$$\\langle \\Delta x^2\\rangle \\langle \\Delta p^2\\rangle \\ge \\frac{\\hbar^2}{4} + \\big(\\langle \\Delta x \\Delta p\\rangle\\big)^2$$"
   ]
  },
  {
   "cell_type": "markdown",
   "metadata": {},
   "source": [
    "## 2.3 Ehrenfest theorem"
   ]
  },
  {
   "cell_type": "code",
   "execution_count": null,
   "metadata": {},
   "outputs": [],
   "source": []
  }
 ],
 "metadata": {
  "kernelspec": {
   "display_name": "Python 3",
   "language": "python",
   "name": "python3"
  },
  "language_info": {
   "codemirror_mode": {
    "name": "ipython",
    "version": 3
   },
   "file_extension": ".py",
   "mimetype": "text/x-python",
   "name": "python",
   "nbconvert_exporter": "python",
   "pygments_lexer": "ipython3",
   "version": "3.5.4"
  }
 },
 "nbformat": 4,
 "nbformat_minor": 2
}
