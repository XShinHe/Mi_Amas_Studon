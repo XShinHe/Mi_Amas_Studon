{
 "cells": [
  {
   "cell_type": "code",
   "execution_count": 226,
   "metadata": {},
   "outputs": [
    {
     "name": "stdout",
     "output_type": "stream",
     "text": [
      "[[ 0.06  0.22 -0.22  0.08]\n",
      " [ 0.22  1.12 -0.08  0.25]\n",
      " [-0.22 -0.08  1.12 -0.25]\n",
      " [ 0.08  0.25 -0.25  2.04]]\n",
      "[-0.0194343   1.04        1.13440758  2.18502672]\n",
      "[[ 9.68595036e-01  4.78625567e-16 -2.32624857e-01  8.78028031e-02]\n",
      " [-1.75781313e-01  7.07106781e-01 -6.35570582e-01  2.55246872e-01]\n",
      " [ 1.75781313e-01  7.07106781e-01  6.35570582e-01 -2.55246872e-01]\n",
      " [ 5.05141313e-03 -9.12929873e-16  3.71464327e-01  9.28433485e-01]]\n",
      "[0.00770933 0.06515097 0.06515097 0.86198874]\n"
     ]
    }
   ],
   "source": [
    "import numpy as np\n",
    "M = np.array([[0.06,0.22,-0.22,0.08],[0.22,1.12,-0.08,0.25],[-0.22,-0.08,1.12,-0.25],[0.08,0.25,-0.25,2.04]])\n",
    "print(M)\n",
    "eige,eigv=np.linalg.eigh(M)\n",
    "print(eige)\n",
    "print(eigv)\n",
    "print(eigv[:,3]**2)"
   ]
  },
  {
   "cell_type": "code",
   "execution_count": 17,
   "metadata": {},
   "outputs": [
    {
     "name": "stdout",
     "output_type": "stream",
     "text": [
      "[[ 9.99405313e-01 -2.18521477e-03  2.18521477e-03 -7.86220135e-04]\n",
      " [-2.18521477e-03  9.88868280e-01  7.85612313e-04 -2.45897291e-03]\n",
      " [ 2.18521477e-03  7.85612313e-04  9.88868280e-01  2.45897291e-03]\n",
      " [-7.86220135e-04 -2.45897291e-03  2.45897291e-03  9.79813124e-01]]\n"
     ]
    }
   ],
   "source": [
    "import numpy as np\n",
    "H = np.array([[0.06,0.22,-0.22,0.08],[0.22,1.12,-0.08,0.25],[-0.22,-0.08,1.12,-0.25],[0.08,0.25,-0.25,2.04]])\n",
    "O = np.eye(4)\n",
    "beta = 0.01\n",
    "N = 100000\n",
    "dt = beta/N\n",
    "for i in range(N):\n",
    "    O += -np.dot(H,O)*dt\n",
    "print(O)"
   ]
  },
  {
   "cell_type": "code",
   "execution_count": 89,
   "metadata": {},
   "outputs": [
    {
     "name": "stdout",
     "output_type": "stream",
     "text": [
      "[[ 6.55079912e+00 -1.18884366e+00  1.18884366e+00  3.41637025e-02]\n",
      " [-1.18884366e+00  2.15752189e-01 -2.15752189e-01 -6.20005292e-03]\n",
      " [ 1.18884366e+00 -2.15752189e-01  2.15752189e-01  6.20005292e-03]\n",
      " [ 3.41637025e-02 -6.20005292e-03  6.20005292e-03  1.78170411e-04]]\n",
      "6.982481663211586\n"
     ]
    }
   ],
   "source": [
    "import numpy as np\n",
    "H = np.array([[0.06,0.22,-0.22,0.08],[0.22,1.12,-0.08,0.25],[-0.22,-0.08,1.12,-0.25],[0.08,0.25,-0.25,2.04]])\n",
    "O = np.eye(4)\n",
    "beta = 100\n",
    "N = 100000\n",
    "dt = np.sqrt(beta)/N\n",
    "for i in range(N):\n",
    "    O += -2*(i+0.5)*dt*np.dot(H,O)*dt\n",
    "print(O)\n",
    "print(np.trace(O))"
   ]
  },
  {
   "cell_type": "code",
   "execution_count": 92,
   "metadata": {},
   "outputs": [
    {
     "name": "stdout",
     "output_type": "stream",
     "text": [
      "[[-1.93098621e+75 -1.98316412e+75 -3.11127206e+76  4.49757586e+76]\n",
      " [-2.14541923e+76  1.03225311e+77  5.65255192e+76  1.19575775e+77]\n",
      " [ 2.14541923e+76 -1.03225311e+77 -5.65255192e+76 -1.19575775e+77]\n",
      " [ 1.94284012e+76  6.85775828e+76 -2.34173793e+77 -4.81367274e+77]]\n"
     ]
    }
   ],
   "source": [
    "import numpy as np\n",
    "import math\n",
    "H = np.array([[0.06,0.22,-0.22,0.08],[0.22,1.12,-0.08,0.25],[-0.22,-0.08,1.12,-0.25],[0.08,0.25,-0.25,2.04]])\n",
    "O = np.eye(4)\n",
    "P = np.eye(4)\n",
    "beta = 100\n",
    "N = 10000000\n",
    "dt = beta/N\n",
    "for i in range(1,N):\n",
    "    P = np.dot(P,H)*beta/i\n",
    "    O += (-1)**(i)*P\n",
    "print(O)"
   ]
  },
  {
   "cell_type": "code",
   "execution_count": 104,
   "metadata": {},
   "outputs": [],
   "source": [
    "import numpy as np\n",
    "import pandas as pd\n",
    "import math\n",
    "\n",
    "bset=[0.1*i for i in range(1,200)]\n",
    "bsize=len(bset)\n",
    "rcd=np.zeros((4,bsize))\n",
    "\n",
    "for i in range(bsize):\n",
    "    beta = bset[i]\n",
    "    \n",
    "    H = np.array([[0.06,0.22,-0.22,0.08],[0.22,1.12,-0.08,0.25],[-0.22,-0.08,1.12,-0.25],[0.08,0.25,-0.25,2.04]])\n",
    "    O1 = np.eye(4)\n",
    "    O2 = np.eye(4)\n",
    "    Ox = np.eye(4)\n",
    "    P = np.eye(4)\n",
    "    \n",
    "    N = 10000\n",
    "    dt1 = beta/N\n",
    "    dt2 = np.sqrt(beta)/N\n",
    "    \n",
    "    for j in range(N):\n",
    "        O1 += -np.dot(H,O1)*dt1\n",
    "        O2 += -2*(j+0.5)*dt2*np.dot(H,O2)*dt2\n",
    "        #\n",
    "        P = np.dot(P,H)*beta/(j+1)\n",
    "        Ox += (-1)**(j+1)*P\n",
    "    rcd[0,i] = beta    \n",
    "    rcd[1,i] = np.trace(O1)\n",
    "    rcd[2,i] = np.trace(O2)\n",
    "    rcd[3,i] = np.trace(Ox)\n",
    "a=pd.DataFrame(rcd)\n",
    "a.to_csv(\"rcd.txt\")"
   ]
  },
  {
   "cell_type": "code",
   "execution_count": 230,
   "metadata": {},
   "outputs": [
    {
     "data": {
      "image/png": "[encoded data removed]",
      "text/plain": [
       "<matplotlib.figure.Figure at 0x2aaad1443518>"
      ]
     },
     "metadata": {},
     "output_type": "display_data"
    }
   ],
   "source": [
    "import numpy as np\n",
    "import pandas as pd\n",
    "import matplotlib.pyplot as plt\n",
    "\n",
    "a=pd.read_csv(\"rcd.txt\")\n",
    "rcd=a.values\n",
    "bx=1\n",
    "ex=180\n",
    "plt.plot(rcd[0,bx:ex],rcd[1,bx:ex],'b--',marker='o',markersize=3,label='Dynamics I')\n",
    "plt.plot(rcd[0,bx:ex],rcd[2,bx:ex],'g--',marker='s',markersize=3,label='Dynamics II')\n",
    "plt.plot(rcd[0,bx:ex],rcd[3,bx:ex],'r--',marker='x',markersize=3,label='Taylor series')\n",
    "plt.title(\"Comparision of evaluation Boltzmann Operator \\n(calculation loop in N=10000 step)\")\n",
    "plt.xlabel(r\"$\\beta$\")\n",
    "plt.ylabel(r\"$Tr[e^{-\\beta H}]$\")\n",
    "plt.legend(loc=1)\n",
    "plt.savefig('a.png')\n",
    "plt.show()"
   ]
  },
  {
   "cell_type": "code",
   "execution_count": 147,
   "metadata": {},
   "outputs": [],
   "source": [
    "# renorm method\n",
    "import numpy as np\n",
    "import pandas as pd\n",
    "\n",
    "H = np.array([[0.06,0.22,-0.22,0.08],[0.22,1.12,-0.08,0.25],[-0.22,-0.08,1.12,-0.25],[0.08,0.25,-0.25,2.04]])\n",
    "O = np.eye(4)\n",
    "dt = 0.001\n",
    "N = 10000\n",
    "rcdxp=np.zeros((4,N))\n",
    "ang=0.7\n",
    "\n",
    "x=np.array([1,2,3,4]/np.sqrt(30))*np.cos(ang)\n",
    "p=np.array([1,2,3,4]/np.sqrt(30))*np.sin(ang)\n",
    "for i in range(N):\n",
    "    x += - np.dot(H,x)*dt\n",
    "    p += - np.dot(H,p)*dt\n",
    "    scl = np.sqrt(sum(x**2)+sum(p**2))\n",
    "    x = x/scl\n",
    "    p = p/scl\n",
    "    rcdxp[:,i]=x**2+p**2\n",
    "aaa=pd.DataFrame(rcdxp.T)\n",
    "aaa.to_csv('renorm.csv',header=None,sep=' ')"
   ]
  },
  {
   "cell_type": "code",
   "execution_count": 203,
   "metadata": {},
   "outputs": [],
   "source": [
    "# scaling method\n",
    "import numpy as np\n",
    "import pandas as pd\n",
    "\n",
    "H = np.array([[0.06,0.22,-0.22,0.08],[0.22,1.12,-0.08,0.25],[-0.22,-0.08,1.12,-0.25],[0.08,0.25,-0.25,2.04]])\n",
    "H2 = np.dot(H,H)\n",
    "O = np.eye(4)\n",
    "dt = 0.001\n",
    "N = 10000\n",
    "rcdxp=np.zeros((4,N))\n",
    "ang=0.5\n",
    "\n",
    "x=np.array([1,2,3,4]/np.sqrt(30))*np.cos(ang)\n",
    "p=np.array([1,2,3,4]/np.sqrt(30))*np.sin(ang)\n",
    "\n",
    "for i in range(N):\n",
    "    cc = np.dot(x,x)+np.dot(p,p)\n",
    "    #print('b ',cc)\n",
    "    \n",
    "    mH=( np.dot(x, np.dot(H,x)) + np.dot(p, np.dot(H,p)) )\n",
    "    mH2=( np.dot(x, np.dot(H2,x)) + np.dot(p, np.dot(H2,p)) )\n",
    "    E=mH/cc #- 1/dt + np.sqrt(mH**2/cc**2-mH2/cc+1/dt**2)\n",
    "    \n",
    "    x += - np.dot(H,x)*dt + E*x*dt\n",
    "    p += - np.dot(H,p)*dt + E*p*dt\n",
    "    \n",
    "    cc = np.dot(x,x)+np.dot(p,p)\n",
    "    #print('e ',cc)\n",
    "    \n",
    "    rcdxp[:,i]=x**2+p**2\n",
    "    \n",
    "aaa=pd.DataFrame(rcdxp.T)\n",
    "aaa.to_csv('scl.csv',header=None,sep=' ')"
   ]
  },
  {
   "cell_type": "code",
   "execution_count": 229,
   "metadata": {},
   "outputs": [],
   "source": [
    "# renorm method\n",
    "import numpy as np\n",
    "import pandas as pd\n",
    "\n",
    "R = np.array([[0.06,0.22,-0.22,0.08],[0.22,1.12,-0.08,0.25],[-0.22,-0.08,1.12,-0.25],[0.08,0.25,-0.25,2.04]])\n",
    "E=2.5\n",
    "H=( np.dot(R,R)-2*E*R+E*E*np.eye(4) )\n",
    "\n",
    "O = np.eye(4)\n",
    "dt = 0.001\n",
    "N = 10000\n",
    "rcdxp=np.zeros((4,N))\n",
    "ang=0.7\n",
    "\n",
    "x=np.array([1,2,3,4]/np.sqrt(30))*np.cos(ang)\n",
    "p=np.array([1,2,3,4]/np.sqrt(30))*np.sin(ang)\n",
    "for i in range(N):\n",
    "    x += - np.dot(H,x)*dt\n",
    "    p += - np.dot(H,p)*dt\n",
    "    scl = np.sqrt(sum(x**2)+sum(p**2))\n",
    "    x = x/scl\n",
    "    p = p/scl\n",
    "    rcdxp[:,i]=x**2+p**2\n",
    "aaa=pd.DataFrame(rcdxp.T)\n",
    "aaa.to_csv('arbi_%.1f.csv'%E,header=None,sep=' ')"
   ]
  },
  {
   "cell_type": "code",
   "execution_count": null,
   "metadata": {},
   "outputs": [],
   "source": []
  }
 ],
 "metadata": {
  "kernelspec": {
   "display_name": "Python 3",
   "language": "python",
   "name": "python3"
  },
  "language_info": {
   "codemirror_mode": {
    "name": "ipython",
    "version": 3
   },
   "file_extension": ".py",
   "mimetype": "text/x-python",
   "name": "python",
   "nbconvert_exporter": "python",
   "pygments_lexer": "ipython3",
   "version": "3.6.4"
  }
 },
 "nbformat": 4,
 "nbformat_minor": 2
}
