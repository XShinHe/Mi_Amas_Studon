{
 "cells": [
  {
   "cell_type": "markdown",
   "metadata": {},
   "source": [
    "# good site"
   ]
  },
  {
   "cell_type": "markdown",
   "metadata": {},
   "source": [
    "1. [Miller research group](http://www.cchem.berkeley.edu/millergrp/pub2000.html).\n",
    "2. [Introduction to quantum dissipation](http://www1.itp.tu-berlin.de/brandes/public_html/publications/notes/node1.html)\n",
    "3. [Molecule simulation](http://www.pages.drexel.edu/~cfa22/msim/)"
   ]
  },
  {
   "cell_type": "markdown",
   "metadata": {},
   "source": [
    "# site to download books"
   ]
  },
  {
   "cell_type": "markdown",
   "metadata": {},
   "source": [
    "1.  "
   ]
  },
  {
   "cell_type": "code",
   "execution_count": null,
   "metadata": {},
   "outputs": [],
   "source": []
  }
 ],
 "metadata": {
  "kernelspec": {
   "display_name": "Python 3",
   "language": "python",
   "name": "python3"
  },
  "language_info": {
   "codemirror_mode": {
    "name": "ipython",
    "version": 3
   },
   "file_extension": ".py",
   "mimetype": "text/x-python",
   "name": "python",
   "nbconvert_exporter": "python",
   "pygments_lexer": "ipython3",
   "version": "3.5.4"
  }
 },
 "nbformat": 4,
 "nbformat_minor": 2
}
