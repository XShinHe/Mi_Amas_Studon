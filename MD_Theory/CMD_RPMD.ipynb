{
 "cells": [
  {
   "cell_type": "markdown",
   "metadata": {},
   "source": [
    "<h4 style=\"text-align:right\">CCME,&nbsp; Peking University</h4>\n",
    "***\n",
    "<p>\n",
    "<h1 style=\"text-align:center\"><font face=\"Times Roman\" size=8> CMD and RPMD</font></h1>\n",
    "<br>\n",
    "<h2 style=\"text-align:center\"><font face=\"Times Roman\">Author &nbsp;XShinHe</font> </h2>\n",
    "<h2 style=\"text-align:center\"><font face=\"Times Roman\">2018.7</font> </h2>"
   ]
  },
  {
   "cell_type": "markdown",
   "metadata": {},
   "source": [
    "# 1. CMD"
   ]
  },
  {
   "cell_type": "markdown",
   "metadata": {},
   "source": [
    "in CMD, the quantum density is regard as:  \n",
    "$$\\rho_{qm} = Tr[\\frac{\\hbar}{2\\pi} \\int d\\xi\\int d\\eta e^{i\\xi (\\hat{x}-x)+i\\eta (\\hat{p}-p)-\\beta\\hat{H}}]$$\n",
    "while by formulation of quantum phase space of cohen, it's actually as:\n",
    "$$P = \\frac{1}{4\\pi^2}Tr[\\int d\\xi\\int d\\eta \\hat{\\rho} e^{i\\xi (\\hat{x}-x)+i\\eta (\\hat{p}-p)}f(\\xi,\\eta)] $$\n",
    "$$\\tilde{B} = \\frac{2\\pi\\hbar}{4\\pi^2}Tr[\\int d\\xi\\int d\\eta e^{i\\xi (\\hat{x}-x)+i\\eta (\\hat{p}-p)}\\hat{B}f^{-1}(-\\xi,-\\eta)] $$\n",
    "> * Wigner phase space:  \n",
    "$f(\\xi,\\eta)=1$, then:  \n",
    "$$P_W = \\frac{1}{2\\pi\\hbar}\\int d\\Delta x \\langle x-\\Delta x/2 \\mid \\hat{\\rho} \\mid x + \\Delta x/2 \\rangle e^{i\\Delta x p /\\hbar}$$\n",
    "> * Husimi phase space:  \n",
    "define cohenrence state: $\\langle y \\mid x, p\\rangle = (\\frac{\\Gamma}{\\pi})^{1/4}e^{-\\frac{\\Gamma}{2}(y-x)^2 + ip(y-x)/\\hbar}$  \n",
    "note: $\\langle y \\mid x, p\\rangle = \\langle x \\mid y, p\\rangle^* = \\langle y \\mid x, -p\\rangle^* = \\langle x, p \\mid y\\rangle $  \n",
    "can with $f(\\xi,\\eta) = e^{-\\xi^2/4\\Gamma -(\\hbar^2\\Gamma/4)\\eta^2}$, one can get:\n",
    "$$P_H = \\frac{1}{2\\pi\\hbar} \\langle x, p \\mid \\hat{\\rho} \\mid x, p\\rangle$$"
   ]
  },
  {
   "cell_type": "markdown",
   "metadata": {},
   "source": [
    "considering CMD:  \n",
    "define:  \n",
    "$$ \\hat{K}(x,p) = e^{i\\xi (\\hat{x}-x)+i\\eta (\\hat{p}-p)-\\beta\\hat{H}}$$\n",
    "or somtetimes notes as:  \n",
    "$$ \\hat{K}(x_c,p_c) = e^{i\\xi (\\hat{x}-x_c)+i\\eta (\\hat{p}-p_c)-\\beta\\hat{H}}$$\n",
    "$$ \\rho_{qm} = \\frac{\\hbar}{2\\pi} \\int d\\xi\\int d\\eta Tr[e^{i\\xi (\\hat{x}-x)+i\\eta (\\hat{p}-p)-\\beta\\hat{H}}] \\frac{\\hbar}{2\\pi} \\int d\\xi\\int d\\eta Tr[\\hat{K}(x,p)] \\\\\n",
    "= \\frac{\\hbar}{2\\pi} \\int d\\xi\\int d\\eta e^{-i\\xi x - i\\eta p} Tr[ e^{i\\xi \\hat{x}+i\\eta \\hat{p}-\\beta\\hat{H}}] =\n",
    "\\frac{\\hbar}{2\\pi} \\int d\\xi\\int d\\eta e^{-i\\xi x - i\\eta p} Tr[ \\hat{K}_0]\n",
    "$$\n",
    "note Trotter theorem: \n",
    "$$e^{\\frac{1}{P}(\\hat{T}+\\hat{V})} \\sim e^{\\frac{1}{2P}\\hat{V}} e^{\\frac{1}{P}\\hat{T}} e^{\\frac{1}{2P}\\hat{V}} + O(\\frac{1}{P^2})$$  \n",
    "for short time propagaor of kernel $\\hat{K}_0$, we have:  \n",
    "$$\\langle x \\mid e^{\\frac{1}{P}(i\\xi \\hat{x} + i\\eta \\hat{p} - \\beta \\hat{H})} \\mid y \\rangle \n",
    "\\sim \\int dp_1 \\langle x \\mid e^{\\frac{1}{2P}(i\\xi \\hat{x} - \\beta \\hat{V})} \n",
    "e^{\\frac{1}{P}(i\\eta \\hat{p} - \\beta \\hat{p}^2/2m)} \n",
    "\\mid p_1\\rangle\\langle p_1 \\mid e^{\\frac{1}{2P}(i\\xi \\hat{x} - \\beta \\hat{V})} \\mid y \\rangle \\\\\n",
    "=\\int dp_1 e^{\\frac{1}{2P}(i\\xi x - \\beta V(x))} \n",
    "e^{\\frac{1}{P}(i\\eta p_1 - \\beta p_1^2/2m)} \n",
    "e^{\\frac{1}{2P}(i\\xi y - \\beta V(y))} e^{ip_1(x-y)/\\hbar} \\\\\n",
    "= (\\frac{mP}{2\\pi\\beta\\hbar^2})^{1/2} e^{-\\frac{Pm}{2\\beta}(\\frac{x-y}{\\hbar}+\\frac{\\eta}{P})^2} e^{\\frac{1}{2P}i\\xi (x+y)} e^{-\\frac{1}{2P}\\beta (V(x)+V(y))}\\\\\n",
    "= (\\frac{mP}{2\\pi\\beta\\hbar^2})^{1/2} e^{-\\frac{Pm}{2\\beta\\hbar^2}(x-y)^2 -\\frac{m}{\\beta\\hbar}(x-y)\\eta - \\frac{m}{2\\beta P}\\eta^2} e^{\\frac{1}{2P}i\\xi (x+y)} e^{-\\frac{1}{2P}\\beta (V(x)+V(y))}\\\\\n",
    "$$\n",
    "where here the factor $(\\frac{mP}{2\\pi\\beta\\hbar^2})^{1/2}$ contians the phase space volume factor $\\frac{1}{2\\pi\\hbar}$  \n",
    "then consider path integration as:  \n",
    "$$ e^{i\\xi \\hat{x} + i\\eta \\hat{p} - \\beta \\hat{H}} = \\int dx_1 \\cdots \\int dx_{P+1} \\mid x_1\\rangle\\langle x_1 \\mid e^{\\frac{1}{P}(i\\xi \\hat{x} + i\\eta \\hat{p} - \\beta \\hat{H})} \\mid x_2\\rangle\\langle x_2 \\mid e^{\\frac{1}{P}(i\\xi \\hat{x} + i\\eta \\hat{p} - \\beta \\hat{H})}  \\cdots \\mid x_{P+1} \\rangle\\langle x_{P+1}\\mid \\\\\n",
    "= \\int dx_1 \\cdots \\int dx_{P+1} \\mid x_1\\rangle\\langle x_{P+1}\\mid \n",
    "(\\frac{mP}{2\\pi\\beta\\hbar^2})^{P/2} e^{-\\sum_{k=1}^{P}\\frac{1}{2}m\\omega_P^2 (x_k-x_{k+1})^2 - \\frac{m}{\\beta\\hbar}(x_1-x_{P+1})\\eta - \\frac{m}{2\\beta}\\eta^2} e^{\\frac{1}{2P}i\\xi (x_1 + 2\\sum_{k=2}^{P}x_k + x_{P+1})} e^{-\\frac{1}{2P}\\beta (V(x_1) + 2\\sum_{k=2}^{P}V(x_k) + V(x_{P+1}) )}\\\\\n",
    "$$\n",
    "note that:  \n",
    "$$\\omega_P^2 = \\frac{P}{\\beta^2\\hbar^2}$$\n",
    "$$ x_0 = \\frac{1}{2P}(x_1 + 2\\sum_{k=2}^{P}x_k + x_{P+1})$$\n",
    "$$ V_0 = \\frac{1}{2P}(V(x_1) + 2\\sum_{k=2}^{P}V(x_k) + V(x_{P+1}) ) $$\n",
    "then formula as:  \n",
    "$$ e^{i\\xi \\hat{x} + i\\eta \\hat{p} - \\beta \\hat{H}} \\\\\n",
    "= \\int dx_1 \\cdots \\int dx_{P+1} \\mid x_1\\rangle\\langle x_{P+1}\\mid \n",
    "(\\frac{mP}{2\\pi\\beta\\hbar^2})^{P/2} e^{-\\sum_{k=1}^{P}\\frac{1}{2}m\\omega_P^2 (x_k-x_{k+1})^2 - \\frac{m}{\\beta\\hbar}(x_1-x_{P+1})\\eta - \\frac{m}{2\\beta}\\eta^2} e^{i\\xi x_0} e^{-\\beta V_0}\\\\\n",
    "$$\n",
    "let $x_1=x_{P+1}$ to do trace ( multiplies $\\delta(x_1 - x_{P+1})$ and do integral over):  \n",
    "$$ \\rho_{qm} = \\frac{\\hbar}{2\\pi} \\int d\\xi\\int d\\eta (\\frac{mP}{2\\pi\\beta\\hbar^2})^{P/2} \\int dx_1 \\cdots \\int dx_{P}  e^{-\\sum_{k=1}^{P}\\frac{1}{2}m\\omega_P^2 (x_k-x_{k+1})^2} e^{- \\frac{m}{2\\beta}\\eta^2 - i\\eta p} e^{i\\xi (x_0-x)} e^{-\\beta V_0} \\\\\n",
    "= (\\frac{\\hbar}{2\\pi}) (\\frac{mP}{2\\pi\\beta\\hbar^2})^{P/2} \\sqrt{\\frac{2\\beta\\pi}{m}} \\int dx_1 \\cdots \\int dx_{P}  \\delta(x-x_0) e^{-\\sum_{k=1}^{P}\\frac{1}{2}m\\omega_P^2 (x_k-x_{k+1})^2} e^{-\\beta V_0} e^{-\\beta \\frac{p^2}{2m} } \\\\\n",
    "= (\\frac{\\hbar}{2\\pi}) (\\frac{mP}{2\\pi\\beta\\hbar^2})^{P/2} \\sqrt{\\frac{2\\beta\\pi}{m}} \\rho_c(x) e^{-\\beta \\frac{p^2}{2m}}\n",
    "$$\n",
    "( there may be some factor confused for defination of $\\rho_{qm}$, see following)\n",
    "  \n",
    "finally, the result also note as:  \n",
    "$$ \\rho_{cmd}(x_c, p_c) = (\\frac{\\hbar}{2\\pi}) \\sqrt{\\frac{\\beta}{2m\\pi}} e^{-\\beta \\frac{p_c^2}{2m}} \\rho_c(x_c)$$\n",
    "$$ \\rho_c(x_c) = (\\frac{mP}{2\\pi\\beta\\hbar^2})^{P/2}  \\int dx_1 \\cdots \\int dx_{P}  \\delta(x_c-x_0) e^{-\\sum_{k=1}^{P}\\frac{1}{2}m\\omega_P^2 (x_k-x_{k+1})^2} e^{-\\beta V_0} \\\\\n",
    "= (\\frac{mP}{2\\pi\\beta\\hbar^2})^{P/2}  \\int dx_1 \\cdots \\int dx_{P}  \\delta(x_c-x_0) e^{-S[x(\\tau)]/\\hbar}$$"
   ]
  },
  {
   "cell_type": "markdown",
   "metadata": {},
   "source": [
    "## some defination in scheme of CMD"
   ]
  },
  {
   "cell_type": "markdown",
   "metadata": {},
   "source": [
    "> * quasi-density operator  \n",
    "$$\\hat{\\varphi}(x_c,p_c) = (\\frac{\\hbar}{2\\pi}) \\int d\\xi \\int d\\eta \\hat{K}(x_c,p_c)$$\n",
    "and:  \n",
    "$$\\rho_c(x_c,p_c) = Tr[\\hat{\\varphi}(x_c,p_c)] $$\n",
    "so defines quasi-density QDO as:  \n",
    "$$ \\hat{\\delta}_c(x_c,p_c) = \\frac{\\hat{\\varphi}(x_c,p_c)}{\\rho_c(x_c,p_c)} $$"
   ]
  },
  {
   "cell_type": "code",
   "execution_count": null,
   "metadata": {},
   "outputs": [],
   "source": []
  }
 ],
 "metadata": {
  "kernelspec": {
   "display_name": "Python 3",
   "language": "python",
   "name": "python3"
  },
  "language_info": {
   "codemirror_mode": {
    "name": "ipython",
    "version": 3
   },
   "file_extension": ".py",
   "mimetype": "text/x-python",
   "name": "python",
   "nbconvert_exporter": "python",
   "pygments_lexer": "ipython3",
   "version": "3.5.4"
  }
 },
 "nbformat": 4,
 "nbformat_minor": 2
}
