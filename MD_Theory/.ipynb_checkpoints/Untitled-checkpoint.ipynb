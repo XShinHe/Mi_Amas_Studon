{
 "cells": [
  {
   "cell_type": "markdown",
   "metadata": {},
   "source": [
    "<h4 style=\"text-align:right\">CCME,&nbsp; Peking University</h4>\n",
    "***\n",
    "<p>\n",
    "<h1 style=\"text-align:center\"><font face=\"Times Roman\" size=8> Ising model</font></h1>\n",
    "<br>\n",
    "<h2 style=\"text-align:center\"><font face=\"Times Roman\">Author &nbsp;XShinHe</font> </h2>\n",
    "<h2 style=\"text-align:center\"><font face=\"Times Roman\">2018.9</font> </h2>"
   ]
  },
  {
   "cell_type": "markdown",
   "metadata": {},
   "source": [
    "## 1. ising model"
   ]
  },
  {
   "cell_type": "markdown",
   "metadata": {},
   "source": [
    "Ising model (uniform field):  \n",
    "$$ \\hat{H}=-h\\sum_i \\hat{S}_i - J\\sum_{<i,j>}\\hat{S}_i \\hat{S}_j$$"
   ]
  },
  {
   "cell_type": "markdown",
   "metadata": {},
   "source": [
    "we write spin state as $\\mid S_i \\rangle = (x_i,p_i)$, meaning with $x_i^2$ probability on spin up and $p_i^2$ probability on spin down.  \n",
    "so the trace of Hamiltonian can count as (where $R(x,p)=(x^2,p^2)$ ):  \n",
    "$$Trace[\\hat{H}]=-\\frac{h}{2} \\begin{bmatrix} S_1 & S_2 & \\cdots & S_N \\end{bmatrix}\n",
    "\\begin{bmatrix}\n",
    "\\sigma_z & 0 & \\cdots & 0 \\\\\n",
    "0 & \\sigma_z & \\cdots & 0 \\\\\n",
    "\\cdots & \\cdots & \\cdots & \\cdots \\\\\n",
    "0 & 0 & \\cdots & \\sigma_z \\\\\n",
    "\\end{bmatrix}\n",
    "\\begin{bmatrix} S_1^T \\\\ S_2^T \\\\ \\cdots \\\\ S_N^T \\end{bmatrix} \\\\\n",
    "- \\frac{J}{8}  \\begin{bmatrix} R_1 & R_2 & \\cdots & R_N \\end{bmatrix}\n",
    "\\begin{bmatrix}\n",
    "0 & \\sigma_s & \\cdots & 0 \\\\\n",
    "\\sigma_s & 0 & \\cdots & 0 \\\\\n",
    "\\cdots & \\cdots & \\cdots & \\cdots \\\\\n",
    "0 & 0 & \\cdots & 0 \\\\\n",
    "\\end{bmatrix}\n",
    "\\begin{bmatrix} R_1^T \\\\ R_2^T \\\\ \\cdots \\\\ R_N^T \\end{bmatrix}\n",
    "$$"
   ]
  },
  {
   "cell_type": "markdown",
   "metadata": {},
   "source": [
    "here note:  \n",
    "$$\\sigma_z = \\begin{pmatrix} 1 & 0 \\\\ 0 & -1 \\end{pmatrix}$$\n",
    "and \n",
    "$$\\sigma_s = \\begin{pmatrix} 1 & -1 \\\\ -1 & 1 \\end{pmatrix}$$"
   ]
  },
  {
   "cell_type": "markdown",
   "metadata": {},
   "source": [
    "so the matrix representation is (using Hadamand product);  \n",
    "$$  H = -\\frac{h}{2}\\begin{bmatrix}\n",
    "\\sigma_z & 0 & \\cdots & 0 \\\\\n",
    "0 & \\sigma_z & \\cdots & 0 \\\\\n",
    "\\cdots & \\cdots & \\cdots & \\cdots \\\\\n",
    "0 & 0 & \\cdots & \\sigma_z \\\\\n",
    "\\end{bmatrix} \n",
    "-  \\frac{J}{8}  \\otimes \\begin{bmatrix} S_1 & S_2 & \\cdots & S_N \\end{bmatrix}\n",
    "\\begin{bmatrix}\n",
    "0 & \\sigma_s & \\cdots & 0 \\\\\n",
    "\\sigma_s & 0 & \\cdots & 0 \\\\\n",
    "\\cdots & \\cdots & \\cdots & \\cdots \\\\\n",
    "0 & 0 & \\cdots & 0 \\\\\n",
    "\\end{bmatrix}\n",
    "\\begin{bmatrix} S_1^T \\\\ S_2^T \\\\ \\cdots \\\\ S_N^T \\end{bmatrix} \\otimes\n",
    "$$  \n",
    "the its formula dependt on the representation."
   ]
  },
  {
   "cell_type": "markdown",
   "metadata": {},
   "source": []
  }
 ],
 "metadata": {
  "kernelspec": {
   "display_name": "Python 3",
   "language": "python",
   "name": "python3"
  },
  "language_info": {
   "codemirror_mode": {
    "name": "ipython",
    "version": 3
   },
   "file_extension": ".py",
   "mimetype": "text/x-python",
   "name": "python",
   "nbconvert_exporter": "python",
   "pygments_lexer": "ipython3",
   "version": "3.5.4"
  }
 },
 "nbformat": 4,
 "nbformat_minor": 2
}
