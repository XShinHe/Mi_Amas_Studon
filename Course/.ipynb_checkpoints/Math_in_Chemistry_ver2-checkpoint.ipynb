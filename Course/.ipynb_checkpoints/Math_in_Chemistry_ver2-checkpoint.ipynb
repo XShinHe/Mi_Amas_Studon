{
 "cells": [
  {
   "cell_type": "markdown",
   "metadata": {},
   "source": [
    "<h4 style=\"text-align:right\">The Course of CCME,&nbsp; Peking University</h4>\n",
    "***\n",
    "<p>\n",
    "<h1 style=\"text-align:center\"><font face=\"Times Roman\" size=8>Mathematics in chemistry</font></h1>\n",
    "<br>\n",
    "<h2 style=\"text-align:center\"><font face=\"Times Roman\">prof.&nbsp;Jian Liu</font> </h2>\n",
    "<h2 style=\"text-align:center\"><font face=\"Times Roman\">Records of the first term, 2017.2-2017.6</font> </h2>"
   ]
  },
  {
   "cell_type": "markdown",
   "metadata": {},
   "source": [
    "# Note Version of First Term"
   ]
  },
  {
   "cell_type": "markdown",
   "metadata": {},
   "source": [
    "# 1. Review of Linear Algebra"
   ]
  },
  {
   "cell_type": "markdown",
   "metadata": {},
   "source": [
    "> * Each physical quantity conresponds to a Hermitian operater  \n",
    "$$A=A^{\\dagger}$$\n",
    ">> _properties of Hermitian operator_:\n",
    "\n",
    "> * projection operator:  \n",
    "$$\\hat{P}_n=\\mid \\phi_n\\rangle\\langle\\phi_n\\mid$$\n",
    ">> _properties of projection operator_:  \n",
    ">> * $\\mid \\phi_n\\rangle\\langle\\phi_n\\mid \\psi\\rangle = c_n \\mid\\phi_n\\rangle $\n",
    ">> * $\\mid\\psi\\rangle = \\sum_n \\mid \\phi_n\\rangle\\langle\\phi_n\\mid \\psi\\rangle = \\sum_n c_n \\mid\\phi_n\\rangle$\n",
    ">> * unit matrix: $\\hat{I} = \\sum_n \\hat{P}_n$\n",
    "\n",
    "> * trace  \n",
    ">> $Tr[\\hat{A}] = \\sum_n A_{nn} = \\sum_n \\langle \\phi_n \\mid \\hat{A} \\mid \\phi_n \\rangle = \\sum_n a_n$, here $a_n$ is the eigenvaules of operator $\\hat{A}$\n",
    "> or, $Tr[\\hat{A}] = \\sum_n A_{nn} = \\sum_n \\langle \\phi_n \\mid \\hat{A} \\mid \\phi_n \\rangle \n",
    "= \\sum_{nm} \\langle \\phi_n \\mid a_m \\rangle\\langle a_m\\mid \\hat{A} \\mid \\phi_n \\rangle \n",
    "= \\sum_{nm} a_m\\langle \\phi_n \\mid a_m \\rangle\\langle a_m \\mid \\phi_n \\rangle $, here $\\hat{A}\\mid a_m\\rangle = a_m \\mid a_m \\rangle$  \n",
    "> one can proove:\n",
    "$$Tr[\\hat{A}\\hat{B}] = Tr[\\hat{B}\\hat{A}] $$\n",
    "> Practice:  \n",
    "1) proof $\\langle x\\mid \\hat{x}\\hat{p} \\mid\\psi\\rangle = -x i \\hbar\\frac{\\partial\\psi(x)}{\\partial x}$  \n",
    "2) proof $\\langle\\psi\\mid \\hat{x}\\hat{p} \\mid\\psi\\rangle = \\int dx \\psi^{*}(x)[-i\\hbar\\psi(x)-i\\hbar\\frac{\\partial\\psi(x)}{\\partial x}]$  \n",
    "> * matrix representation, Hermitian matrix and Unitary matrix\n",
    ">> pass"
   ]
  },
  {
   "cell_type": "markdown",
   "metadata": {},
   "source": [
    "> * some representation\n",
    ">> * momenta representation and position representation  \n",
    "eigenstate note as $\\mid p \\rangle$. the state formulate on position space is that:\n",
    "$$\\langle x\\mid p\\rangle = \\frac{1}{\\sqrt{2\\pi\\hbar}}e^{ipx/\\hbar}$$\n",
    "the it relates to Fourier transformation:  \n",
    "$$\\langle x\\mid\\psi\\rangle = \\int dp \\langle x\\mid p\\rangle\\langle p\\mid\\psi\\rangle$$\n",
    "$$\\langle p\\mid\\psi\\rangle = \\int dx \\langle p\\mid x\\rangle\\langle x\\mid\\psi\\rangle$$\n",
    "here are some important relationship:\n",
    "$$\\langle x\\mid x'\\rangle = \\delta(x-x')$$\n",
    "$$\\langle p\\mid p'\\rangle = \\delta(p-p')$$\n",
    "$$\\delta(x) = \\int_{-\\infty}^{infty} e^{ikx}dk$$\n",
    ">> Practice:  \n",
    "1) solve the momenta distribution of 1-Dimension infinite well: $\\langle p \\mid \\psi_n\\rangle$. note that $\\hat{p}$ commute with Hamiltonian $\\hat{H}=\\frac{\\hat{p}^2}{2m}$, derivation form energy formula is conflict with Fourier transformation result. Think why?  \n",
    ">>> * $\\langle p \\mid \\psi_n\\rangle = \\int_{-\\infty}^{\\infty} dx \\langle p \\mid x\\rangle\\langle x\\mid \\psi_n\\rangle = \n",
    "\\int_{-\\infty}^{\\infty} dx \\langle p \\mid x\\rangle \\sqrt{\\frac{2}{L}}sin(\\frac{n\\pi}{L}x) $  \n",
    ">>> * $\\langle p \\mid \\psi_n\\rangle = c_1\\delta(p-p_n)+c_2\\delta(p+p_n)$\n",
    ">>\n",
    "2) one can calculate $\\langle x\\mid\\hat{dx}\\mid u\\rangle = du/dx $, and another hand by calculate  $\\langle u\\mid\\hat{dx}\\mid x\\rangle = -du^{*}/dx $, why?\n",
    ">> * Gauss state   \n",
    "with notation:\n",
    "$$\\langle x_0 \\mid x,p\\rangle = (\\frac{2\\gamma}{\\pi})^{1/4}e^{-\\gamma(x-x_0)^2 - ip(x-x_0)/\\hbar}$$\n",
    "they are complete, but not orthogonal."
   ]
  },
  {
   "cell_type": "markdown",
   "metadata": {},
   "source": [
    "> * diagonization for solve model system\n",
    ">> * 1-dimension infinite well: $\\langle \\psi_m \\mid \\frac{\\hat{p}^2}{2m} \\mid\\psi_n\\rangle = \\frac{\\hbar^2}{2m}(\\frac{n\\pi}{L})^2 \\delta_{mn}$\n",
    "it is diagonized, for for other system, $H$ matrix may not diagonized, but if only basis is complete, we can diagonize the matrix to obtain the eigenvalues.  \n",
    ">> * 1-dimension harmonic oscillator: $\\langle \\psi_m \\mid \\frac{\\hat{p}^2}{2m} + V(x) \\mid\\psi_n\\rangle $, here $V(x)=\\frac{1}{2}m\\omega^2x^2$ need to be recalculated.  \n",
    ">> & practice: calculate $ \\langle\\psi_n\\mid V(x) \\mid\\psi_n\\rangle$\n",
    ">> * double well system: $V=\\frac{1}{4}x^4-\\frac{1}{2}x^2$\n",
    "\n",
    "> * Frank-Condon pinciple\n",
    ">> Morse Potential: solve the local frequance and find the virtual frequence, note $\\omega(x)=(V''(x)/M)^{1/2}$  \n",
    ">> * BO approximation\n",
    ">> * Frank-Condon principle: $$\\mid\\langle\\psi_i\\mid\\mu\\mid\\psi_f\\rangle\\mid^2 \\sim \\mid\\vec{\\mu}_{if}\\mid^2 \\langle\\Phi_i\\mid\\Phi_f\\rangle^2$$\n",
    "here FC factor note as $\\langle\\Phi_i\\mid\\Phi_f\\rangle^2$  \n",
    "transition dipole moment: $\\mu_{if} = \\int dr \\langle\\psi_i\\mid r\\rangle \\mu(r) \\langle r\\mid\\psi_f\\rangle $\n",
    ">> * examples of calculating FC fractors\n",
    "\n",
    "> * TST theory, and time correlation function\n",
    ">> * reaction rate $k = \\int_0^{\\infty} C_{ff}(t)dt$\n",
    ">> * TST theory\n",
    ">> * proof that $Tr[e^{-\\beta \\hat{H}/2}\\hat{a}e^{-\\beta \\hat{H}/2} e^{i\\hat{H}t/\\hbar}\\hat{A} e^{-i\\hat{H}t/\\hbar}]$ is real. "
   ]
  },
  {
   "cell_type": "markdown",
   "metadata": {},
   "source": [
    "> * convolution and Wigner phase space  \n",
    ">> * "
   ]
  }
 ],
 "metadata": {
  "kernelspec": {
   "display_name": "Python 3",
   "language": "python",
   "name": "python3"
  },
  "language_info": {
   "codemirror_mode": {
    "name": "ipython",
    "version": 3
   },
   "file_extension": ".py",
   "mimetype": "text/x-python",
   "name": "python",
   "nbconvert_exporter": "python",
   "pygments_lexer": "ipython3",
   "version": "3.5.4"
  }
 },
 "nbformat": 4,
 "nbformat_minor": 2
}
