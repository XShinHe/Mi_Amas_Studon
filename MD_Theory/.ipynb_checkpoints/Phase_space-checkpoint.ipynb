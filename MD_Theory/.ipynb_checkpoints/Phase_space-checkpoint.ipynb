{
 "cells": [
  {
   "cell_type": "markdown",
   "metadata": {},
   "source": [
    "<h4 style=\"text-align:right\">CCME,&nbsp; Peking University</h4>\n",
    "***\n",
    "<p>\n",
    "<h1 style=\"text-align:center\"><font face=\"Times Roman\" size=8> Phase space derivation </font></h1>\n",
    "<br>\n",
    "<h2 style=\"text-align:center\"><font face=\"Times Roman\">Author &nbsp;XShinHe</font> </h2>\n",
    "<h2 style=\"text-align:center\"><font face=\"Times Roman\">2018.7</font> </h2>"
   ]
  },
  {
   "cell_type": "markdown",
   "metadata": {},
   "source": [
    "# The formalism of phase space"
   ]
  },
  {
   "cell_type": "markdown",
   "metadata": {},
   "source": [
    "while by formulation of quantum phase space of cohen, it's actually as:\n",
    "$$P = \\frac{1}{4\\pi^2}Tr[\\int d\\xi\\int d\\eta \\hat{\\rho} e^{i\\xi (\\hat{x}-x)+i\\eta (\\hat{p}-p)}f(\\xi,\\eta)] $$\n",
    "$$\\tilde{B} = \\frac{2\\pi\\hbar}{4\\pi^2}Tr[\\int d\\xi\\int d\\eta e^{i\\xi (\\hat{x}-x)+i\\eta (\\hat{p}-p)}\\hat{B}f^{-1}(-\\xi,-\\eta)] $$\n",
    "where $\\hat{\\rho}$ always note as:\n",
    "$$\\hat{\\rho}=\\frac{1}{Z}e^{-\\beta \\hat{H}}$$"
   ]
  },
  {
   "cell_type": "markdown",
   "metadata": {},
   "source": [
    "# Wigner phase space formulation"
   ]
  },
  {
   "cell_type": "markdown",
   "metadata": {},
   "source": [
    "> * $f(\\xi,\\eta)=1$  \n",
    "> * so:  \n",
    "$$ P_W = \\frac{1}{4\\pi^2}Tr[\\int d\\xi\\int d\\eta \\hat{\\rho} e^{i\\xi (\\hat{x}-x)+i\\eta (\\hat{p}-p)}]\n",
    "= \\frac{1}{4\\pi^2}\\int d\\xi\\int d\\eta e^{-i\\xi x -i\\eta p} Tr[ \\hat{\\rho} e^{i\\xi \\hat{x}+i\\eta \\hat{p}}]$$\n",
    "by BCH formula (directly from mathematical induction):  \n",
    "$$e^{\\hat{A}}\\hat{B}e^{-\\hat{A}} = \\sum_n \\frac{1}{n!}\\hat{C}_n,\\,\\,\\hat{C}_0=\\hat{B},\\,\\,\\hat{C}_{n+1}=[A,\\hat{C}_n]$$\n",
    "or equally:\n",
    "$$e^{\\hat{A}}e^{\\hat{B}} = e^{\\hat{A}+\\hat{B}+\\frac{1}{2}[\\hat{A},\\hat{B}] + \\frac{1}{12}[\\hat{A}-\\hat{B},[\\hat{A},\\hat{B}]]+\\cdots}$$\n",
    "then:\n",
    "$$ P_W = \\frac{1}{4\\pi^2}\\int d\\xi\\int d\\eta e^{-i\\xi x -i\\eta p} Tr[ \\hat{\\rho} e^{i\\xi \\hat{x}}e^{i\\eta \\hat{p}}e^{i\\xi\\eta\\hbar/2}] \\\\\n",
    "= \\frac{1}{4\\pi^2}\\int d\\xi\\int d\\eta e^{-i\\xi x -i\\eta p} \\int dx_1 \\int dx_2 \\int dp_1 \\langle x_1 \\mid \\hat{\\rho} e^{i\\xi \\hat{x}} \\mid x_2 \\rangle\\langle x_2 \\mid e^{i\\eta \\hat{p}} \\mid p_1 \\rangle\\langle p_1 \\mid x_1 \\rangle e^{i\\xi\\eta\\hbar/2} \\\\\n",
    "= \\frac{1}{4\\pi^2}\\frac{1}{2\\pi\\hbar}\\int d\\xi\\int d\\eta e^{-i\\xi x -i\\eta p} \\int dx_1 \\int dx_2 \\int dp_1 \\langle x_1 \\mid \\hat{\\rho} \\mid x_2 \\rangle e^{i\\xi x_2} e^{i\\eta p_1} e^{ip_1(x_2 - x_1)/\\hbar} e^{i\\xi\\eta\\hbar/2} \\\\\n",
    "= \\frac{1}{2\\pi}\\frac{1}{2\\pi\\hbar}\\int d\\xi\\int d\\eta e^{-i\\xi x -i\\eta p} \\int dx_1 \\int dx_2 \\langle x_1 \\mid \\hat{\\rho} \\mid x_2 \\rangle e^{i\\xi x_2} e^{i\\xi\\eta\\hbar/2} \\delta(\\eta + (x_2 -x_1)/\\hbar) \\\\\n",
    "= \\frac{1}{2\\pi}\\frac{1}{2\\pi\\hbar}\\int d\\xi e^{-i\\xi x + i(x_2 -x_1) p/\\hbar} \\int dx_1 \\int dx_2 \\langle x_1 \\mid \\hat{\\rho} \\mid x_2 \\rangle e^{i\\xi x_2} e^{i\\xi(x_1 - x_2)/2} \\\\\n",
    "= \\frac{1}{2\\pi}\\frac{1}{2\\pi\\hbar} \\int d\\xi \\int dx_1 \\int dx_2 \\langle x_1 \\mid \\hat{\\rho} \\mid x_2 \\rangle e^{i\\xi(- x + (x_1 + x_2)/2)} e^{i(x_2 -x_1) p/\\hbar} \\\\\n",
    "= \\frac{1}{2\\pi\\hbar} \\int dx_1 \\int dx_2 \\langle x_1 \\mid \\hat{\\rho} \\mid x_2 \\rangle e^{i(x_2 -x_1) p/\\hbar} \\delta(x-\\frac{x_1+x_2}{2})\\\\\n",
    "$$\n",
    "let $x_1 = y - \\Delta x/2,\\,\\, x_2 = y + \\Delta x/2$, it's easy to show $|dx_1dx_2| = |dyd\\Delta x|$ (by calculating the Jacobian determant), so:\n",
    "$$ P_W = \\frac{1}{2\\pi\\hbar} \\int dy \\int d\\Delta x \\langle y - \\Delta x/2 \\mid \\hat{\\rho} \\mid y + \\Delta x/2 \\rangle e^{i\\Delta x p/\\hbar} \\delta(x-y) \\\\\n",
    "= \\frac{1}{2\\pi\\hbar}\\int d\\Delta x \\langle x-\\Delta x/2 \\mid \\hat{\\rho} \\mid x + \\Delta x/2 \\rangle e^{i\\Delta x p /\\hbar}\n",
    "$$"
   ]
  },
  {
   "cell_type": "markdown",
   "metadata": {},
   "source": [
    "# Husimi phase space"
   ]
  },
  {
   "cell_type": "markdown",
   "metadata": {},
   "source": [
    "> * $f(\\xi,\\eta) = e^{-\\xi^2/4\\Gamma -(\\hbar^2\\Gamma/4)\\eta^2}$\n",
    "> * here useful to define cohenrence state:  \n",
    "$$\\langle y \\mid x, p\\rangle = (\\frac{\\Gamma}{\\pi})^{1/4}e^{-\\frac{\\Gamma}{2}(y-x)^2 + ip(y-x)/\\hbar}$$\n",
    "and:\n",
    "$$\\langle y \\mid x, p\\rangle = \\langle x \\mid y, p\\rangle^* = \\langle y \\mid x, -p\\rangle^* = \\langle x, p \\mid y\\rangle $$\n",
    "> * so:  \n",
    "$$ P_H = \\frac{1}{4\\pi^2}\\int d\\xi\\int d\\eta e^{-i\\xi x -i\\eta p} e^{-\\xi^2/4\\Gamma -(\\hbar^2\\Gamma/4)\\eta^2} Tr[ \\hat{\\rho} e^{i\\xi \\hat{x}}e^{i\\eta \\hat{p}}e^{i\\xi\\eta\\hbar/2}] \\\\\n",
    "= \\frac{1}{4\\pi^2}\\frac{1}{2\\pi\\hbar}\\int d\\xi\\int d\\eta e^{-i\\xi x -i\\eta p}e^{-\\xi^2/4\\Gamma -(\\hbar^2\\Gamma/4)\\eta^2} \\int dx_1 \\int dx_2 \\int dp_1 \\langle x_1 \\mid \\hat{\\rho} \\mid x_2 \\rangle e^{i\\xi x_2} e^{i\\eta p_1} e^{ip_1(x_2 - x_1)/\\hbar} e^{i\\xi\\eta\\hbar/2} \\\\\n",
    "= \\frac{1}{2\\pi}\\frac{1}{2\\pi\\hbar}\\int d\\xi\\int d\\eta e^{-i\\xi x -i\\eta p}e^{-\\xi^2/4\\Gamma -(\\hbar^2\\Gamma/4)\\eta^2} \\int dx_1 \\int dx_2 \\langle x_1 \\mid \\hat{\\rho} \\mid x_2 \\rangle e^{i\\xi x_2} \\delta(\\eta + (x_2 -x_1)/\\hbar) e^{i\\xi\\eta\\hbar/2} \\\\\n",
    "= \\frac{1}{2\\pi}\\frac{1}{2\\pi\\hbar}\\int d\\xi \\int dx_1 \\int dx_2 \\langle x_1 \\mid \\hat{\\rho} \\mid x_2 \\rangle e^{i\\xi(x_1+x_2)/2} e^{-i\\xi x -i(x_1 - x_2)p/\\hbar} e^{-\\xi^2/4\\Gamma -(\\Gamma/4)(x_1-x_2)^2}  \\\\\n",
    "= \\frac{1}{2\\pi} \\frac{1}{2\\pi\\hbar} \\sqrt{4\\Gamma\\pi} \\int dx_1 \\int dx_2 \\langle x_1 \\mid \\hat{\\rho} \\mid x_2 \\rangle e^{-i(x_1 - x_2)p/\\hbar} e^{-\\Gamma(\\frac{x_1+x_2}{2}-x)^2 -(\\Gamma/4)(x_1-x_2)^2} \\\\\n",
    "= \\frac{1}{2\\pi} \\frac{1}{2\\pi\\hbar} \\sqrt{4\\Gamma\\pi} \\int dx_1 \\int dx_2 \\langle x_1 \\mid \\hat{\\rho} \\mid x_2 \\rangle e^{-i(x_1 - x_2)p/\\hbar} e^{-\\Gamma(\\frac{x_1+x_2}{2}-x)^2 -(\\Gamma/4)(x_1-x_2)^2}\n",
    "$$\n",
    "attention that:\n",
    "$$-\\Gamma(\\frac{x_1+x_2}{2}-x)^2 -(\\Gamma/4)(x_1-x_2)^2 = -\\frac{\\Gamma}{2}(x_1-x)^2 -\\frac{\\Gamma}{2}(x_2-x)^2 $$\n",
    "so:  \n",
    "$$ P_H = \\frac{1}{2\\pi\\hbar} \\int dx_1 \\int dx_2 \\langle x_1 \\mid \\hat{\\rho} \\mid x_2 \\rangle (\\frac{\\Gamma}{\\pi})^{1/4} e^{\\frac{\\Gamma}{2}(x_1-x)^2 - i(x_1-x)p/\\hbar} (\\frac{\\Gamma}{\\pi})^{1/4} e^{\\frac{\\Gamma}{2}(x_2-x)^2 + i(x_2-x)p/\\hbar} \\\\\n",
    "= \\frac{1}{2\\pi\\hbar} \\int dx_1 \\int dx_2 \\langle x,p \\mid x_1 \\rangle \\langle x_1 \\mid \\hat{\\rho} \\mid x_2 \\rangle\n",
    "\\langle x_2 \\mid x,p\\rangle \\\\\n",
    "= \\frac{1}{2\\pi\\hbar} \\langle x,p \\mid \\hat{\\rho} \\mid x,p\\rangle$$"
   ]
  },
  {
   "cell_type": "markdown",
   "metadata": {},
   "source": [
    "# Relationship between Wigner phase space and Husimi phase space"
   ]
  },
  {
   "cell_type": "markdown",
   "metadata": {},
   "source": [
    "> * from Wigner to Husimi  \n",
    "$$ P_H(x,p) = \\frac{1}{\\pi\\hbar} \\int dx'\\int dp' P_W(x',p') e^{-\\Gamma (x-x')^2 -(p-p')^2/\\hbar^2\\Gamma} $$\n",
    "it can be verified directly:\n",
    "$$ P_H(x,p) = \\frac{1}{2\\pi\\hbar} \\langle x,p\\mid \\hat{\\rho} \\mid x,p\\rangle \\\\\n",
    "= \\frac{1}{2\\pi\\hbar} \\int dx' \\int d\\Delta x' \\langle x,p\\mid x'-\\Delta x'/2 \\rangle\\langle x'-\\Delta x'/2 \\mid \\hat{\\rho} \\mid x'+\\Delta x'/2 \\rangle\\langle x'+ \\Delta x'/2 \\mid x,p\\rangle \\\\\n",
    "= \\frac{1}{2\\pi\\hbar} (\\frac{\\Gamma}{\\pi})^{1/2} \\int dx' \\int d\\Delta x'\\langle x'-\\Delta x'/2 \\mid \\hat{\\rho} \\mid x'+\\Delta x'/2 \\rangle e^{-\\Gamma((x'-x)^2 + \\frac{\\Delta x'^2}{4}) + ip\\Delta x'/\\hbar}\n",
    "$$\n",
    "attention that:\n",
    "$$ \\sqrt{\\hbar^2\\pi\\Gamma} e^{-\\Gamma\\frac{\\Delta x'^2}{4} + ip\\Delta x'/\\hbar} = \\int dp' e^{-(p-p')^2/\\hbar^2\\Gamma + ip'\\Delta x'/\\hbar}$$\n",
    "so:\n",
    "$$ P_H(x,p) = \\frac{1}{\\pi\\hbar} \\int dx' \\int dp' \\big\\{ \\frac{1}{2\\pi\\hbar} \\int d\\Delta x' \\langle x'-\\Delta x'/2 \\mid \\hat{\\rho} \\mid x' + \\Delta x'/2 \\rangle e^{i\\Delta x' p' /\\hbar} \\big\\} e^{-\\Gamma (x-x')^2 -(p-p')^2 /\\hbar^2\\Gamma} \\\\\n",
    "= \\frac{1}{\\pi\\hbar} \\int dx'\\int dp' P_W(x',p') e^{-\\Gamma (x-x')^2 -(p-p')^2/\\hbar^2\\Gamma} $$"
   ]
  },
  {
   "cell_type": "markdown",
   "metadata": {},
   "source": [
    "> * from Husimi to Wigner (how to proove)\n",
    "$$ P_W(x,p) = \\exp[-\\frac{\\Gamma}{4}\\frac{\\partial^2}{\\partial x^2} - \\frac{1}{4\\Gamma}\\frac{\\partial^2}{\\partial p^2}]P_H(x,p)$$"
   ]
  },
  {
   "cell_type": "markdown",
   "metadata": {},
   "source": [
    "# Liouville equation in phase space"
   ]
  },
  {
   "cell_type": "markdown",
   "metadata": {},
   "source": [
    "the quantum case is:  \n",
    "$$\\frac{\\partial}{\\partial t}\\hat{\\rho}(t) = -\\frac{1}{i\\hbar} [\\hat{\\rho}(t),\\hat{H}] $$\n",
    "> * Wigner phase space  \n",
    "$$ \\frac{\\partial}{\\partial t}P_W (x,p;t) = -\\frac{\\partial P_W}{\\partial x} \\frac{p}{m} + \\frac{\\partial P_W}{\\partial p} V'(x) - \\frac{\\hbar^2}{24}\\frac{\\partial^3 P_W}{\\partial p^3} V^{(3)}(x)+\\cdots \\\\\n",
    "= -\\frac{\\partial P_W}{\\partial x} \\frac{p}{m} + \\sum_{k=0}^{\\infty} \\frac{(-1)^k \\hbar^{2k}}{(2k+1)!2^{2k}}V^{(2k+1)}(x)\\frac{\\partial^{2k+1}}{\\partial p^{2k+1}} P_W$$\n",
    "the derivation can be formed as:\n",
    ">> first note:  \n",
    "$$\\langle x-\\Delta x/2 \\mid [\\hat{A},\\hat{p}]_+ \\mid x + \\Delta x/2\\rangle = 2i\\hbar\\frac{\\partial}{\\partial \\Delta x} \\langle x-\\Delta x/2 \\mid \\hat{A} \\mid x + \\Delta x/2\\rangle$$\n",
    "$$\\langle x-\\Delta x/2 \\mid [\\hat{A},\\hat{p}] \\mid x + \\Delta x/2\\rangle = i\\hbar\\frac{\\partial}{\\partial x} \\langle x-\\Delta x/2 \\mid \\hat{A} \\mid x + \\Delta x/2\\rangle$$\n",
    ">> then note: \n",
    "$$ [\\hat{\\rho}, \\hat{H}] = [\\hat{\\rho}, \\hat{p}^2/2m] + [\\hat{\\rho}, \\hat{V}] = \\frac{1}{2m} [[\\hat{\\rho},\\hat{p}]_+,\\hat{p}] + [\\hat{\\rho},\\hat{V}]$$\n",
    ">> * first term by Wigner transform:  \n",
    "$$ \\langle x-\\Delta x/2 \\mid \\frac{1}{2m} [[\\hat{\\rho},\\hat{p}]_+,\\hat{p}] \\mid x + \\Delta x/2\\rangle \\\\\n",
    "= -\\frac{\\hbar^2}{m} \\frac{\\partial}{\\partial x}\\frac{\\partial}{\\partial \\Delta x} \\langle x-\\Delta x/2 \\mid \\hat{\\rho} \\mid x + \\Delta x/2\\rangle $$ \n",
    ">> so:  \n",
    "$$\\frac{1}{2\\pi\\hbar} \\int d\\Delta x  \\langle x-\\Delta x/2 \\mid -\\frac{1}{i\\hbar}[\\hat{\\rho},\\hat{T}] \\mid x + \\Delta x/2\\rangle e^{i\\Delta xp/\\hbar} \\\\\n",
    "=\\frac{1}{2\\pi\\hbar} \\int d\\Delta x (-\\frac{1}{i\\hbar})(-\\frac{\\hbar^2}{m}) \\big\\{ \\frac{\\partial}{\\partial x}\\frac{\\partial}{\\partial \\Delta x} \\langle x-\\Delta x/2 \\mid \\hat{\\rho} \\mid x + \\Delta x/2\\rangle \\big\\}e^{i\\Delta xp/\\hbar} \\\\\n",
    "\\overset{PI}{=} - \\frac{\\partial}{\\partial x} \\frac{1}{2\\pi\\hbar} \\int d\\Delta x (-\\frac{1}{i\\hbar}) (-\\frac{\\hbar^2}{m}) \\frac{ip}{\\hbar} \\langle x-\\Delta x/2 \\mid \\hat{\\rho} \\mid x + \\Delta x/2\\rangle e^{i\\Delta xp/\\hbar} \\\\\n",
    "= - \\frac{p}{m}\\frac{\\partial}{\\partial x} \\frac{1}{2\\pi\\hbar} \\int \\Delta x \\langle x-\\Delta x/2 \\mid \\hat{\\rho} \\mid x + \\Delta x/2\\rangle e^{i\\Delta xp/\\hbar} \\\\\n",
    "= - \\frac{p}{m}\\frac{\\partial}{\\partial x} P_W\n",
    "$$\n",
    "note here used part integal (PI) trick:  \n",
    "$$ \\frac{\\partial}{\\partial \\Delta x} \\{ \\langle x-\\Delta x/2 \\mid \\hat{\\rho} \\mid x + \\Delta x/2\\rangle \\} e^{i\\Delta xp/\\hbar} \\\\\n",
    "= \\frac{\\partial}{\\partial \\Delta x} \\{ \\langle x-\\Delta x/2 \\mid \\hat{\\rho} \\mid x + \\Delta x/2\\rangle e^{i\\Delta xp/\\hbar} \\} \n",
    "- \\langle x-\\Delta x/2 \\mid \\hat{\\rho} \\mid x + \\Delta x/2\\rangle \\frac{\\partial}{\\partial \\Delta x} \\{  e^{i\\Delta xp/\\hbar} \\}$$\n",
    "and note \n",
    "$$\\langle x-\\Delta x/2 \\mid \\hat{\\rho} \\mid x + \\Delta x/2\\rangle e^{i\\Delta xp/\\hbar} \\big|_{\\Delta x = -\\infty}^{\\Delta x = \\infty} =0$$\n",
    ">> * second term by Wigner transform\n",
    "$$\\frac{1}{2\\pi\\hbar} \\int d\\Delta x \\langle x-\\Delta x/2 \\mid [\\hat{\\rho},\\hat{V}] \\mid x+\\Delta x/2 \\rangle e^{i\\Delta xp/\\hbar} \\\\\n",
    "= \\frac{1}{2\\pi\\hbar} \\int d\\Delta x \\langle x-\\Delta x/2 \\mid \\hat{\\rho} \\mid x+\\Delta x/2 \\rangle e^{i\\Delta xp/\\hbar}  (V(x+\\Delta x/2) - V(x-\\Delta x/2))\\\\\n",
    "= \\frac{1}{2\\pi\\hbar} \\int d\\Delta x \\langle x-\\Delta x/2 \\mid \\hat{\\rho} \\mid x+\\Delta x/2 \\rangle e^{i\\Delta xp/\\hbar}  \\sum_{k=0} \\frac{2}{(2k+1)!}V^{(2k+1)}(\\frac{\\Delta x}{2})^{2k+1}\\\\\n",
    "$$\n",
    ">> attention: $\\Delta x \\sim \\frac{\\hbar}{i} \\frac{\\partial}{\\partial p}$\n",
    "$$\\frac{1}{2\\pi\\hbar} \\int d\\Delta x \\langle x-\\Delta x/2 \\mid - \\frac{1}{i\\hbar} [\\hat{\\rho},\\hat{V}] \\mid x+\\Delta x/2 \\rangle e^{i\\Delta xp/\\hbar} \\\\\n",
    "= (-\\frac{1}{i\\hbar})\\sum_{k=0} \\frac{1}{(2k+1)!2^{2k}}V^{(2k+1)} (\\frac{\\hbar\\partial}{i\\partial p})^{2k+1} \n",
    "\\Big\\{ \\frac{1}{2\\pi\\hbar} \\int d\\Delta x \\langle x-\\Delta x/2 \\mid \\hat{\\rho} \\mid x+\\Delta x/2 \\rangle e^{i\\Delta xp/\\hbar} \\Big\\} \\\\\n",
    "=  \\sum_{k=0}^{\\infty} \\frac{(-1)^k \\hbar^{2k}}{(2k+1)!2^{2k}}V^{(2k+1)}(x)\\frac{\\partial^{2k+1}}{\\partial p^{2k+1}} P_W\n",
    "$$"
   ]
  },
  {
   "cell_type": "markdown",
   "metadata": {},
   "source": [
    "> * Husimi phase space  \n",
    "$$ \\frac{\\partial}{\\partial t}P_H (x,p;t) = -\\frac{\\partial P_H}{\\partial x} \\frac{p}{m} + \\frac{\\partial P_H}{\\partial p} V'(x) - \\frac{\\hbar^2\\Gamma}{2m}\\frac{\\partial^2 P_H}{\\partial p \\partial x} + \\hbar\\frac{V^{(2)}}{2!}\\frac{\\partial}{\\partial p} \\langle x,p\\mid (-i\\overleftarrow{\\partial}_p ) \\frac{\\hat{\\rho}}{2\\pi\\hbar} + \\frac{\\hat{\\rho}}{2\\pi\\hbar} (-i\\overrightarrow{\\partial}_p ) \\mid x,p\\rangle \\\\\n",
    "+ \\hbar^2\\frac{V^{(3)}}{3!}\\frac{\\partial}{\\partial p} \\langle x,p\\mid (-i\\overleftarrow{\\partial}_p)^2 \\frac{\\hat{\\rho}}{2\\pi\\hbar} + (-i\\overleftarrow{\\partial}_p) \\frac{\\hat{\\rho}}{2\\pi\\hbar} (-i\\overrightarrow{\\partial}_p) + \\frac{\\hat{\\rho}}{2\\pi\\hbar} (-i\\overrightarrow{\\partial}_p)^2  \\mid x,p\\rangle + \\cdots$$\n",
    "the derivation can be formed as:\n",
    ">> note that:\n",
    "$$\\langle y \\mid \\hat{p} \\mid x,p\\rangle = i\\hbar \\frac{\\partial}{\\partial x} \\langle y\\mid x,p\\rangle -i\\hbar \\frac{\\partial}{\\partial y} \\langle y\\mid x,p\\rangle = -i\\hbar [-\\Gamma(y-x)+\\frac{i}{\\hbar}p] \\langle y\\mid x,p\\rangle$$\n",
    ">> so that ( by inserting $\\hat{I}$ ):  \n",
    "$$ \\langle x,p\\mid [\\hat{A},\\hat{p}]_+ \\mid x,p\\rangle = (2p+\\hbar^2\\Gamma\\frac{\\partial}{\\partial p})  \\langle x,p\\mid \\hat{A} \\mid x,p\\rangle $$\n",
    "$$ \\langle x,p\\mid [\\hat{A},\\hat{p}] \\mid x,p\\rangle = i\\hbar\\frac{\\partial}{\\partial x} \\langle x,p\\mid \\hat{A} \\mid x,p\\rangle $$\n",
    ">> * the first term:  \n",
    "$$ \\langle x,p\\mid -\\frac{1}{i\\hbar} [\\hat{\\rho},\\hat{p}^2/2m] \\mid x,p\\rangle = -\\frac{\\partial P_H}{\\partial x} \\frac{p}{m} - \\frac{\\hbar^2\\Gamma}{2m}\\frac{\\partial^2 P_H}{\\partial p \\partial x}$$\n",
    ">> * second term:  \n",
    "$$ \\langle x,p\\mid -\\frac{1}{i\\hbar} [\\hat{\\rho},V] \\mid x,p\\rangle = \\int dy \\int dy' \\langle x,p\\mid y \\rangle\\langle y \\mid \\hat{\\rho} \\mid y' \\rangle\\langle y'\\mid x,p\\rangle (V(y')-V(y)) $$\n",
    "then expansion as $V(y)=V(x+(y-x))$ and $V(y')=V(x+(y'-x))$:  \n",
    "$$\\langle x,p\\mid -\\frac{1}{i\\hbar} [\\hat{\\rho},V] \\mid x,p\\rangle \n",
    "= \\hbar\\frac{V^{(2)}}{2!}\\frac{\\partial}{\\partial p} \\langle x,p\\mid (-i\\overleftarrow{\\partial}_p ) \\frac{\\hat{\\rho}}{2\\pi\\hbar} + \\frac{\\hat{\\rho}}{2\\pi\\hbar} (-i\\overrightarrow{\\partial}_p ) \\mid x,p\\rangle \\\\\n",
    "+ \\hbar^2\\frac{V^{(3)}}{3!}\\frac{\\partial}{\\partial p} \\langle x,p\\mid (-i\\overleftarrow{\\partial}_p)^2 \\frac{\\hat{\\rho}}{2\\pi\\hbar} + (-i\\overleftarrow{\\partial}_p) \\frac{\\hat{\\rho}}{2\\pi\\hbar} (-i\\overrightarrow{\\partial}_p) + \\frac{\\hat{\\rho}}{2\\pi\\hbar} (-i\\overrightarrow{\\partial}_p)^2  \\mid x,p\\rangle + \\cdots\n",
    "$$\n",
    "\n",
    "it have a complex form as ( how to proove easily? ):\n",
    "$$ \\frac{\\partial}{\\partial t}P_H (x,p;t) = -\\frac{\\partial P_H}{\\partial x} \\frac{p}{m} - \\frac{\\hbar^2\\Gamma}{2m}\\frac{\\partial^2 P_H}{\\partial p \\partial x} + \\sum_{l=1}^{\\infty}\\sum_{j=0}^{\\infty}\\sum_{k=0}^{[j/2]} \\frac{(-1)^l \\hbar^{2l}}{\\Gamma^{j-k}2^{2l+j}(2l+1)!k!(j-2k)!} \\frac{\\partial^{j+2l+1}\\partial^{2l+1}\\partial^{j-2k}}{\\partial x^{j+2l=1}\\partial p^{2l+1}\\partial x^{j-2k}} P_H$$"
   ]
  },
  {
   "cell_type": "markdown",
   "metadata": {},
   "source": [
    "# Several calculation in ( Wigner ) phase space "
   ]
  },
  {
   "cell_type": "markdown",
   "metadata": {},
   "source": [
    "# Possiblity of two-pairs values of quantum phase space"
   ]
  },
  {
   "cell_type": "markdown",
   "metadata": {},
   "source": []
  }
 ],
 "metadata": {
  "kernelspec": {
   "display_name": "Python 3",
   "language": "python",
   "name": "python3"
  },
  "language_info": {
   "codemirror_mode": {
    "name": "ipython",
    "version": 3
   },
   "file_extension": ".py",
   "mimetype": "text/x-python",
   "name": "python",
   "nbconvert_exporter": "python",
   "pygments_lexer": "ipython3",
   "version": "3.5.4"
  }
 },
 "nbformat": 4,
 "nbformat_minor": 2
}
