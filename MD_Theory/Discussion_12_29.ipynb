{
 "cells": [
  {
   "cell_type": "markdown",
   "metadata": {},
   "source": [
    "# About literatures arrangement"
   ]
  },
  {
   "cell_type": "markdown",
   "metadata": {},
   "source": [
    "---\n",
    "\n",
    "## trace the journals, focus on  \n",
    "**one should PPT to Xu Yan**\n",
    "\n",
    "* JACS, [JACS web]() Wang-Wan.\n",
    "* JCP, every Thusday night update  [JCP web](https://aip.scitation.org/journal/jcp). Wang, Liu\n",
    "* JCTC, (every month 40-60). [JCTC](). Zhang, Yan.\n",
    "* JPC (A/B/C/L) feature article. [JPC web](). A:Lin, B:Zheng, C:He, L:Post-Dr.\n",
    "> * [JPC C](https://pubs.acs.org/journal/jpccck)\n",
    "* PRL, article related theory. (every week) [PRL](). Li, Chen. \n",
    "> * [PRL](https://journals.aps.org/prl/)\n",
    "* molecular physics. "
   ]
  },
  {
   "cell_type": "markdown",
   "metadata": {},
   "source": [
    "---\n",
    "## some interesting topics / self rearch relared.    "
   ]
  },
  {
   "cell_type": "markdown",
   "metadata": {},
   "source": [
    "# About report  arrangement\n",
    "---\n",
    "Friday report  \n",
    "* progression report\n",
    "* topic report\n",
    "* literature report  \n",
    "\n",
    "Saturday discuss  \n"
   ]
  },
  {
   "cell_type": "markdown",
   "metadata": {},
   "source": [
    "# Discussion  \n",
    "--- \n",
    "**Dezhang Li: 2018.12.29**  \n",
    "\n",
    "$$\n",
    "\\hat{\\rho}(t)=e^{-iHt}\\hat{\\rho}e^{iHt}\n",
    "\\\\\n",
    "\\frac{\\partial}{\\partial t}\\rho =- \\frac{1}{i\\hbar}[\\rho,H]\n",
    "$$"
   ]
  },
  {
   "cell_type": "markdown",
   "metadata": {},
   "source": [
    "gives wigner phase space Liouville dynamics:  \n",
    "$$\n",
    "\\frac{\\partial}{\\partial t} \\rho_W = -\\frac{p}{m} \\frac{\\partial}{\\partial p} \\rho + ...\n",
    "$$\n",
    "the time averaging:  \n",
    "$$\n",
    "\\langle B(t) \\rangle = \\int dx_0 dp_0 \\rho(x_0,p_0)B(x_t,p_t) \n",
    "$$"
   ]
  },
  {
   "cell_type": "markdown",
   "metadata": {},
   "source": [
    "assuming (**Be Ansantz**)\n",
    "$$\n",
    "\\rho(x,p;t) = \\int dx_0 dp_0 \\delta(x-x_t(x_0,p_0))\\delta(p-p_t(x_0,p_0))\\rho(x,p;0)\n",
    "$$\n",
    "the continuity equation can be derived from the differentiation.  \n",
    "$$\n",
    "\\frac{\\partial}{\\partial t}\\rho_t = - \\frac{\\partial}{\\partial x}(x\\rho_t) - \\frac{\\partial}{\\partial p}(p\\rho_t)\n",
    "$$"
   ]
  },
  {
   "cell_type": "markdown",
   "metadata": {},
   "source": [
    "the conjugate operator:  \n",
    "$$\n",
    "I(t) = \\int dx_0 dp_0 A(x_0,p_0) B(x_t,p_t)\n",
    "\\\\\n",
    "\\frac{\\partial}{\\partial t} I(t) = \\int dx_0 dp_0 A(x_0,p_0) L B(x_t,p_t) = \\int dx_0 dp_0 L^* A(x_0,p_0)  B(x_t,p_t)\n",
    "$$\n",
    "if choose dynamics\n",
    "$$\n",
    "\\dot{x_t} = f(x_t,p_t)\n",
    "\\\\\n",
    "\\dot{p_t} = g(x_t,p_t)\n",
    "$$\n",
    "gives\n",
    "$$\n",
    "L = f\\cdot \\nabla_x + g\\cdot \\nabla_p\n",
    "\\\\\n",
    "L^* = - \\nabla_x (f\\cdot) - \\nabla_p (g\\cdot)\n",
    "$$"
   ]
  },
  {
   "cell_type": "markdown",
   "metadata": {},
   "source": [
    "1) integral should be equal \n",
    "$$\n",
    "\\int dx_0 dp_0 A(x_0,p_0) B(x_t,p_t) \\quad ?= \\quad \\int dx_0 dp_0 A(x_{-t},p_{-t}) B(x_0,p_0)\n",
    "$$\n",
    "the later gives dynamics on A\n",
    "$$\n",
    "L^* A = \n",
    "$$"
   ]
  },
  {
   "cell_type": "code",
   "execution_count": null,
   "metadata": {},
   "outputs": [],
   "source": []
  }
 ],
 "metadata": {
  "kernelspec": {
   "display_name": "Python 3",
   "language": "python",
   "name": "python3"
  },
  "language_info": {
   "codemirror_mode": {
    "name": "ipython",
    "version": 3
   },
   "file_extension": ".py",
   "mimetype": "text/x-python",
   "name": "python",
   "nbconvert_exporter": "python",
   "pygments_lexer": "ipython3",
   "version": "3.6.4"
  }
 },
 "nbformat": 4,
 "nbformat_minor": 2
}
