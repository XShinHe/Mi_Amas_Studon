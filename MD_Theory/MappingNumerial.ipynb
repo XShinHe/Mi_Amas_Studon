{
 "cells": [
  {
   "cell_type": "code",
   "execution_count": 20,
   "metadata": {},
   "outputs": [
    {
     "name": "stdout",
     "output_type": "stream",
     "text": [
      "[[ 0.06  0.22 -0.22  0.08]\n",
      " [ 0.22  1.12 -0.08  0.25]\n",
      " [-0.22 -0.08  1.12 -0.25]\n",
      " [ 0.08  0.25 -0.25  2.04]]\n",
      "[[ 9.68595036e-01 -3.98854639e-16 -2.32624857e-01  8.78028031e-02]\n",
      " [-1.75781313e-01  7.07106781e-01 -6.35570582e-01  2.55246872e-01]\n",
      " [ 1.75781313e-01  7.07106781e-01  6.35570582e-01 -2.55246872e-01]\n",
      " [ 5.05141313e-03  4.71844785e-16  3.71464327e-01  9.28433485e-01]]\n",
      "[0.00770933 0.06515097 0.06515097 0.86198874]\n"
     ]
    }
   ],
   "source": [
    "import numpy as np\n",
    "M = np.array([[0.06,0.22,-0.22,0.08],[0.22,1.12,-0.08,0.25],[-0.22,-0.08,1.12,-0.25],[0.08,0.25,-0.25,2.04]])\n",
    "print(M)\n",
    "eige,eigv=np.linalg.eigh(M)\n",
    "print(eigv)\n",
    "print(eigv[:,3]**2)"
   ]
  },
  {
   "cell_type": "code",
   "execution_count": null,
   "metadata": {},
   "outputs": [],
   "source": []
  }
 ],
 "metadata": {
  "kernelspec": {
   "display_name": "Python 3",
   "language": "python",
   "name": "python3"
  },
  "language_info": {
   "codemirror_mode": {
    "name": "ipython",
    "version": 3
   },
   "file_extension": ".py",
   "mimetype": "text/x-python",
   "name": "python",
   "nbconvert_exporter": "python",
   "pygments_lexer": "ipython3",
   "version": "3.5.4"
  }
 },
 "nbformat": 4,
 "nbformat_minor": 2
}
