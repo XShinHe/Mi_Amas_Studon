{
 "cells": [
  {
   "cell_type": "markdown",
   "metadata": {},
   "source": [
    "### semi-classical implement of mapping-method "
   ]
  },
  {
   "cell_type": "markdown",
   "metadata": {},
   "source": [
    "Hamiltonian \n",
    "$$\n",
    "\\hat{H} = \\frac{P^2}{2M} + \\sum_k \\frac{1}{2}(x_k^2 + p_k^2-\\hbar) \\Omega_{kk} + \\sum_{k<k'}(x_k x_{k'}+ p_k p_{k'}) \\Omega_{kk'} \n",
    "$$"
   ]
  },
  {
   "cell_type": "markdown",
   "metadata": {},
   "source": [
    "the propagator:\n",
    "$$\n",
    "\\langle x_t R_t \\mid e^{-iHt/\\hbar} \\mid x_0 R_0 \\rangle\n",
    "\\\\\n",
    "= \\lim_{P\\to \\infty} \\int d\\{R,x\\} \\prod_{j=0}^{P-1} \\langle x_{j+1} R_{j+1} \\mid e^{-iH\\epsilon/\\hbar} \\mid x_j R_j \\rangle\n",
    "$$"
   ]
  },
  {
   "cell_type": "markdown",
   "metadata": {},
   "source": [
    "$$\n",
    "e^{-iHt/\\hbar} = \\lim_{P\\to \\infty} \\int d\\{R,x\\} \\big(\\frac{2\\pi\\hbar M}{i\\epsilon}\\big)^{P/2} \\big\\{\\prod_{j=0}^{P-1}\\prod_{k=1}^d \\big( \\frac{2\\pi\\hbar}{i\\epsilon\\omega_k(R_j)}\\big)^{1/2} \\big\\}\n",
    "\\times\n",
    "\\exp[\\frac{iM}{2\\hbar\\epsilon}\\sum_{j=0}^{P-1}(R_{j+1}-R_j)^2]\n",
    "\\\\ \\times\n",
    "\\exp[\\frac{i}{2\\hbar\\epsilon}\\sum_{j=0}^{P-1}(x_{j+1}-x_j)^T\\Omega^{-1}(R_j) (x_{j+1}-x_j) ]\n",
    "\\exp[-\\frac{i\\epsilon}{2\\hbar}\\sum_{j=0}^{P-1}x_j^T\\Omega(R_j) x_j ]\n",
    "\\exp[\\frac{i\\epsilon}{2}\\sum_{j=0}^{P-1}Tr[\\Omega(R_j)]]\n",
    "\\\\ \\times\n",
    "\\mid x_t R_t \\rangle \\langle x_0 R_0 \\mid\n",
    "$$"
   ]
  },
  {
   "cell_type": "markdown",
   "metadata": {},
   "source": [
    "$$\n",
    "\\langle \\Psi \\mid e^{-iHt} \\mid \\Psi \\rangle = \\int dR_t dx_t dR_0 dx_0 \\langle \\Psi \\mid R_t x_t \\rangle\\langle R_0 x_0\\mid \\Psi \\rangle\n",
    "\\\\ \\times \\prod_{k=1}^d \\sqrt{\\omega_k(R_t)} \\big\\{ \\int \\mathcal{D}[R(\\tau)] \\mathcal{D}[x(\\tau)] e^{iS(R(\\tau),x(\\tau))/\\hbar} e^{i\\int_0^t d\\tau Tr[\\Omega(R_{\\tau})]} \\big\\}\n",
    "$$"
   ]
  },
  {
   "cell_type": "markdown",
   "metadata": {},
   "source": [
    "$\\delta S = 0$ gives the classical path"
   ]
  },
  {
   "cell_type": "markdown",
   "metadata": {},
   "source": [
    "* 2003"
   ]
  },
  {
   "cell_type": "markdown",
   "metadata": {},
   "source": [
    "$$\n",
    "\\hat{H} = \\frac{P^2}{2M} + \\sum_k \\frac{1}{2}(x_k^2 + p_k^2-\\hbar) \\Omega_{kk} + \\sum_{k<k'}(x_k x_{k'}+ p_k p_{k'}) \\Omega_{kk'} \n",
    "$$"
   ]
  },
  {
   "cell_type": "code",
   "execution_count": null,
   "metadata": {},
   "outputs": [],
   "source": []
  }
 ],
 "metadata": {
  "kernelspec": {
   "display_name": "Python 3",
   "language": "python",
   "name": "python3"
  },
  "language_info": {
   "codemirror_mode": {
    "name": "ipython",
    "version": 3
   },
   "file_extension": ".py",
   "mimetype": "text/x-python",
   "name": "python",
   "nbconvert_exporter": "python",
   "pygments_lexer": "ipython3",
   "version": "3.5.4"
  }
 },
 "nbformat": 4,
 "nbformat_minor": 2
}
