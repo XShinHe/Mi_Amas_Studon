{
 "cells": [
  {
   "cell_type": "markdown",
   "metadata": {},
   "source": [
    "# The Course I:   \n",
    "2018-11-06"
   ]
  },
  {
   "cell_type": "markdown",
   "metadata": {},
   "source": [
    "## the reduced density function"
   ]
  },
  {
   "cell_type": "markdown",
   "metadata": {},
   "source": [
    "* partition function and reduced density"
   ]
  },
  {
   "cell_type": "markdown",
   "metadata": {},
   "source": [
    "* the reversible work theorem"
   ]
  },
  {
   "cell_type": "markdown",
   "metadata": {},
   "source": [
    "## correlation function and Onsager the reversible relation "
   ]
  },
  {
   "cell_type": "markdown",
   "metadata": {},
   "source": [
    "* correlation function"
   ]
  },
  {
   "cell_type": "markdown",
   "metadata": {},
   "source": [
    "* the linear regression hypothesis (Onsager)"
   ]
  },
  {
   "cell_type": "markdown",
   "metadata": {},
   "source": [
    "## Chemical dynamics and TST"
   ]
  }
 ],
 "metadata": {
  "kernelspec": {
   "display_name": "Python 3",
   "language": "python",
   "name": "python3"
  },
  "language_info": {
   "codemirror_mode": {
    "name": "ipython",
    "version": 3
   },
   "file_extension": ".py",
   "mimetype": "text/x-python",
   "name": "python",
   "nbconvert_exporter": "python",
   "pygments_lexer": "ipython3",
   "version": "3.5.4"
  }
 },
 "nbformat": 4,
 "nbformat_minor": 2
}
