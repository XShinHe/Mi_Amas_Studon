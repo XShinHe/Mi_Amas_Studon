{
 "cells": [
  {
   "cell_type": "markdown",
   "metadata": {},
   "source": [
    "<h4 style=\"text-align:right\">CCME,&nbsp; Peking University</h4>\n",
    "***\n",
    "<p>\n",
    "<h1 style=\"text-align:center\"><font face=\"Times Roman\" size=8> Basic of MD</font></h1>\n",
    "<br>\n",
    "<h2 style=\"text-align:center\"><font face=\"Times Roman\">Author &nbsp;XShinHe</font> </h2>\n",
    "<h2 style=\"text-align:center\"><font face=\"Times Roman\">2018.7</font> </h2>"
   ]
  },
  {
   "cell_type": "markdown",
   "metadata": {},
   "source": [
    "# cotents"
   ]
  },
  {
   "cell_type": "markdown",
   "metadata": {},
   "source": [
    "> * classical mechanics\n",
    "> * classical statistic mechanics\n",
    "> * Monte Carlo simulation \n",
    "> * Moleculer Dynamics simulation\n",
    ">> * algorithm of spiltting method\n",
    ">> * algorithm of thermostat method\n",
    ">> * algorithm of random-number method\n",
    ">> * algorithm of contraint method\n",
    ">> * acceleration technology\n",
    "> * CMD and RPMD comparation\n",
    "> * PIMD skills\n",
    "> * quantum phase space\n",
    "> * approximation skills to PILD"
   ]
  },
  {
   "cell_type": "markdown",
   "metadata": {},
   "source": [
    "## classical mechanics"
   ]
  },
  {
   "cell_type": "markdown",
   "metadata": {},
   "source": [
    "> __here provide a good reference of  Goldstein's classical mechanics book__"
   ]
  },
  {
   "cell_type": "markdown",
   "metadata": {},
   "source": [
    "> * Newton's law:\n",
    "$$m\\ddot{\\vec{r}_i}=F_i(\\vec{r}_1,\\cdots,\\vec{r}_N)$$\n",
    "\n",
    "> * Langrange equation  \n",
    "if we here define Langrangian: $L =T-V$, then:  \n",
    "$$\\frac{d}{dt}(\\frac{\\partial L}{\\partial \\dot{r}_k}) - \\frac{\\partial L}{\\partial r_k} = 0 $$\n",
    "which can be derived from varitional method with least action priciples:  \n",
    "$$\\delta S = \\delta \\int_{t_0}^{t_1}dt L(\\mathbf{r},\\mathbf{\\dot{r}},t)\n",
    "= \\sum_k \\int_{t_0}^{t_1}dt \\{\\frac{\\partial L}{\\partial r_k}\\delta r_k + \\frac{\\partial L}{\\partial {\\dot{r}}_k}\\delta \\dot{r}_k\\} \\\\\n",
    "= \\sum_k \\frac{\\partial L}{\\partial {\\dot{r}}_k}\\delta r_k \\big|_{t0}^{t1}\n",
    "+ \\sum_k \\int_{t_0}^{t_1}dt \\delta r_k  \\{\\frac{\\partial L}{\\partial r_k} - \\frac{d}{dt}\\frac{\\partial L}{\\partial {\\dot{r}}_k}\\} \\\\\n",
    "= \\sum_k \\int_{t_0}^{t_1}dt \\delta r_k  \\{\\frac{\\partial L}{\\partial r_k} - \\frac{d}{dt}\\frac{\\partial L}{\\partial {\\dot{r}}_k}\\} = 0\n",
    "$$\n",
    "> for $\\delta r_k =0$ at time $t_0$ and time $t_1$, and can be any arbitrary at other any time, we thendraw the conclusio of Langrange equation. \n",
    "\n",
    ">> * note in general coordinates, the general form of kinetics is:  \n",
    "$$T = \\frac{1}{2}\\sum_{\\alpha} \\sum_{\\beta} G_{\\alpha\\beta} \\dot{q}_{\\alpha} \\dot{q}_{\\beta} $$\n",
    "where the general mass $G_{\\alpha\\beta}$ note as:\n",
    "$$G_{\\alpha\\beta} = \\sum_i m_i \\frac{\\partial r_i}{\\partial q_{\\alpha}} \\frac{\\partial r_i}{\\partial q_{\\beta}} $$ \n",
    "\n",
    ">> * the Lagrangian in general form:  \n",
    "$$L = T - V = \\sum_i \\frac{1}{2}m_i \\dot{r}_i^2 - V(r_1,\\cdots,r_N) \\\\\n",
    "=\\frac{1}{2}\\sum_{\\alpha} \\sum_{\\beta} G_{\\alpha\\beta} \\dot{q}_{\\alpha} \\dot{q}_{\\beta} - V(q_1,\\dots,q_N)$$\n",
    ">> * spherical coordinates:\n",
    "$$L = \\frac{1}{2}m(\\dot{r}^2 + r^2\\dot{\\theta}^2 + r^2sin^2\\theta\\dot{\\phi}^2 ) - V(r)$$\n",
    "\n",
    ">> * two-body system\n",
    "$$L = \\frac{1}{2}M \\dot{R}^2 + \\frac{1}{2}\\mu\\dot{r}^2 - V(|r|)$$\n",
    "where $M$ is the total mass, $\\mu$ is reductive mass, $R$ is the mass-point postion vector, $r$ is the relative position vector.  \n",
    "\n",
    "> * Hamilton equation  \n",
    "if we define general momenta from Lagrangian: \n",
    "$$p_k \\overset{def}{=} \\frac{\\partial}{\\partial \\dot{q}_k} L = \\sum_{m}G_{km}\\dot{q}_m$$\n",
    "with inversed relation:\n",
    "$$\\dot{q}_k = \\sum_{m}G^{-1}_{km} p_m$$\n",
    "and by Legendre transform, we define Hamilatonian as:\n",
    "$$H(\\mathbf{p},\\mathbf{q},\\mathbf{\\dot{q}},t) = \\sum_k p_k \\dot{q}_k - L\n",
    "=\\frac{1}{2}\\sum_{\\alpha} \\sum_{\\beta} G^{-1}_{\\alpha\\beta} p_{\\alpha} p_{\\beta} + V(q_1,\\dots,q_N)$$\n",
    "one can test directly for $\\frac{\\partial}{\\partial \\dot{q}_k} H =0$, so $H=H(\\mathbf{p},\\mathbf{q},t)$\n",
    ">> * Hamilton conanical equation\n",
    "from Lagrangian euqation and definition of Hamiltonian, one can get:\n",
    "$$ \\dot{q}_k = \\frac{\\partial H}{\\partial p_k}, \\,\\, \\dot{p}_k = -\\frac{\\partial H}{\\partial q_k} $$\n",
    ">> * motions note by Possion brakets:  \n",
    "for $ A = A(\\mathbf{q},\\mathbf{p}) $\n",
    "$$\\frac{d}{dt}A = \\{A, H\\} = \\sum_k^{3N}\\big\\{ \\frac{\\partial A}{\\partial q_k}\\frac{\\partial H}{\\partial p_k} \n",
    "- \\frac{\\partial A}{\\partial p_k}\\frac{\\partial H}{\\partial q_k} \\big\\} $$\n",
    "and for $H$, if time-independent, so energy strikes conservation:\n",
    "$$\\frac{d}{dt}H = \\frac{\\partial}{\\partial t}H = 0$$\n",
    ">> * phase space vector and Contineous equation\n",
    "let $\\mathbf{x} = (q_1,\\cdots,q_{3N},p_1,\\cdots,p_{3N})$  \n",
    "and $\\mathbf{\\eta}(\\mathbf{x}) = (\\frac{\\partial H}{\\partial q_1},\\frac{\\partial H}{\\partial q_{33N}},-\\frac{\\partial H}{\\partial p_1},\\cdots,-\\frac{\\partial H}{\\partial p_{3N}})$  \n",
    "then and a short for Hamiton equation: \n",
    "$$\\dot{\\mathbf{x}} = \\mathbf{\\eta}(\\mathbf{x}) = \\begin{pmatrix} 0 & I \\\\ -I & 0 \\end{pmatrix} \\frac{\\partial H}{\\partial \\mathbf{x}} = \\mathscr{M} \\frac{\\partial H}{\\partial \\mathbf{x}} $$\n",
    "and easily get the continueous equation:  \n",
    "$$\\nabla_{\\mathbf{x}} \\cdot \\dot{\\mathbf{x}}= 0$$  \n",
    ">> * Jacobian Matrix  \n",
    "for $t=0$ at $\\mathbf{x}_0$, for $t$ at $\\mathbf{x}_t$, we define Jacobian matrix:  \n",
    "$$J_{kl} = \\frac{\\partial \\mathbf{x}_t^k}{\\partial \\mathbf{x}_0^l}$$\n",
    "note that symplectic property: \n",
    "$$J^{T} \\mathscr{M} J = \\mathscr{M}$$"
   ]
  },
  {
   "cell_type": "markdown",
   "metadata": {},
   "source": [
    ">* An mechanic model/example of polymer  \n",
    "for given Hamiltonian \n",
    "$$H=\\sum_{i=1}^N \\frac{p_i^2}{2m} + \\sum_{i=1}^{N-1} \\frac{1}{2}m\\omega^2 (\\eta_i - \\eta_{i+1})^2 $$\n",
    "where the $eta$ notes deviation from the equilibrium positions. By applying Newton/Hamilton mechanics, we get:  \n",
    "$$\\ddot{\\eta}_i = - \\omega^2 (2 \\eta_i - \\eta_{i-1} - \\eta_{i+1}) \\\\\n",
    "\\ddot{\\eta}_1 = - \\omega^2 (\\eta_i - \\eta_{i+1}) \\\\\n",
    "\\ddot{\\eta}_N = - \\omega^2 (N\\eta_i - \\eta_{N-1}) \\\\\n",
    "$$\n",
    "this can be solved by FFT with $\\eta_i(t) =\\sum_k c_k a_{ik} e^{i\\omega_k t}$, it's equivalent to a matrix equation: \n",
    "$$ A \\vec{a}_k = \\begin{pmatrix}\n",
    "1 & -1 & 0 & \\cdots & 0 \\\\\n",
    "-1 & 2 & -1 & \\cdots & 0 \\\\\n",
    "0 & -1 & 2 & \\cdots & 0 \\\\\n",
    "\\cdots & \\cdots & \\cdots & \\cdots & \\cdots \\\\\n",
    "0 & 0 & 0 & \\cdots & 1\n",
    "\\end{pmatrix} \\vec{a}_k = \\omega_k^2 \\vec{a}_k$$\n",
    "with:\n",
    "$$\\omega_k^2 = 2\\omega^2 (1-\\cos[\\frac{(k-1)\\pi}{N}])$$"
   ]
  },
  {
   "cell_type": "markdown",
   "metadata": {},
   "source": [
    "> * about Constraint"
   ]
  },
  {
   "cell_type": "markdown",
   "metadata": {},
   "source": [
    "> * Rigid and rotation"
   ]
  },
  {
   "cell_type": "markdown",
   "metadata": {},
   "source": [
    "# classical statistic mechanics"
   ]
  },
  {
   "cell_type": "markdown",
   "metadata": {},
   "source": [
    "> * concept of ensemble\n",
    "> * invariant phase volume  \n",
    "for phase space volume: \n",
    "$$d\\mathbf{x}_t = J(\\mathbf{x}_t;\\mathbf{x}_0) d \\mathbf{x}_0 $$\n",
    "where $J_{kl}=\\frac{\\partial \\mathbf{x}_t^k}{\\partial \\mathbf{x}_0^l}$, then we try to calculate:\n",
    "$$ \\frac{d}{dt}J = \\frac{d}{dt} e^{Tr[Ln J]} = \\cdots =0 $$\n",
    "so:\n",
    "$$ J(\\mathbf{x}_t;\\mathbf{x}_0) = J(\\mathbf{x}_0;\\mathbf{x}_0) = 0 $$\n",
    "or to say: $d\\mathbf{x}_t = d\\mathbf{x}+0 $\n",
    "> * Lagrange picture and Eular picture  \n",
    ">> * lagrange picture  \n",
    "$$ \\delta N_{observe} = \\rho(\\mathbf{x}_t,t)d\\mathbf{x}_t $$\n",
    ">> * Eular picture\n",
    "$$ \\delta N_{observe} = \\rho(\\mathbf{x},t) d\\mathbf{x} $$\n",
    "\n",
    "> from $\\rho^L(\\mathbf{x}_t,t) = \\rho^E(\\mathbf{x},t)$ at $t=0$, then describe the motion by diffferent picture. It's easy to show:\n",
    "$$\\rho^L(\\mathbf{x}_t,t+dt) = \\rho^E(\\mathbf{x}+\\dot{\\mathbf{x}}dt,t+dt)$$\n",
    "expansion and do minus to get:\n",
    "$$\\frac{d}{dt}\\rho^L(\\mathbf{x}_t,t) = \\frac{d}{dt} \\rho^E(\\mathbf{x},t) + \\frac{\\partial \\rho^E}{\\partial \\mathbf{x}} \\dot{\\mathbf{x}} $$\n",
    "> * Liouville theorem:  \n",
    "(from lagrange picture: consider continueous condition)  \n",
    "$$-\\frac{d}{dt}\\int_{\\Omega}d\\mathbf{x}_t \\rho^L(\\mathbf{x}_t,t) = \\int_S dS \\dot{\\mathbf{x}}_t \\cdot \\hat{n} \\rho^L(\\mathbf{x}_t,t) \\\\\n",
    "-\\int_{\\Omega}d\\mathbf{x}_t \\frac{\\partial}{\\partial t}\\rho^L(\\mathbf{x}_t,t) = \\int_{\\Omega} d\\mathbf{x}_t \\nabla\\cdot ( \\dot{\\mathbf{x}}_t \\rho^L(\\mathbf{x}_t,t) ) \\\\\n",
    "\\frac{\\partial}{\\partial t} \\rho^L + \\nabla\\cdot(\\dot{\\mathbf{x}}_t \\rho^L) = 0 \\\\\n",
    "\\frac{\\partial}{\\partial t} \\rho^L + \\dot{\\mathbf{x}}_t \\cdot\\nabla\\rho^L = \\frac{d}{dt}\\rho^L = 0 \\\\\n",
    "$$\n",
    "(from Eular picture )  \n",
    "because we have prooved that\n",
    "$$ \\frac{d}{dt}\\rho^L(\\mathbf{x}_t,t) = \\frac{d}{dt} \\rho^E(\\mathbf{x},t) + \\dot{\\mathbf{x}} \\cdot\\frac{\\partial \\rho^E}{\\partial \\mathbf{x}}  $$\n",
    "note $\\frac{d}{dt}\\rho^E = \\frac{\\partial}{\\partial t}\\rho^E$ in Eular picture, so;\n",
    "$$ \\frac{\\partial}{\\partial t} \\rho^E + \\dot{\\mathbf{x}}_t \\cdot\\nabla\\rho^E = 0  $$\n",
    "\n",
    "> * quantum Liouville's theorem\n",
    "in quantum mechanics, for operator(time-independent!):\n",
    "$$\\frac{d}{dt}\\hat{A} = \\frac{1}{i\\hbar} [\\hat{A},\\hat{H}]$$\n",
    "for density operator ( for $\\hat{\\rho}=\\mid \\psi(t)\\rangle\\langle\\psi(t)\\mid$ ):\n",
    "$$\\frac{d}{dt}\\hat{\\rho} = - \\frac{1}{i\\hbar} [\\hat{\\rho},\\hat{H}]$$\n",
    "one thinf should be noted that only Eular picture is meaningful in quantum mechanics ( for Lagrange picture conflict to heisenberg uncertainty principle )  \n",
    "so quantum $\\frac{d}{dt}\\hat{\\rho}_{qm}$ correspond to classical $\\frac{d}{dt}\\rho^E_{cl} = \\frac{\\partial}{\\partial t}\\rho^E_{cl}$, and note that $\\frac{d}{dt}\\rho^L_{cl}$ have no quantum correspondings."
   ]
  },
  {
   "cell_type": "markdown",
   "metadata": {},
   "source": [
    "# Monte Carlo simulation"
   ]
  },
  {
   "cell_type": "markdown",
   "metadata": {},
   "source": [
    "> * rejection"
   ]
  },
  {
   "cell_type": "code",
   "execution_count": null,
   "metadata": {},
   "outputs": [],
   "source": []
  }
 ],
 "metadata": {
  "kernelspec": {
   "display_name": "Python 3",
   "language": "python",
   "name": "python3"
  },
  "language_info": {
   "codemirror_mode": {
    "name": "ipython",
    "version": 3
   },
   "file_extension": ".py",
   "mimetype": "text/x-python",
   "name": "python",
   "nbconvert_exporter": "python",
   "pygments_lexer": "ipython3",
   "version": "3.5.4"
  }
 },
 "nbformat": 4,
 "nbformat_minor": 2
}
