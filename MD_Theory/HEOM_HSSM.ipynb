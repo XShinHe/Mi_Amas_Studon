{
 "cells": [
  {
   "cell_type": "markdown",
   "metadata": {},
   "source": [
    "<h4 style=\"text-align:right\">CCME,&nbsp; Peking University</h4>\n",
    "***\n",
    "<p>\n",
    "<h1 style=\"text-align:center\"><font face=\"Times Roman\" size=8> Summary of HEOM and HSSM</font></h1>\n",
    "<br>\n",
    "<h2 style=\"text-align:center\"><font face=\"Times Roman\">Author &nbsp;XShinHe</font> </h2>\n",
    "<h2 style=\"text-align:center\"><font face=\"Times Roman\">2018.7</font> </h2>"
   ]
  },
  {
   "cell_type": "markdown",
   "metadata": {},
   "source": [
    "# overview"
   ]
  },
  {
   "cell_type": "markdown",
   "metadata": {},
   "source": [
    "1. 'Simple' Systems with few degrees of freedom: typically quantum optics systems, atoms, few-level systems, cavity modes.  \n",
    "\n",
    "    Weak coupling approximation: Master Equation (Born and Markov Approximation  \n",
    "    Damped harmonic oscillator.  \n",
    "    Solution methods: phase-space methods ($ P$-representation etc.).  \n",
    "    Solution methods: quantum trajectories.  \n",
    "    Correlation Functions, Quantum Regression Theorem.  \n",
    "    Beyond weak coupling approximation: Feynman-Vernon influence functional (path integral) theories; R. P. Feynman, F. L. Vernon, Ann. Phys. (N.Y.) 24, 118 (1963). Non-exponential decay laws at low temperatures.  \n",
    "    Exact solution of damped harmonic oscillator.  \n",
    "    Spin-Boson Problem, Two-Level System.  \n",
    "    Non-Markovian versus Markovian, Lindblad versus non-Lindblad.  \n",
    "    'Non-standard' methods.  \n",
    "\n",
    "2. Systems with many degrees of freedom: typically condensed matter systems, electrons + phonons (particle statistics).\n",
    "  \n",
    "    Quasiclassical kinetic theories, Boltzmann equation.  \n",
    "    Quantum Many-Body Non-Equilibrium Methods. (Keldysh) Greens Function Methods, quantum Boltzmann equation.  \n",
    "\n",
    "In this chapter, we will concentrate on 1. ('Simple' Systems with few degrees of freedom). Also, not discussed in detail in this lecture are  \n",
    "\n",
    "    Nakajima-Zwanzig theories, Mori projection operator theories. These give a more formal approach towards system-bath theories.\n",
    "    Early approaches such as Wigner-Weisskopf theory of spontaneous emission.\n",
    "    ...\n",
    "\n",
    "Generally speaking, quantum dissipation can be regarded as a subfield of non-equilibrium quantum statistics/ non-equilibrium many-body theory."
   ]
  },
  {
   "cell_type": "code",
   "execution_count": null,
   "metadata": {},
   "outputs": [],
   "source": []
  }
 ],
 "metadata": {
  "kernelspec": {
   "display_name": "Python 3",
   "language": "python",
   "name": "python3"
  },
  "language_info": {
   "codemirror_mode": {
    "name": "ipython",
    "version": 3
   },
   "file_extension": ".py",
   "mimetype": "text/x-python",
   "name": "python",
   "nbconvert_exporter": "python",
   "pygments_lexer": "ipython3",
   "version": "3.6.4"
  }
 },
 "nbformat": 4,
 "nbformat_minor": 2
}
